{
 "cells": [
  {
   "cell_type": "markdown",
   "metadata": {},
   "source": [
    "# Example 03: General Use of GLMNetCVClassifier\n",
    "[![Open In Colab](https://colab.research.google.com/assets/colab-badge.svg)](https://colab.research.google.com/github/slickml/slick-ml/blob/master/examples/classification/example_03_GLMNetCVClassifier.ipynb)"
   ]
  },
  {
   "cell_type": "markdown",
   "metadata": {},
   "source": [
    "### Google Colab Configuration"
   ]
  },
  {
   "cell_type": "code",
   "execution_count": 1,
   "metadata": {},
   "outputs": [],
   "source": [
    "# !git clone https://github.com/slickml/slick-ml.git\n",
    "# %cd slick-ml\n",
    "# !pip install -r requirements.txt"
   ]
  },
  {
   "cell_type": "markdown",
   "metadata": {},
   "source": [
    "### Local Environment Configuration"
   ]
  },
  {
   "cell_type": "code",
   "execution_count": 2,
   "metadata": {},
   "outputs": [
    {
     "name": "stdout",
     "output_type": "stream",
     "text": [
      "/Users/atahmassebi/Desktop/AmirStuff/GitHub/slick-ml\n"
     ]
    }
   ],
   "source": [
    "# Change path to project root\n",
    "%cd ../.."
   ]
  },
  {
   "cell_type": "markdown",
   "metadata": {},
   "source": [
    "### Import Python Libraries"
   ]
  },
  {
   "cell_type": "code",
   "execution_count": 3,
   "metadata": {},
   "outputs": [
    {
     "data": {
      "text/html": [
       "<style>.container { width:95% !important; }</style>"
      ],
      "text/plain": [
       "<IPython.core.display.HTML object>"
      ]
     },
     "metadata": {},
     "output_type": "display_data"
    }
   ],
   "source": [
    "%load_ext autoreload\n",
    "\n",
    "# widen the screen\n",
    "from IPython.core.display import display, HTML\n",
    "\n",
    "display(HTML(\"<style>.container { width:95% !important; }</style>\"))\n",
    "\n",
    "# change the path and loading class\n",
    "import os, sys\n",
    "import pandas as pd\n",
    "import numpy as np\n",
    "import seaborn as sns"
   ]
  },
  {
   "cell_type": "code",
   "execution_count": 4,
   "metadata": {},
   "outputs": [
    {
     "data": {
      "text/html": [
       "<style>.container { width:95% !important; }</style>"
      ],
      "text/plain": [
       "<IPython.core.display.HTML object>"
      ]
     },
     "metadata": {},
     "output_type": "display_data"
    }
   ],
   "source": [
    "%autoreload\n",
    "from slickml.classification import GLMNetCVClassifier"
   ]
  },
  {
   "cell_type": "markdown",
   "metadata": {},
   "source": [
    "-----\n",
    "# GLMNetCVClassifier Docstring"
   ]
  },
  {
   "cell_type": "code",
   "execution_count": 5,
   "metadata": {},
   "outputs": [
    {
     "name": "stdout",
     "output_type": "stream",
     "text": [
      "Help on class GLMNetCVClassifier in module slickml.classification:\n",
      "\n",
      "class GLMNetCVClassifier(builtins.object)\n",
      " |  GLMNetCVClassifier(alpha=None, n_lambda=None, n_splits=None, metric=None, scale=True, sparse_matrix=False, fit_intercept=True, cut_point=None, min_lambda_ratio=None, lambda_path=None, tol=None, max_iter=None, random_state=None, max_features=None)\n",
      " |  \n",
      " |  GLMNet CV Classifier.\n",
      " |  This is wrapper using GLM-Net to train a Regularized Linear Model\n",
      " |  via logitic regression and find the optimal penalty values through\n",
      " |  N-Folds cross validation. This function is pretty useful to train\n",
      " |  a Logit-Net model with the ability of feature reduction. Main\n",
      " |  theoretical reference:\n",
      " |  (https://web.stanford.edu/~hastie/glmnet/glmnet_alpha.html)\n",
      " |  \n",
      " |  Parameters\n",
      " |  ----------\n",
      " |  alpha: float, optional (default=0.5)\n",
      " |      The stability parameter, 0 <= alpha <= 1: 0.0 for Ridge, 1.0 for LASSO\n",
      " |  \n",
      " |  n_lambda: int, optional (default=100)\n",
      " |      Maximum number of lambda values to compute\n",
      " |  \n",
      " |  n_splits: int, optional (default=3)\n",
      " |      Number of cross validation folds for computing performance metrics and\n",
      " |      determining lambda_best_ and lambda_max_. If non-zero, must be\n",
      " |      at least 3.\n",
      " |  \n",
      " |  metric: str or callable, optional (default=\"auc\")\n",
      " |      Metric used for model selection during cross validation.\n",
      " |      Valid options are \"accuracy\", \"roc_auc\" (alias = \"auc\"), \"average_precision\",\n",
      " |      \"precision\", \"recall\". Alternatively, supply a function or callable\n",
      " |      object with the following signature \"scorer(estimator, X, y)\".\n",
      " |      Note, the metric function affects the selection of \"lambda_best_\" and\n",
      " |      \"lambda_max_\", fitting the same data ith different metric methods will result\n",
      " |      in the selection of different models.\n",
      " |  \n",
      " |  scale : bool, optional (default=True)\n",
      " |      Flag to standardize (mean of 0.0 and std of 1) input features prior to fitting.\n",
      " |      The final coefficients will be on the scale of the original data regardless\n",
      " |      of the value of the scale flag.\n",
      " |  \n",
      " |  sparse_matrix: bool, optional (default=False)\n",
      " |      Flag to convert data to sparse matrix with csr format. This would increase\n",
      " |      the speed of feature selection for relatively large datasets. Note that when\n",
      " |      \"scale=True\", you would lose sparsity due to standardization process.\n",
      " |  \n",
      " |  fit_intercept : bool, optional (default=True)\n",
      " |      Include an intercept term in the model.\n",
      " |  \n",
      " |  cut_point : float, optional (default=1.0)\n",
      " |      The cut point to use for selecting lambda_best.\n",
      " |      Based on this value, the distance between \"lambda_max\" and \"best_lambda\"\n",
      " |      would be cut_point * standard_error(lambda_max)\n",
      " |      arg_max(lambda) for cv_score(lambda) >= cv_score(lambda_max) - cut_point * standard_error(lambda_max)\n",
      " |  \n",
      " |  min_lambda_ratio: float, optional (default=1e-4)\n",
      " |      In combination with \"n_lambda\", the ratio of the smallest and largest\n",
      " |      values of lambda computed (min_lambda/max_lambda >= min_lambda_ratio).\n",
      " |  \n",
      " |  lambda_path: array, optional (default=None)\n",
      " |      In place of supplying \"n_lambda\", provide an array of specific values\n",
      " |      to compute. The specified values must be in decreasing order. When\n",
      " |      None, the path of lambda values will be determined automatically. A\n",
      " |      maximum of \"n_lambda\" values will be computed.\n",
      " |  \n",
      " |  tol: float, optional (default=1e-7)\n",
      " |      Convergence tolerance\n",
      " |  \n",
      " |  max_iter: int, optional (default=100000)\n",
      " |      Maximum passes over the data\n",
      " |  \n",
      " |  random_state: int, optional (default=1367)\n",
      " |      Seed for the random number generator. The glmnet solver is not\n",
      " |      deterministic, this seed is used for determining the cv folds.\n",
      " |  \n",
      " |  max_features: int, optional (default=None)\n",
      " |      Optional maximum number of features with nonzero coefficients after\n",
      " |      regularization. If not set, defaults to X.shape[1] during fit\n",
      " |      Note, this will be ignored if the user specifies lambda_path.\n",
      " |  \n",
      " |  Attributes\n",
      " |  ----------\n",
      " |  X_train_: pandas.DataFrame()\n",
      " |      Returns training data set.\n",
      " |  \n",
      " |  X_test_: pandas.DataFrame()\n",
      " |      Returns transformed testing data set.\n",
      " |  \n",
      " |  y_train_: numpy.array[int] or list[int]\n",
      " |      Returns the list of training ground truth binary values [0, 1]\n",
      " |  \n",
      " |  y_test_: numpy.array[int] or list[int]\n",
      " |      Returns the list of testing ground truth binary values [0, 1]\n",
      " |  \n",
      " |  coeff_: pandas.DataFrame\n",
      " |      Return the model's non-zero coefficients\n",
      " |  \n",
      " |  intercept_: float\n",
      " |      Return the model's intercept\n",
      " |  \n",
      " |  cv_results_: pandas.DataFrame\n",
      " |      Returns the cross-validation results\n",
      " |  \n",
      " |  results_: dict()\n",
      " |      Returns the model's total results\n",
      " |  \n",
      " |  params_: dict()\n",
      " |      Returns model's fitting parameters\n",
      " |  \n",
      " |  fit(X_train, y_train): instance method\n",
      " |      Returns None and applies the training process using\n",
      " |      the (X_train, y_train) set using glmnet.LogitNet()\n",
      " |  \n",
      " |  predict_proba(X_test, y_test=None): instance method\n",
      " |      Return the prediction probabilities for positive classes. Please note that\n",
      " |      it only reports the probability of the positive class, while the sklearn\n",
      " |      one returns for both and slicing like pred_proba[:, 1]\n",
      " |      is needed for positive class predictions\n",
      " |  \n",
      " |  predict(X_test, y_test=None, threshold=0.5): instance method\n",
      " |      Returns the prediction classes based on the passed threshold.\n",
      " |      The default threshold is set at 0.5.\n",
      " |  \n",
      " |  get_params(): instance method\n",
      " |      Returns params dict\n",
      " |  \n",
      " |  get_intercept(): instance method\n",
      " |      Returns model's intercept\n",
      " |  \n",
      " |  get_coeffs(): instance method\n",
      " |      Returns non-zero coefficients DataFrame\n",
      " |  \n",
      " |  get_cv_results(): instance method\n",
      " |      Returns cross-validation results DataFrame\n",
      " |  \n",
      " |  get_results(): instance method\n",
      " |      Returns model's total results dict\n",
      " |  \n",
      " |  plot_cv_results(): instance method\n",
      " |      Returns plot of cross-validation results\n",
      " |  \n",
      " |  plot_coeff_path(): instance method\n",
      " |      Returns plot of coeff. paths\n",
      " |  \n",
      " |  Methods defined here:\n",
      " |  \n",
      " |  __init__(self, alpha=None, n_lambda=None, n_splits=None, metric=None, scale=True, sparse_matrix=False, fit_intercept=True, cut_point=None, min_lambda_ratio=None, lambda_path=None, tol=None, max_iter=None, random_state=None, max_features=None)\n",
      " |      Initialize self.  See help(type(self)) for accurate signature.\n",
      " |  \n",
      " |  fit(self, X_train, y_train)\n",
      " |      Function to initialize a LogitNet model using (X, y).\n",
      " |      \n",
      " |      Parameters\n",
      " |      ----------\n",
      " |      X_train: numpy.array or pandas.DataFrame\n",
      " |          Training features data\n",
      " |      \n",
      " |      y_train: numpy.array[int] or list[int]\n",
      " |          List of training ground truth binary values [0, 1]\n",
      " |  \n",
      " |  get_coeffs(self)\n",
      " |      Function to return model's parameters.\n",
      " |  \n",
      " |  get_cv_results(self)\n",
      " |      Function to return model's cv results.\n",
      " |  \n",
      " |  get_intercept(self)\n",
      " |      Function to return the model's intercept.\n",
      " |  \n",
      " |  get_params(self)\n",
      " |      Function to return model's parameters.\n",
      " |  \n",
      " |  get_results(self)\n",
      " |      Function to return model's total results.\n",
      " |  \n",
      " |  plot_coeff_path(self, figsize=None, linestyle=None, fontsize=None, grid=True, legend=True, legendloc='center', xlabel=None, ylabel=None, title=None, bbox_to_anchor=None, yscale=None, save_path=None)\n",
      " |      Function to plot GLMNetCVClassfier coefficients' paths.\n",
      " |      \n",
      " |      Parameters\n",
      " |      ----------\n",
      " |      figsize: tuple, optional, (default=(8, 5))\n",
      " |          Figure size\n",
      " |      \n",
      " |      linestyle: str, optional (default=\"-\")\n",
      " |          Linestyle of vertical lambda lines\n",
      " |      \n",
      " |      fontsize: int or float, optional, (default=12)\n",
      " |          Fontsize of the title. The fontsizes of xlabel, ylabel,\n",
      " |          tick_params, and legend are resized with 0.85, 0.85, 0.75,\n",
      " |          and 0.75 fraction of title fontsize, respectively.\n",
      " |      \n",
      " |      grid : bool, optional (default=True)\n",
      " |          Whether to show (x,y) grid on the plot.\n",
      " |      \n",
      " |      legend: bool, optional (default=True)\n",
      " |          Whether to show legend on the plot.\n",
      " |      \n",
      " |      legendloc: str, optional (default=\"center\")\n",
      " |          Legend location.\n",
      " |      \n",
      " |      xlabel : str, optional (default=\"-Log(Lambda\")\n",
      " |          Xlabel of the plot.\n",
      " |      \n",
      " |      ylabel : str, optional (default=\"Coefficients\")\n",
      " |          Ylabel of the plot.\n",
      " |      \n",
      " |      title : str, optional (default=\"Best {lambda_best} with {n} Features\")\n",
      " |          Title of the plot.\n",
      " |      \n",
      " |      yscale: str, optional (default=\"linear\")\n",
      " |          Scale for y-axis (coefficients). Valid options are\n",
      " |          \"linear\", \"log\", \"symlog\", \"logit\". More on:\n",
      " |          https://matplotlib.org/stable/api/_as_gen/matplotlib.pyplot.yscale.html\n",
      " |      \n",
      " |      bbox_to_anchor: tuple, list, optional (default=(1.2, 0.5)\n",
      " |          Relative coordinates for legend location outside of the plot.\n",
      " |      \n",
      " |      save_path: str, optional (default=None)\n",
      " |          The full or relative path to save the plot including the image format.\n",
      " |          For example \"myplot.png\" or \"../../myplot.pdf\"\n",
      " |      \n",
      " |      Returns None\n",
      " |  \n",
      " |  plot_cv_results(self, figsize=None, marker=None, markersize=None, colors=None, linestyle=None, fontsize=None, grid=True, legend=True, legendloc=None, xlabel=None, ylabel=None, title=None, save_path=None)\n",
      " |      Function to plot GLMNetCVClassfier cross-validation results.\n",
      " |      \n",
      " |      Parameters\n",
      " |      ----------\n",
      " |      figsize: tuple, optional, (default=(8, 5))\n",
      " |          Figure size\n",
      " |      \n",
      " |      marker: str, optional, (default=\"o\")\n",
      " |          Marker style\n",
      " |          marker style can be found at:\n",
      " |          (https://matplotlib.org/2.1.1/api/markers_api.html#module-matplotlib.markers)\n",
      " |      \n",
      " |      markersize: int or float, optional, (default=5)\n",
      " |          Markersize\n",
      " |      \n",
      " |      colors: list or tuple\n",
      " |          Colors of the marker, errorbar line, max_lambda line,\n",
      " |          and best_lambda line, respectively. The default colors\n",
      " |          are (\"red\", \"black\", \"purple\", \"navy\"). The length of the\n",
      " |          passed tuple/list should be always four.\n",
      " |      \n",
      " |      linestyle: str, optional (default=\"--\")\n",
      " |          Linestyle of vertical lambda lines\n",
      " |      \n",
      " |      fontsize: int or float, optional, (default=12)\n",
      " |          Fontsize of the title. The fontsizes of xlabel, ylabel,\n",
      " |          tick_params, and legend are resized with 0.85, 0.85, 0.75,\n",
      " |          and 0.85 fraction of title fontsize, respectively.\n",
      " |      \n",
      " |      grid : bool, optional (default=True)\n",
      " |          Whether to show (x,y) grid on the plot.\n",
      " |      \n",
      " |      legend: bool, optional (default=True)\n",
      " |          Whether to show legend on the plot.\n",
      " |      \n",
      " |      legendloc: int or str, optional (default=\"best\")\n",
      " |          Location of legend\n",
      " |      \n",
      " |      xlabel : str, optional (default=\"-Log(Lambda)\")\n",
      " |          Xlabel of the plot.\n",
      " |      \n",
      " |      ylabel : str, optional (default=\"{n_splits}-Folds CV Mean {metric}\"\n",
      " |          Ylabel of the plot.\n",
      " |      \n",
      " |      title : str, optional (default=\"Best {lambda_best} with {n} Features\"\n",
      " |          Title of the plot.\n",
      " |      \n",
      " |      save_path: string or None\n",
      " |          The full or relative path to save the image including the image format.\n",
      " |          For example \"myplot.png\" or \"../../myplot.pdf\"\n",
      " |      \n",
      " |      Returns None\n",
      " |  \n",
      " |  predict(self, X_test, y_test=None, threshold=0.5, lamb=None)\n",
      " |      Function to return the prediction classes based on the passed threshold.\n",
      " |      The default threshold is set at 0.5 while you can find the optimum thresholds\n",
      " |      based on different methods using BinaryClassificationMetrics.\n",
      " |      \n",
      " |      Parameters\n",
      " |      ----------\n",
      " |      X_test: numpy.array or pandas.DataFrame\n",
      " |          Validation features data\n",
      " |      \n",
      " |      y_test: numpy.array[int] or list[int], optional (default=None)\n",
      " |          List of validation ground truth binary values [0, 1]\n",
      " |      \n",
      " |      threshold: float, optional (default=0.5)\n",
      " |          Threshold to define classes based on probabilities.\n",
      " |          predict_proba >= threshold would be defined as 1 else 0.\n",
      " |      \n",
      " |      lamb: array, optional (default=None)\n",
      " |      Values with shape (n_lambda,) of lambda from lambda_path_\n",
      " |      from which to make predictions. If no values are provided (None),\n",
      " |      the returned predictions will be those corresponding to lambda_best_.\n",
      " |      The values of lamb must also be in the range of lambda_path_,\n",
      " |      values greater than max(lambda_path_) or less than  min(lambda_path_)\n",
      " |      will be clipped.\n",
      " |  \n",
      " |  predict_proba(self, X_test, y_test=None, lamb=None)\n",
      " |      Function to return the prediction probabilities for positive classes.\n",
      " |      Please note that it only reports the probability of the positive class,\n",
      " |      while the sklearn one returns for both and slicing like pred_proba[:, 1]\n",
      " |      is needed for positive class predictions. Note that y_test is optional while\n",
      " |      it might not be available in validiation.\n",
      " |      \n",
      " |      Parameters\n",
      " |      ----------\n",
      " |      X_test: numpy.array or pandas.DataFrame\n",
      " |          Validation features data\n",
      " |      \n",
      " |      y_test: numpy.array[int] or list[int], optional (default=None)\n",
      " |          List of validation ground truth binary values [0, 1]\n",
      " |      \n",
      " |      lamb: array, optional (default=None)\n",
      " |      Values with shape (n_lambda,) of lambda from lambda_path_\n",
      " |      from which to make predictions. If no values are provided (None),\n",
      " |      the returned predictions will be those corresponding to lambda_best_.\n",
      " |      The values of lamb must also be in the range of lambda_path_,\n",
      " |      values greater than max(lambda_path_) or less than  min(lambda_path_)\n",
      " |      will be clipped.\n",
      " |  \n",
      " |  ----------------------------------------------------------------------\n",
      " |  Data descriptors defined here:\n",
      " |  \n",
      " |  __dict__\n",
      " |      dictionary for instance variables (if defined)\n",
      " |  \n",
      " |  __weakref__\n",
      " |      list of weak references to the object (if defined)\n",
      "\n"
     ]
    }
   ],
   "source": [
    "help(GLMNetCVClassifier)"
   ]
  },
  {
   "cell_type": "markdown",
   "metadata": {},
   "source": [
    "## Example"
   ]
  },
  {
   "cell_type": "code",
   "execution_count": 6,
   "metadata": {},
   "outputs": [
    {
     "data": {
      "text/html": [
       "<div>\n",
       "<style scoped>\n",
       "    .dataframe tbody tr th:only-of-type {\n",
       "        vertical-align: middle;\n",
       "    }\n",
       "\n",
       "    .dataframe tbody tr th {\n",
       "        vertical-align: top;\n",
       "    }\n",
       "\n",
       "    .dataframe thead th {\n",
       "        text-align: right;\n",
       "    }\n",
       "</style>\n",
       "<table border=\"1\" class=\"dataframe\">\n",
       "  <thead>\n",
       "    <tr style=\"text-align: right;\">\n",
       "      <th></th>\n",
       "      <th>F1</th>\n",
       "      <th>F2</th>\n",
       "      <th>F3</th>\n",
       "      <th>F4</th>\n",
       "      <th>F5</th>\n",
       "      <th>F6</th>\n",
       "      <th>CLASS</th>\n",
       "    </tr>\n",
       "  </thead>\n",
       "  <tbody>\n",
       "    <tr>\n",
       "      <th>0</th>\n",
       "      <td>5.7</td>\n",
       "      <td>4.7</td>\n",
       "      <td>3.7</td>\n",
       "      <td>58.0</td>\n",
       "      <td>249.30</td>\n",
       "      <td>456.47</td>\n",
       "      <td>0</td>\n",
       "    </tr>\n",
       "    <tr>\n",
       "      <th>1</th>\n",
       "      <td>7.7</td>\n",
       "      <td>6.6</td>\n",
       "      <td>4.1</td>\n",
       "      <td>20.0</td>\n",
       "      <td>260.92</td>\n",
       "      <td>443.43</td>\n",
       "      <td>1</td>\n",
       "    </tr>\n",
       "    <tr>\n",
       "      <th>2</th>\n",
       "      <td>6.2</td>\n",
       "      <td>4.3</td>\n",
       "      <td>4.6</td>\n",
       "      <td>59.0</td>\n",
       "      <td>255.63</td>\n",
       "      <td>478.96</td>\n",
       "      <td>1</td>\n",
       "    </tr>\n",
       "    <tr>\n",
       "      <th>3</th>\n",
       "      <td>5.7</td>\n",
       "      <td>4.4</td>\n",
       "      <td>3.8</td>\n",
       "      <td>49.0</td>\n",
       "      <td>195.28</td>\n",
       "      <td>381.94</td>\n",
       "      <td>0</td>\n",
       "    </tr>\n",
       "    <tr>\n",
       "      <th>4</th>\n",
       "      <td>9.1</td>\n",
       "      <td>4.7</td>\n",
       "      <td>4.6</td>\n",
       "      <td>17.0</td>\n",
       "      <td>259.55</td>\n",
       "      <td>395.67</td>\n",
       "      <td>1</td>\n",
       "    </tr>\n",
       "  </tbody>\n",
       "</table>\n",
       "</div>"
      ],
      "text/plain": [
       "    F1   F2   F3    F4      F5      F6  CLASS\n",
       "0  5.7  4.7  3.7  58.0  249.30  456.47      0\n",
       "1  7.7  6.6  4.1  20.0  260.92  443.43      1\n",
       "2  6.2  4.3  4.6  59.0  255.63  478.96      1\n",
       "3  5.7  4.4  3.8  49.0  195.28  381.94      0\n",
       "4  9.1  4.7  4.6  17.0  259.55  395.67      1"
      ]
     },
     "execution_count": 6,
     "metadata": {},
     "output_type": "execute_result"
    }
   ],
   "source": [
    "# loading data\n",
    "df = pd.read_csv(\"data/clf_data.csv\")\n",
    "df.head()"
   ]
  },
  {
   "cell_type": "code",
   "execution_count": 7,
   "metadata": {},
   "outputs": [],
   "source": [
    "# define X, y\n",
    "y = df.CLASS.values\n",
    "X = df.drop([\"CLASS\"], axis=1)"
   ]
  },
  {
   "cell_type": "code",
   "execution_count": 8,
   "metadata": {},
   "outputs": [],
   "source": [
    "from sklearn.model_selection import train_test_split\n",
    "\n",
    "X_train, X_test, y_train, y_test = train_test_split(\n",
    "    X, y, test_size=0.2, shuffle=True, stratify=y, random_state=1367\n",
    ")"
   ]
  },
  {
   "cell_type": "code",
   "execution_count": 9,
   "metadata": {},
   "outputs": [],
   "source": [
    "# train a model\n",
    "clf = GLMNetCVClassifier(alpha=0.3, n_splits=4, metric=\"roc_auc\")\n",
    "clf.fit(X_train, y_train)"
   ]
  },
  {
   "cell_type": "code",
   "execution_count": 10,
   "metadata": {},
   "outputs": [
    {
     "data": {
      "image/png": "[encoded data removed]",
      "text/plain": [
       "<Figure size 576x360 with 1 Axes>"
      ]
     },
     "metadata": {},
     "output_type": "display_data"
    }
   ],
   "source": [
    "# plot cv_results\n",
    "clf.plot_cv_results()"
   ]
  },
  {
   "cell_type": "code",
   "execution_count": 11,
   "metadata": {},
   "outputs": [
    {
     "data": {
      "image/png": "[encoded data removed]",
      "text/plain": [
       "<Figure size 720x576 with 1 Axes>"
      ]
     },
     "metadata": {},
     "output_type": "display_data"
    }
   ],
   "source": [
    "# plot cv_results -> you can customize it\n",
    "clf.plot_cv_results(\n",
    "    figsize=(10, 8),\n",
    "    marker=\"s\",\n",
    "    markersize=10,\n",
    "    colors=[\"pink\", \"purple\", \"green\", \"yellow\"],\n",
    "    linestyle=\"-.\",\n",
    "    fontsize=18,\n",
    "    grid=False,\n",
    "    legend=True,\n",
    "    legendloc=4,\n",
    "    xlabel=\"Your X-Label\",\n",
    "    ylabel=\"Your Y-Label\",\n",
    "    title=\"Your Title\",\n",
    "    save_path=None,\n",
    ")"
   ]
  },
  {
   "cell_type": "code",
   "execution_count": 12,
   "metadata": {},
   "outputs": [
    {
     "data": {
      "image/png": "[encoded data removed]",
      "text/plain": [
       "<Figure size 576x360 with 1 Axes>"
      ]
     },
     "metadata": {},
     "output_type": "display_data"
    }
   ],
   "source": [
    "# plot coeff_paths\n",
    "clf.plot_coeff_path()"
   ]
  },
  {
   "cell_type": "code",
   "execution_count": 13,
   "metadata": {},
   "outputs": [
    {
     "data": {
      "image/png": "[encoded data removed]",
      "text/plain": [
       "<Figure size 576x504 with 1 Axes>"
      ]
     },
     "metadata": {},
     "output_type": "display_data"
    }
   ],
   "source": [
    "# plot coeff_paths\n",
    "clf.plot_coeff_path(\n",
    "    figsize=(8, 7),\n",
    "    linestyle=\"--\",\n",
    "    fontsize=20,\n",
    "    grid=False,\n",
    "    legend=True,\n",
    "    legendloc=\"center\",\n",
    "    xlabel=\"Your X-Label\",\n",
    "    ylabel=\"Your Y-Label\",\n",
    "    title=\"Your Title\",\n",
    "    bbox_to_anchor=(1.1, 0.5),\n",
    "    yscale=\"log\",\n",
    "    save_path=None,\n",
    ")"
   ]
  },
  {
   "cell_type": "code",
   "execution_count": 14,
   "metadata": {},
   "outputs": [
    {
     "data": {
      "text/plain": [
       "array([0.67226913, 0.78299293, 0.9004733 , 0.82784728, 0.7608207 ,\n",
       "       0.81398305, 0.75245062, 0.84565895, 0.88294328, 0.95675485])"
      ]
     },
     "execution_count": 14,
     "metadata": {},
     "output_type": "execute_result"
    }
   ],
   "source": [
    "# pred proba (or clf.y_pred_proba_)\n",
    "# y_test in optional\n",
    "y_pred_proba = clf.predict_proba(X_test)\n",
    "y_pred_proba[:10]"
   ]
  },
  {
   "cell_type": "code",
   "execution_count": 15,
   "metadata": {},
   "outputs": [
    {
     "data": {
      "text/plain": [
       "[1, 1, 1, 1, 1, 1, 1, 1, 1, 1]"
      ]
     },
     "execution_count": 15,
     "metadata": {},
     "output_type": "execute_result"
    }
   ],
   "source": [
    "# pred class (or clf.y_pred_)\n",
    "# threshold can be set\n",
    "y_pred = clf.predict(X_test, threshold=0.67)\n",
    "y_pred[:10]"
   ]
  },
  {
   "cell_type": "code",
   "execution_count": 16,
   "metadata": {},
   "outputs": [
    {
     "data": {
      "text/html": [
       "<div>\n",
       "<style scoped>\n",
       "    .dataframe tbody tr th:only-of-type {\n",
       "        vertical-align: middle;\n",
       "    }\n",
       "\n",
       "    .dataframe tbody tr th {\n",
       "        vertical-align: top;\n",
       "    }\n",
       "\n",
       "    .dataframe thead th {\n",
       "        text-align: right;\n",
       "    }\n",
       "</style>\n",
       "<table border=\"1\" class=\"dataframe\">\n",
       "  <thead>\n",
       "    <tr style=\"text-align: right;\">\n",
       "      <th></th>\n",
       "      <th>feature</th>\n",
       "      <th>coeff</th>\n",
       "    </tr>\n",
       "  </thead>\n",
       "  <tbody>\n",
       "    <tr>\n",
       "      <th>0</th>\n",
       "      <td>F1</td>\n",
       "      <td>0.628709</td>\n",
       "    </tr>\n",
       "    <tr>\n",
       "      <th>1</th>\n",
       "      <td>F2</td>\n",
       "      <td>0.304051</td>\n",
       "    </tr>\n",
       "    <tr>\n",
       "      <th>2</th>\n",
       "      <td>F3</td>\n",
       "      <td>0.122064</td>\n",
       "    </tr>\n",
       "    <tr>\n",
       "      <th>3</th>\n",
       "      <td>F6</td>\n",
       "      <td>-0.002377</td>\n",
       "    </tr>\n",
       "    <tr>\n",
       "      <th>4</th>\n",
       "      <td>F4</td>\n",
       "      <td>-0.002830</td>\n",
       "    </tr>\n",
       "  </tbody>\n",
       "</table>\n",
       "</div>"
      ],
      "text/plain": [
       "  feature     coeff\n",
       "0      F1  0.628709\n",
       "1      F2  0.304051\n",
       "2      F3  0.122064\n",
       "3      F6 -0.002377\n",
       "4      F4 -0.002830"
      ]
     },
     "execution_count": 16,
     "metadata": {},
     "output_type": "execute_result"
    }
   ],
   "source": [
    "# non-zero coeffs (or clf.get_coeffs())\n",
    "clf.coeff_"
   ]
  },
  {
   "cell_type": "code",
   "execution_count": 17,
   "metadata": {},
   "outputs": [
    {
     "data": {
      "text/plain": [
       "-2.8918088248829035"
      ]
     },
     "execution_count": 17,
     "metadata": {},
     "output_type": "execute_result"
    }
   ],
   "source": [
    "# intercept (or clf.get_intercept())\n",
    "clf.intercept_"
   ]
  },
  {
   "cell_type": "code",
   "execution_count": 18,
   "metadata": {},
   "outputs": [
    {
     "data": {
      "text/html": [
       "<div>\n",
       "<style scoped>\n",
       "    .dataframe tbody tr th:only-of-type {\n",
       "        vertical-align: middle;\n",
       "    }\n",
       "\n",
       "    .dataframe tbody tr th {\n",
       "        vertical-align: top;\n",
       "    }\n",
       "\n",
       "    .dataframe thead th {\n",
       "        text-align: right;\n",
       "    }\n",
       "</style>\n",
       "<table border=\"1\" class=\"dataframe\">\n",
       "  <thead>\n",
       "    <tr style=\"text-align: right;\">\n",
       "      <th></th>\n",
       "      <th>F1_coeff_path</th>\n",
       "      <th>F2_coeff_path</th>\n",
       "      <th>F3_coeff_path</th>\n",
       "      <th>F4_coeff_path</th>\n",
       "      <th>F5_coeff_path</th>\n",
       "      <th>F6_coeff_path</th>\n",
       "      <th>intercept_path</th>\n",
       "      <th>lambda_path</th>\n",
       "      <th>cv_standard_error</th>\n",
       "      <th>cv_mean_score</th>\n",
       "    </tr>\n",
       "  </thead>\n",
       "  <tbody>\n",
       "    <tr>\n",
       "      <th>0</th>\n",
       "      <td>0.000000</td>\n",
       "      <td>0.000000</td>\n",
       "      <td>0.000000</td>\n",
       "      <td>0.000000</td>\n",
       "      <td>0.000000</td>\n",
       "      <td>0.000000</td>\n",
       "      <td>1.494283</td>\n",
       "      <td>0.461814</td>\n",
       "      <td>0.052471</td>\n",
       "      <td>0.052471</td>\n",
       "    </tr>\n",
       "    <tr>\n",
       "      <th>1</th>\n",
       "      <td>0.032361</td>\n",
       "      <td>0.000000</td>\n",
       "      <td>0.000000</td>\n",
       "      <td>0.000000</td>\n",
       "      <td>0.000000</td>\n",
       "      <td>0.000000</td>\n",
       "      <td>1.304279</td>\n",
       "      <td>0.420788</td>\n",
       "      <td>0.023046</td>\n",
       "      <td>0.023046</td>\n",
       "    </tr>\n",
       "    <tr>\n",
       "      <th>2</th>\n",
       "      <td>0.065111</td>\n",
       "      <td>0.002466</td>\n",
       "      <td>0.000000</td>\n",
       "      <td>0.000000</td>\n",
       "      <td>0.000000</td>\n",
       "      <td>0.000000</td>\n",
       "      <td>1.100865</td>\n",
       "      <td>0.383406</td>\n",
       "      <td>0.017789</td>\n",
       "      <td>0.017789</td>\n",
       "    </tr>\n",
       "    <tr>\n",
       "      <th>3</th>\n",
       "      <td>0.093595</td>\n",
       "      <td>0.021401</td>\n",
       "      <td>0.000000</td>\n",
       "      <td>0.000000</td>\n",
       "      <td>0.000000</td>\n",
       "      <td>0.000000</td>\n",
       "      <td>0.845588</td>\n",
       "      <td>0.349346</td>\n",
       "      <td>0.018629</td>\n",
       "      <td>0.018629</td>\n",
       "    </tr>\n",
       "    <tr>\n",
       "      <th>4</th>\n",
       "      <td>0.122470</td>\n",
       "      <td>0.040299</td>\n",
       "      <td>0.000000</td>\n",
       "      <td>0.000000</td>\n",
       "      <td>0.000000</td>\n",
       "      <td>0.000000</td>\n",
       "      <td>0.589259</td>\n",
       "      <td>0.318311</td>\n",
       "      <td>0.019291</td>\n",
       "      <td>0.019291</td>\n",
       "    </tr>\n",
       "    <tr>\n",
       "      <th>...</th>\n",
       "      <td>...</td>\n",
       "      <td>...</td>\n",
       "      <td>...</td>\n",
       "      <td>...</td>\n",
       "      <td>...</td>\n",
       "      <td>...</td>\n",
       "      <td>...</td>\n",
       "      <td>...</td>\n",
       "      <td>...</td>\n",
       "      <td>...</td>\n",
       "    </tr>\n",
       "    <tr>\n",
       "      <th>70</th>\n",
       "      <td>2.089139</td>\n",
       "      <td>0.789987</td>\n",
       "      <td>0.412325</td>\n",
       "      <td>0.004387</td>\n",
       "      <td>-0.004277</td>\n",
       "      <td>-0.010136</td>\n",
       "      <td>-10.324242</td>\n",
       "      <td>0.000686</td>\n",
       "      <td>0.018707</td>\n",
       "      <td>0.018707</td>\n",
       "    </tr>\n",
       "    <tr>\n",
       "      <th>71</th>\n",
       "      <td>2.093495</td>\n",
       "      <td>0.791668</td>\n",
       "      <td>0.413092</td>\n",
       "      <td>0.004477</td>\n",
       "      <td>-0.004257</td>\n",
       "      <td>-0.010174</td>\n",
       "      <td>-10.350203</td>\n",
       "      <td>0.000625</td>\n",
       "      <td>0.018627</td>\n",
       "      <td>0.018627</td>\n",
       "    </tr>\n",
       "    <tr>\n",
       "      <th>72</th>\n",
       "      <td>2.097459</td>\n",
       "      <td>0.793093</td>\n",
       "      <td>0.413756</td>\n",
       "      <td>0.004560</td>\n",
       "      <td>-0.004244</td>\n",
       "      <td>-0.010205</td>\n",
       "      <td>-10.373687</td>\n",
       "      <td>0.000569</td>\n",
       "      <td>0.018564</td>\n",
       "      <td>0.018564</td>\n",
       "    </tr>\n",
       "    <tr>\n",
       "      <th>73</th>\n",
       "      <td>2.101145</td>\n",
       "      <td>0.794519</td>\n",
       "      <td>0.414402</td>\n",
       "      <td>0.004636</td>\n",
       "      <td>-0.004229</td>\n",
       "      <td>-0.010235</td>\n",
       "      <td>-10.395722</td>\n",
       "      <td>0.000519</td>\n",
       "      <td>0.018599</td>\n",
       "      <td>0.018599</td>\n",
       "    </tr>\n",
       "    <tr>\n",
       "      <th>74</th>\n",
       "      <td>2.104495</td>\n",
       "      <td>0.795822</td>\n",
       "      <td>0.414994</td>\n",
       "      <td>0.004705</td>\n",
       "      <td>-0.004213</td>\n",
       "      <td>-0.010265</td>\n",
       "      <td>-10.415666</td>\n",
       "      <td>0.000473</td>\n",
       "      <td>0.018582</td>\n",
       "      <td>0.018582</td>\n",
       "    </tr>\n",
       "  </tbody>\n",
       "</table>\n",
       "<p>75 rows × 10 columns</p>\n",
       "</div>"
      ],
      "text/plain": [
       "    F1_coeff_path  F2_coeff_path  F3_coeff_path  F4_coeff_path  F5_coeff_path  \\\n",
       "0        0.000000       0.000000       0.000000       0.000000       0.000000   \n",
       "1        0.032361       0.000000       0.000000       0.000000       0.000000   \n",
       "2        0.065111       0.002466       0.000000       0.000000       0.000000   \n",
       "3        0.093595       0.021401       0.000000       0.000000       0.000000   \n",
       "4        0.122470       0.040299       0.000000       0.000000       0.000000   \n",
       "..            ...            ...            ...            ...            ...   \n",
       "70       2.089139       0.789987       0.412325       0.004387      -0.004277   \n",
       "71       2.093495       0.791668       0.413092       0.004477      -0.004257   \n",
       "72       2.097459       0.793093       0.413756       0.004560      -0.004244   \n",
       "73       2.101145       0.794519       0.414402       0.004636      -0.004229   \n",
       "74       2.104495       0.795822       0.414994       0.004705      -0.004213   \n",
       "\n",
       "    F6_coeff_path  intercept_path  lambda_path  cv_standard_error  \\\n",
       "0        0.000000        1.494283     0.461814           0.052471   \n",
       "1        0.000000        1.304279     0.420788           0.023046   \n",
       "2        0.000000        1.100865     0.383406           0.017789   \n",
       "3        0.000000        0.845588     0.349346           0.018629   \n",
       "4        0.000000        0.589259     0.318311           0.019291   \n",
       "..            ...             ...          ...                ...   \n",
       "70      -0.010136      -10.324242     0.000686           0.018707   \n",
       "71      -0.010174      -10.350203     0.000625           0.018627   \n",
       "72      -0.010205      -10.373687     0.000569           0.018564   \n",
       "73      -0.010235      -10.395722     0.000519           0.018599   \n",
       "74      -0.010265      -10.415666     0.000473           0.018582   \n",
       "\n",
       "    cv_mean_score  \n",
       "0        0.052471  \n",
       "1        0.023046  \n",
       "2        0.017789  \n",
       "3        0.018629  \n",
       "4        0.019291  \n",
       "..            ...  \n",
       "70       0.018707  \n",
       "71       0.018627  \n",
       "72       0.018564  \n",
       "73       0.018599  \n",
       "74       0.018582  \n",
       "\n",
       "[75 rows x 10 columns]"
      ]
     },
     "execution_count": 18,
     "metadata": {},
     "output_type": "execute_result"
    }
   ],
   "source": [
    "# model cv_results_ (or clf.get_cv_results())\n",
    "clf.cv_results_"
   ]
  },
  {
   "cell_type": "code",
   "execution_count": 19,
   "metadata": {},
   "outputs": [
    {
     "data": {
      "text/plain": [
       "dict_keys(['coeff', 'coeff_path', 'cv_standard_error', 'cv_mean_score', 'lambda_path', 'lambda_best', 'lambda_max', 'n_lambda', 'intercept', 'intercept_path', 'params', 'module'])"
      ]
     },
     "execution_count": 19,
     "metadata": {},
     "output_type": "execute_result"
    }
   ],
   "source": [
    "# total model results json (or clf.get_results())\n",
    "clf.results_.keys()"
   ]
  },
  {
   "cell_type": "code",
   "execution_count": 20,
   "metadata": {},
   "outputs": [
    {
     "data": {
      "text/plain": [
       "{'alpha': 0.3,\n",
       " 'cut_point': 1.0,\n",
       " 'fit_intercept': True,\n",
       " 'lambda_path': None,\n",
       " 'lower_limits': -inf,\n",
       " 'max_features': None,\n",
       " 'max_iter': 100000,\n",
       " 'min_lambda_ratio': 0.0001,\n",
       " 'n_jobs': -1,\n",
       " 'n_lambda': 100,\n",
       " 'n_splits': 4,\n",
       " 'random_state': 1367,\n",
       " 'scoring': 'roc_auc',\n",
       " 'standardize': True,\n",
       " 'tol': 1e-07,\n",
       " 'upper_limits': inf,\n",
       " 'verbose': False}"
      ]
     },
     "execution_count": 20,
     "metadata": {},
     "output_type": "execute_result"
    }
   ],
   "source": [
    "# model's fitting params (or clf.get_params())\n",
    "clf.params_"
   ]
  }
 ],
 "metadata": {
  "kernelspec": {
   "display_name": "Python 3 (ipykernel)",
   "language": "python",
   "name": "python3"
  },
  "language_info": {
   "codemirror_mode": {
    "name": "ipython",
    "version": 3
   },
   "file_extension": ".py",
   "mimetype": "text/x-python",
   "name": "python",
   "nbconvert_exporter": "python",
   "pygments_lexer": "ipython3",
   "version": "3.9.6"
  }
 },
 "nbformat": 4,
 "nbformat_minor": 4
}
