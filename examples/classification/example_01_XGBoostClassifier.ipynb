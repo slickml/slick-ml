{
 "cells": [
  {
   "cell_type": "markdown",
   "metadata": {},
   "source": [
    "# Example 01: General Use of XGBoostClassifier\n",
    "[![Open In Colab](https://colab.research.google.com/assets/colab-badge.svg)](https://colab.research.google.com/github/slickml/slick-ml/blob/master/examples/classification/example_01_XGBoostClassifier.ipynb)"
   ]
  },
  {
   "cell_type": "markdown",
   "metadata": {},
   "source": [
    "### Google Colab Configuration"
   ]
  },
  {
   "cell_type": "code",
   "execution_count": 1,
   "metadata": {},
   "outputs": [],
   "source": [
    "# !git clone https://github.com/slickml/slick-ml.git\n",
    "# %cd slick-ml\n",
    "# !pip install -r requirements.txt"
   ]
  },
  {
   "cell_type": "markdown",
   "metadata": {},
   "source": [
    "### Local Environment Configuration"
   ]
  },
  {
   "cell_type": "code",
   "execution_count": 2,
   "metadata": {},
   "outputs": [
    {
     "name": "stdout",
     "output_type": "stream",
     "text": [
      "/Users/atahmassebi/Desktop/AmirStuff/GitHub/slick-ml\n"
     ]
    }
   ],
   "source": [
    "# Change path to project root\n",
    "%cd ../.."
   ]
  },
  {
   "cell_type": "markdown",
   "metadata": {},
   "source": [
    "### Import Python Libraries"
   ]
  },
  {
   "cell_type": "code",
   "execution_count": 3,
   "metadata": {},
   "outputs": [
    {
     "data": {
      "text/html": [
       "<style>.container { width:95% !important; }</style>"
      ],
      "text/plain": [
       "<IPython.core.display.HTML object>"
      ]
     },
     "metadata": {},
     "output_type": "display_data"
    }
   ],
   "source": [
    "%load_ext autoreload\n",
    "\n",
    "# widen the screen\n",
    "from IPython.core.display import display, HTML\n",
    "\n",
    "display(HTML(\"<style>.container { width:95% !important; }</style>\"))\n",
    "\n",
    "# change the path and loading class\n",
    "import os, sys\n",
    "import pandas as pd\n",
    "import numpy as np\n",
    "import seaborn as sns"
   ]
  },
  {
   "cell_type": "code",
   "execution_count": 4,
   "metadata": {},
   "outputs": [
    {
     "data": {
      "text/html": [
       "<style>.container { width:95% !important; }</style>"
      ],
      "text/plain": [
       "<IPython.core.display.HTML object>"
      ]
     },
     "metadata": {},
     "output_type": "display_data"
    }
   ],
   "source": [
    "%autoreload\n",
    "from slickml.classification import XGBoostClassifier"
   ]
  },
  {
   "cell_type": "markdown",
   "metadata": {},
   "source": [
    "_____\n",
    "# XGBoostClassifier Docstring"
   ]
  },
  {
   "cell_type": "code",
   "execution_count": 5,
   "metadata": {},
   "outputs": [
    {
     "name": "stdout",
     "output_type": "stream",
     "text": [
      "Help on class XGBoostClassifier in module slickml.classification:\n",
      "\n",
      "class XGBoostClassifier(builtins.object)\n",
      " |  XGBoostClassifier(num_boost_round=None, metrics=None, sparse_matrix=False, scale_mean=False, scale_std=False, importance_type=None, params=None)\n",
      " |  \n",
      " |  XGBoost Classifier.\n",
      " |  This is wrapper using XGBoost classifier to train a XGBoost\n",
      " |  model with using number of boosting rounds from the inputs. This\n",
      " |  function is pretty useful when feature selection is done and you\n",
      " |  want to train a model on the whole data and test on a separate\n",
      " |  validation set. Main reference is XGBoost Python API:\n",
      " |  (https://xgboost.readthedocs.io/en/latest/python/python_api.html)\n",
      " |  \n",
      " |  Parameters\n",
      " |  ----------\n",
      " |  num_boost_round: int, optional (default=200)\n",
      " |      Number of boosting round to train the model\n",
      " |  \n",
      " |  metrics: str or tuple[str], optional (default=(\"auc\"))\n",
      " |      Metric used for evaluation at cross-validation\n",
      " |      using xgboost.cv(). Please note that this is different\n",
      " |      than eval_metric that needs to be passed to params dict.\n",
      " |      Possible values are \"auc\", \"aucpr\", \"error\", \"logloss\"\n",
      " |  \n",
      " |  sparse_matrix: bool, optional (default=False)\n",
      " |      Flag to convert data to sparse matrix with csr format.\n",
      " |      This would increase the speed of feature selection for\n",
      " |      relatively large datasets\n",
      " |  \n",
      " |  scale_mean: bool, optional (default=False)\n",
      " |      Flag to center the data before scaling. This flag should be\n",
      " |      False when using sparse_matrix=True, since it centering the data\n",
      " |      would decrease the sparsity and in practice it does not make any\n",
      " |      sense to use sparse matrix method and it would make it worse.\n",
      " |  \n",
      " |  scale_std: bool, optional (default=False)\n",
      " |      Flag to scale the data to unit variance\n",
      " |      (or equivalently, unit standard deviation)\n",
      " |  \n",
      " |  importance_type: str, optional (default=\"total_gain\")\n",
      " |      Importance type of xgboost.train() with possible values\n",
      " |      \"weight\", \"gain\", \"total_gain\", \"cover\", \"total_cover\"\n",
      " |  \n",
      " |  params: dict, optional\n",
      " |      Set of parameters for evaluation of xboost.train()\n",
      " |      (default={\"eval_metric\" : \"auc\",\n",
      " |                \"tree_method\": \"hist\",\n",
      " |                \"objective\" : \"binary:logistic\",\n",
      " |                \"learning_rate\" : 0.05,\n",
      " |                \"max_depth\": 2,\n",
      " |                \"min_child_weight\" : 1,\n",
      " |                \"gamma\" : 0.0,\n",
      " |                \"reg_alpha\" : 0.0,\n",
      " |                \"reg_lambda\" : 1.0,\n",
      " |                \"subsample\" : 0.9,\n",
      " |                \"max_delta_step\": 1,\n",
      " |                \"verbosity\" : 0,\n",
      " |                \"nthread\" : 4,\n",
      " |                \"scale_pos_weight\" : 1})\n",
      " |  \n",
      " |  Attributes\n",
      " |  ----------\n",
      " |  feature_importance_: dict()\n",
      " |      Returns a dict() of all feature importance based on\n",
      " |      importance_type at each fold of each iteration during\n",
      " |      selection process\n",
      " |  \n",
      " |  scaler_: StandardScaler object\n",
      " |      Returns the scaler object if any of scale_mean or scale_std\n",
      " |      was passed True.\n",
      " |  \n",
      " |  X_train_: pandas.DataFrame\n",
      " |      Returns scaled training data set that passed if if any of\n",
      " |      scale_mean or scale_std was passed as True, else X_train.\n",
      " |  \n",
      " |  X_test_: pandas.DataFrame\n",
      " |      Returns transformed testing data set using scaler_ object if if any of\n",
      " |      scale_mean or scale_std was passed as True, else X_train.\n",
      " |  \n",
      " |  d_train_: xgboost.DMatrix object\n",
      " |      Returns the xgboost.DMatrix(X_train_, y_train)\n",
      " |  \n",
      " |  d_test_: xgboost.DMatrix object\n",
      " |      Returns the xgboost.DMatrix(X_test_, y_test)\n",
      " |  \n",
      " |  shap_values_train_: numpy.array\n",
      " |      SHAP values from treeExplainer using X_train\n",
      " |  \n",
      " |  shap_values_test_: numpy.array\n",
      " |      SHAP values from treeExplainer using X_test\n",
      " |  \n",
      " |  fit(X_train, y_train): instance method\n",
      " |      Returns None and applies the training process using\n",
      " |      the (X_train, y_train) set using xgboost.train()\n",
      " |  \n",
      " |  predict_proba(X_test, y_test): instance method\n",
      " |      Return the prediction probabilities for positive classes. Please note that\n",
      " |      it only reports the probability of the positive class, while the sklearn\n",
      " |      one returns for both and slicing like pred_proba[:, 1]\n",
      " |      is needed for positive class predictions\n",
      " |  \n",
      " |  predict(X_test, y_test, threshold=0.5): instance method\n",
      " |      Return the prediction classes based on the passed threshold.\n",
      " |      The default threshold is set at 0.5 while you can find the optimum thresholds\n",
      " |      based on different methods using BinaryClassificationMetrics.\n",
      " |  \n",
      " |  get_params(): instance method\n",
      " |      Returns params dict\n",
      " |  \n",
      " |  get_feature_importance(): instance method\n",
      " |      Returns feature importance based on importance_type\n",
      " |  \n",
      " |  plot_feature_importance(): instance method\n",
      " |      Plots feature importance\n",
      " |  \n",
      " |  plot_shap_summary(): instance method\n",
      " |      Plot shap values summary\n",
      " |  \n",
      " |  Methods defined here:\n",
      " |  \n",
      " |  __init__(self, num_boost_round=None, metrics=None, sparse_matrix=False, scale_mean=False, scale_std=False, importance_type=None, params=None)\n",
      " |      Initialize self.  See help(type(self)) for accurate signature.\n",
      " |  \n",
      " |  fit(self, X_train, y_train)\n",
      " |      Function to run xgboost.train() method based on the given number of\n",
      " |      boosting round from the inputs using (X_train, y_train) set\n",
      " |      and returns it.\n",
      " |      \n",
      " |      Parameters\n",
      " |      ----------\n",
      " |      X_train: numpy.array or pandas.DataFrame\n",
      " |          Training features data\n",
      " |      \n",
      " |      y_train: numpy.array[int] or list[int]\n",
      " |          List of training ground truth binary values [0, 1]\n",
      " |  \n",
      " |  get_feature_importance(self)\n",
      " |      Function to return the feature importance of the best model\n",
      " |      at each fold of each iteration of feature selection.\n",
      " |  \n",
      " |  get_params(self)\n",
      " |      Function to return the train parameters for XGBoost.\n",
      " |  \n",
      " |  plot_feature_importance(self, figsize=None, color=None, marker=None, markersize=None, markeredgecolor=None, markerfacecolor=None, markeredgewidth=None, fontsize=None, save_path=None)\n",
      " |      Function to plot XGBoost feature importance.\n",
      " |      This function is a helper function based on the feature_importance_\n",
      " |      attribute of the XGBoostCVClassifier class.\n",
      " |      \n",
      " |      Parameters\n",
      " |      ----------\n",
      " |      feature importance: Pandas DataFrame\n",
      " |          Feature frequency\n",
      " |      \n",
      " |      figsize: tuple, optional, (default=(8, 5))\n",
      " |          Figure size\n",
      " |      \n",
      " |      color: str, optional, (default=\"#87CEEB\")\n",
      " |          Color of the vertical lines of lollipops\n",
      " |      \n",
      " |      marker: str, optional, (default=\"o\")\n",
      " |          Market style of the lollipops. Complete valid\n",
      " |          marker styke can be found at:\n",
      " |          (https://matplotlib.org/2.1.1/api/markers_api.html#module-matplotlib.markers)\n",
      " |      \n",
      " |      markersize: int or float, optional, (default=10)\n",
      " |          Markersize\n",
      " |      \n",
      " |      markeredgecolor: str, optional, (default=\"1F77B4\")\n",
      " |          Marker edge color\n",
      " |      \n",
      " |      markerfacecolor: str, optional, (default=\"1F77B4\")\n",
      " |          Marker face color\n",
      " |      \n",
      " |      markeredgewidth: int or float, optional, (default=1)\n",
      " |          Marker edge width\n",
      " |      \n",
      " |      fontsize: int or float, optional, (default=12)\n",
      " |          Fontsize for xlabel and ylabel, and ticks parameters\n",
      " |      \n",
      " |      save_path: str, optional (default=None)\n",
      " |          The full or relative path to save the plot including the image format.\n",
      " |          For example \"myplot.png\" or \"../../myplot.pdf\"\n",
      " |  \n",
      " |  plot_shap_summary(self, validation=True, plot_type=None, figsize=None, color=None, max_display=None, feature_names=None, title=None, show=True, sort=True, color_bar=True, layered_violin_max_num_bins=None, class_names=None, class_inds=None, color_bar_label=None, save_path=None)\n",
      " |      Function to plot shap summary plot.\n",
      " |      This function is a helper function to plot the shap summary plot\n",
      " |      based on all types of shap explainers including tree, linear, and dnn.\n",
      " |      Please note that this function should be ran after the predict_proba to\n",
      " |      make sure the X_test is being instansiated.\n",
      " |      \n",
      " |      Parameters\n",
      " |      ----------\n",
      " |      validation: bool, optional, (default=True)\n",
      " |          Flag to calculate SHAP values of X_test if it is True.\n",
      " |          If validation=False, it calculates the SHAP values of\n",
      " |          X_train and plots the summary plot.\n",
      " |      \n",
      " |      plot_type: str, optional (single-output default=\"dot\", multi-output default=\"bar\")\n",
      " |          The type of summar plot. Options are \"bar\", \"dot\", \"violin\", \"layered_violin\",\n",
      " |          and \"compact_dot\" which is recommended for SHAP interactions\n",
      " |      \n",
      " |      figsize: tuple, optional, (default=\"auto\")\n",
      " |          Figure size\n",
      " |      \n",
      " |      color: str, optional, (default= \"#D0AAF3\" for \"bar\")\n",
      " |          Color of violin and layered violin plots are \"RdBl\" cmap\n",
      " |          Color of the horizontal lines when plot_type=\"bar\" is \"#D0AAF3\"\n",
      " |      \n",
      " |      max_display: int, optional, (default=20)\n",
      " |          Limit to show the number of features in the plot\n",
      " |      \n",
      " |      feature_names: str, optional, (default=None)\n",
      " |          List of feature names to pass. It should follow the order\n",
      " |          of fatures\n",
      " |      \n",
      " |      title: str, optional, (default=None)\n",
      " |          Title of the plot\n",
      " |      \n",
      " |      show: bool, optional, (default=True)\n",
      " |          Flag to show the plot in inteactive environment\n",
      " |      \n",
      " |      sort: bool, optional, (default=True)\n",
      " |          Flag to plot sorted shap vlues in descending order\n",
      " |      \n",
      " |      color_bar: bool, optional, (default=True)\n",
      " |          Flag to show color_bar when plot_type is \"dot\" or \"violin\"\n",
      " |      \n",
      " |      layered_violin_max_num_bins: int, optional, (default=10)\n",
      " |          The number of bins for calculating the violin plots ranges\n",
      " |          and outliers\n",
      " |      \n",
      " |      class_names: list, optional, (default=None)\n",
      " |          List of class names for multi-output problems\n",
      " |      \n",
      " |      class_inds: list, optional, (default=True)\n",
      " |          List of class indices for multi-output problems\n",
      " |      \n",
      " |      color_bar_label: str, optional, (default=\"Feature Value\")\n",
      " |          Label for color bar\n",
      " |      \n",
      " |      save_path: str, optional (default=None)\n",
      " |          The full or relative path to save the plot including the image format.\n",
      " |          For example \"myplot.png\" or \"../../myplot.pdf\"\n",
      " |  \n",
      " |  plot_shap_waterfall(self, validation=True, figsize=None, bar_color=None, bar_thickness=None, line_color=None, marker=None, markersize=None, markeredgecolor=None, markerfacecolor=None, markeredgewidth=None, max_display=None, title=None, fontsize=None, save_path=None)\n",
      " |      Function to plot shap waterfall plot.\n",
      " |      This function is a helper function to plot the shap waterfall plot\n",
      " |      based on all types of shap explainers including tree, linear, and dnn.\n",
      " |      This would show the cumulitative/composite ratios of shap values per feature.\n",
      " |      Therefore, it can be easily seen with each feature how much explainability we\n",
      " |      can acheieve. Please note that this function should be ran after the predict_proba to\n",
      " |      make sure the X_test is being instansiated.\n",
      " |      \n",
      " |      Parameters\n",
      " |      ----------\n",
      " |      validation: bool, optional, (default=True)\n",
      " |          Flag to calculate SHAP values of X_test if it is True.\n",
      " |          If validation=False, it calculates the SHAP values of\n",
      " |          X_train and plots the summary plot.\n",
      " |      \n",
      " |      figsize: tuple, optional, (default=(8, 5))\n",
      " |          Figure size\n",
      " |      \n",
      " |      bar_color: str, optional, (default=\"#B3C3F3\")\n",
      " |          Color of the horizontal bar lines\n",
      " |      \n",
      " |      bar_thickness: float, optional, (default=0.5)\n",
      " |          Thickness (hight) of the horizontal bar lines\n",
      " |      \n",
      " |      line_color: str, optional, (default=\"purple\")\n",
      " |          Color of the line plot\n",
      " |      \n",
      " |      marker: str, optional, (default=\"o\")\n",
      " |          Marker style\n",
      " |          marker style can be found at:\n",
      " |          (https://matplotlib.org/2.1.1/api/markers_api.html#module-matplotlib.markers)\n",
      " |      \n",
      " |      markersize: int or float, optional, (default=7)\n",
      " |          Markersize\n",
      " |      \n",
      " |      markeredgecolor: str, optional, (default=\"purple\")\n",
      " |          Marker edge color\n",
      " |      \n",
      " |      markerfacecolor: str, optional, (default=\"purple\")\n",
      " |          Marker face color\n",
      " |      \n",
      " |      markeredgewidth: int or float, optional, (default=1)\n",
      " |          Marker edge width\n",
      " |      \n",
      " |      max_display: int, optional, (default=20)\n",
      " |          Limit to show the number of features in the plot\n",
      " |      \n",
      " |      title: str, optional, (default=None)\n",
      " |          Title of the plot\n",
      " |      \n",
      " |      fontsize: int or float, optional, (default=12)\n",
      " |          Fontsize for xlabel and ylabel, and ticks parameters\n",
      " |      \n",
      " |      save_path: str, optional (default=None)\n",
      " |          The full or relative path to save the plot including the image format.\n",
      " |          For example \"myplot.png\" or \"../../myplot.pdf\"\n",
      " |  \n",
      " |  predict(self, X_test, y_test=None, threshold=0.5)\n",
      " |      Function to return the prediction classes based on the passed threshold.\n",
      " |      The default threshold is set at 0.5 while you can find the optimum thresholds\n",
      " |      based on different methods using BinaryClassificationMetrics.\n",
      " |      \n",
      " |      Parameters\n",
      " |      ----------\n",
      " |      X_test: numpy.array or pandas.DataFrame\n",
      " |          Validation features data\n",
      " |      \n",
      " |      y_test: numpy.array[int] or list[int], optional (default=None)\n",
      " |          List of validation ground truth binary values [0, 1]\n",
      " |      \n",
      " |      threshold: float, optional (default=0.5)\n",
      " |          Threshold to define classes based on probabilities.\n",
      " |          predict_proba >= threshold would be defined as 1 else 0.\n",
      " |  \n",
      " |  predict_proba(self, X_test, y_test=None)\n",
      " |      Function to return the prediction probabilities for both classes.\n",
      " |      Please note that it only reports the probability of the positive class,\n",
      " |      while the sklearn one returns for both and slicing like pred_proba[:, 1]\n",
      " |      is needed for positive class predictions. Note that y_test is optional while\n",
      " |      it might not be available in validiation.\n",
      " |      \n",
      " |      Parameters\n",
      " |      ----------\n",
      " |      X_test: numpy.array or pandas.DataFrame\n",
      " |          Validation features data\n",
      " |      \n",
      " |      y_test: numpy.array[int] or list[int], optional (default=None)\n",
      " |          List of validation ground truth binary values [0, 1]\n",
      " |  \n",
      " |  ----------------------------------------------------------------------\n",
      " |  Data descriptors defined here:\n",
      " |  \n",
      " |  __dict__\n",
      " |      dictionary for instance variables (if defined)\n",
      " |  \n",
      " |  __weakref__\n",
      " |      list of weak references to the object (if defined)\n",
      "\n"
     ]
    }
   ],
   "source": [
    "help(XGBoostClassifier)"
   ]
  },
  {
   "cell_type": "markdown",
   "metadata": {},
   "source": [
    "## Example"
   ]
  },
  {
   "cell_type": "code",
   "execution_count": 6,
   "metadata": {},
   "outputs": [
    {
     "data": {
      "text/html": [
       "<div>\n",
       "<style scoped>\n",
       "    .dataframe tbody tr th:only-of-type {\n",
       "        vertical-align: middle;\n",
       "    }\n",
       "\n",
       "    .dataframe tbody tr th {\n",
       "        vertical-align: top;\n",
       "    }\n",
       "\n",
       "    .dataframe thead th {\n",
       "        text-align: right;\n",
       "    }\n",
       "</style>\n",
       "<table border=\"1\" class=\"dataframe\">\n",
       "  <thead>\n",
       "    <tr style=\"text-align: right;\">\n",
       "      <th></th>\n",
       "      <th>F1</th>\n",
       "      <th>F2</th>\n",
       "      <th>F3</th>\n",
       "      <th>F4</th>\n",
       "      <th>F5</th>\n",
       "      <th>F6</th>\n",
       "      <th>CLASS</th>\n",
       "    </tr>\n",
       "  </thead>\n",
       "  <tbody>\n",
       "    <tr>\n",
       "      <th>0</th>\n",
       "      <td>5.7</td>\n",
       "      <td>4.7</td>\n",
       "      <td>3.7</td>\n",
       "      <td>58.0</td>\n",
       "      <td>249.30</td>\n",
       "      <td>456.47</td>\n",
       "      <td>0</td>\n",
       "    </tr>\n",
       "    <tr>\n",
       "      <th>1</th>\n",
       "      <td>7.7</td>\n",
       "      <td>6.6</td>\n",
       "      <td>4.1</td>\n",
       "      <td>20.0</td>\n",
       "      <td>260.92</td>\n",
       "      <td>443.43</td>\n",
       "      <td>1</td>\n",
       "    </tr>\n",
       "    <tr>\n",
       "      <th>2</th>\n",
       "      <td>6.2</td>\n",
       "      <td>4.3</td>\n",
       "      <td>4.6</td>\n",
       "      <td>59.0</td>\n",
       "      <td>255.63</td>\n",
       "      <td>478.96</td>\n",
       "      <td>1</td>\n",
       "    </tr>\n",
       "    <tr>\n",
       "      <th>3</th>\n",
       "      <td>5.7</td>\n",
       "      <td>4.4</td>\n",
       "      <td>3.8</td>\n",
       "      <td>49.0</td>\n",
       "      <td>195.28</td>\n",
       "      <td>381.94</td>\n",
       "      <td>0</td>\n",
       "    </tr>\n",
       "    <tr>\n",
       "      <th>4</th>\n",
       "      <td>9.1</td>\n",
       "      <td>4.7</td>\n",
       "      <td>4.6</td>\n",
       "      <td>17.0</td>\n",
       "      <td>259.55</td>\n",
       "      <td>395.67</td>\n",
       "      <td>1</td>\n",
       "    </tr>\n",
       "  </tbody>\n",
       "</table>\n",
       "</div>"
      ],
      "text/plain": [
       "    F1   F2   F3    F4      F5      F6  CLASS\n",
       "0  5.7  4.7  3.7  58.0  249.30  456.47      0\n",
       "1  7.7  6.6  4.1  20.0  260.92  443.43      1\n",
       "2  6.2  4.3  4.6  59.0  255.63  478.96      1\n",
       "3  5.7  4.4  3.8  49.0  195.28  381.94      0\n",
       "4  9.1  4.7  4.6  17.0  259.55  395.67      1"
      ]
     },
     "execution_count": 6,
     "metadata": {},
     "output_type": "execute_result"
    }
   ],
   "source": [
    "# loading data\n",
    "df = pd.read_csv(\"data/clf_data.csv\")\n",
    "df.head()"
   ]
  },
  {
   "cell_type": "code",
   "execution_count": 7,
   "metadata": {},
   "outputs": [],
   "source": [
    "# define X, y\n",
    "y = df.CLASS.values\n",
    "X = df.drop([\"CLASS\"], axis=1)"
   ]
  },
  {
   "cell_type": "code",
   "execution_count": 8,
   "metadata": {},
   "outputs": [],
   "source": [
    "from sklearn.model_selection import train_test_split\n",
    "\n",
    "X_train, X_test, y_train, y_test = train_test_split(\n",
    "    X, y, test_size=0.2, shuffle=True, stratify=y, random_state=1367\n",
    ")"
   ]
  },
  {
   "cell_type": "code",
   "execution_count": 9,
   "metadata": {},
   "outputs": [],
   "source": [
    "# setup feature selector object\n",
    "params = {\n",
    "    \"eval_metric\": \"auc\",\n",
    "    \"learning_rate\": 0.05,\n",
    "    \"max_depth\": 2,\n",
    "    \"min_child_weight\": 1,\n",
    "    \"gamma\": 0.0,\n",
    "    \"silent\": 0,\n",
    "}\n",
    "\n",
    "clf = XGBoostClassifier(num_boost_round=333, metrics=(\"logloss\"), params=params)\n",
    "clf.fit(X_train, y_train)"
   ]
  },
  {
   "cell_type": "code",
   "execution_count": 10,
   "metadata": {},
   "outputs": [
    {
     "data": {
      "image/png": "[encoded data removed]",
      "text/plain": [
       "<Figure size 576x360 with 1 Axes>"
      ]
     },
     "metadata": {},
     "output_type": "display_data"
    }
   ],
   "source": [
    "clf.plot_feature_importance()"
   ]
  },
  {
   "cell_type": "code",
   "execution_count": 11,
   "metadata": {},
   "outputs": [
    {
     "data": {
      "text/plain": [
       "array([0.6720365 , 0.5655868 , 0.99562705, 0.9463068 , 0.88080674,\n",
       "       0.77455   , 0.58249676, 0.93462294, 0.9903142 , 0.9985297 ],\n",
       "      dtype=float32)"
      ]
     },
     "execution_count": 11,
     "metadata": {},
     "output_type": "execute_result"
    }
   ],
   "source": [
    "# predic proba (or clf.y_pred_proba_)\n",
    "# please note that y_test is optional\n",
    "y_pred_proba = clf.predict_proba(X_test, y_test=None)\n",
    "y_pred_proba[:10]"
   ]
  },
  {
   "cell_type": "code",
   "execution_count": 12,
   "metadata": {},
   "outputs": [
    {
     "data": {
      "text/plain": [
       "[1, 0, 1, 1, 1, 1, 0, 1, 1, 1]"
      ]
     },
     "execution_count": 12,
     "metadata": {},
     "output_type": "execute_result"
    }
   ],
   "source": [
    "# pred class (or clf.y_pred_)\n",
    "# threshold can be set\n",
    "y_pred = clf.predict(X_test, threshold=0.67)\n",
    "y_pred[:10]"
   ]
  },
  {
   "cell_type": "code",
   "execution_count": 13,
   "metadata": {},
   "outputs": [
    {
     "data": {
      "image/png": "[encoded data removed]",
      "text/plain": [
       "<Figure size 576x280.8 with 2 Axes>"
      ]
     },
     "metadata": {},
     "output_type": "display_data"
    }
   ],
   "source": [
    "# shap summary plot violin on test data\n",
    "clf.plot_shap_summary(plot_type=\"violin\", validation=True)"
   ]
  },
  {
   "cell_type": "code",
   "execution_count": 14,
   "metadata": {
    "scrolled": true
   },
   "outputs": [
    {
     "data": {
      "image/png": "[encoded data removed]",
      "text/plain": [
       "<Figure size 576x280.8 with 2 Axes>"
      ]
     },
     "metadata": {},
     "output_type": "display_data"
    }
   ],
   "source": [
    "# shap summary plot layered violin plot on train data\n",
    "clf.plot_shap_summary(plot_type=\"layered_violin\", validation=False, layered_violin_max_num_bins=5)"
   ]
  },
  {
   "cell_type": "code",
   "execution_count": 15,
   "metadata": {},
   "outputs": [
    {
     "data": {
      "image/png": "[encoded data removed]",
      "text/plain": [
       "<Figure size 576x360 with 2 Axes>"
      ]
     },
     "metadata": {},
     "output_type": "display_data"
    }
   ],
   "source": [
    "# shap waterfall plot\n",
    "clf.plot_shap_waterfall()"
   ]
  },
  {
   "cell_type": "code",
   "execution_count": 16,
   "metadata": {},
   "outputs": [
    {
     "data": {
      "text/plain": [
       "array([[-1.3977536e+00, -7.3764610e-01,  3.4769246e-01,  4.7283206e-02,\n",
       "         7.4657989e-01,  1.0651424e-01],\n",
       "       [ 2.6375675e-01, -7.6384729e-01, -4.3277496e-01,  1.1251867e-02,\n",
       "        -2.1562771e-01, -2.0362945e-01],\n",
       "       [ 2.1143186e+00,  2.2659466e+00,  8.3920524e-02,  4.5984894e-02,\n",
       "        -6.5455145e-01, -3.2409951e-02],\n",
       "       [ 1.9647380e+00,  2.2224775e-01,  9.6091658e-02,  2.9802120e-01,\n",
       "        -7.3567319e-01, -5.8088082e-01],\n",
       "       [-6.9811740e-03, -1.3387736e+00, -3.8138890e-01, -1.1085838e-01,\n",
       "         8.3745408e-01,  1.3959001e+00],\n",
       "       [ 3.5730031e-01, -1.3693647e-01, -2.8975579e-01,  1.9261759e-02,\n",
       "        -1.4145197e-01, -1.7897309e-01],\n",
       "       [ 2.4563278e-01, -1.2008461e+00,  1.6584627e-01, -1.4547110e-03,\n",
       "        -2.6656428e-01, -2.1432213e-01],\n",
       "       [ 4.1076797e-01,  9.3420160e-01,  8.9663163e-02,  3.9665785e-02,\n",
       "        -2.9785907e-01, -1.2120796e-01],\n",
       "       [ 3.8862231e-01,  2.3394670e+00,  2.2751372e-01, -1.8879627e-01,\n",
       "         2.2017452e-01,  3.5638917e-02],\n",
       "       [ 2.9389613e+00,  2.3157570e+00,  3.1752875e-01,  1.6255955e-01,\n",
       "        -6.6003621e-01, -1.5869793e-01]], dtype=float32)"
      ]
     },
     "execution_count": 16,
     "metadata": {},
     "output_type": "execute_result"
    }
   ],
   "source": [
    "clf.shap_values_test_[:10]"
   ]
  },
  {
   "cell_type": "code",
   "execution_count": 17,
   "metadata": {},
   "outputs": [
    {
     "data": {
      "text/plain": [
       "array([[ 1.8154563 ,  2.455969  , -0.16794285, -0.37032005, -0.7298622 ,\n",
       "        -0.40406618],\n",
       "       [ 0.38064682, -0.2252746 ,  0.08241041,  0.23627505, -0.24025938,\n",
       "        -0.2089367 ],\n",
       "       [ 0.23795329, -1.3900957 , -0.4569098 ,  0.02677716,  0.15217488,\n",
       "         0.18667053],\n",
       "       [ 2.8691964 ,  2.27497   ,  0.08257811, -0.15183033, -0.0885161 ,\n",
       "        -0.04004773],\n",
       "       [ 2.8790805 ,  0.27727878,  0.07851844,  0.1218766 , -0.46742886,\n",
       "        -1.1529218 ],\n",
       "       [ 1.8611166 ,  2.4849942 , -0.15640756, -0.14187439, -0.7298622 ,\n",
       "        -0.4272807 ],\n",
       "       [ 1.9696661 ,  0.8747117 ,  0.08842412, -0.10493436, -0.4089225 ,\n",
       "        -0.14101897],\n",
       "       [ 0.32490328,  0.10496312,  0.09551135, -0.13292418, -0.21723771,\n",
       "         1.2247537 ],\n",
       "       [ 0.18152407, -0.19066863,  0.06876349,  0.08458936,  0.8723859 ,\n",
       "         0.6827144 ],\n",
       "       [ 0.14031158, -1.407543  ,  0.16652088,  0.07117616, -0.26193702,\n",
       "        -0.24969369]], dtype=float32)"
      ]
     },
     "execution_count": 17,
     "metadata": {},
     "output_type": "execute_result"
    }
   ],
   "source": [
    "clf.shap_values_train_[:10]"
   ]
  },
  {
   "cell_type": "code",
   "execution_count": 18,
   "metadata": {
    "scrolled": true
   },
   "outputs": [
    {
     "data": {
      "text/html": [
       "<div>\n",
       "<style scoped>\n",
       "    .dataframe tbody tr th:only-of-type {\n",
       "        vertical-align: middle;\n",
       "    }\n",
       "\n",
       "    .dataframe tbody tr th {\n",
       "        vertical-align: top;\n",
       "    }\n",
       "\n",
       "    .dataframe thead th {\n",
       "        text-align: right;\n",
       "    }\n",
       "</style>\n",
       "<table border=\"1\" class=\"dataframe\">\n",
       "  <thead>\n",
       "    <tr style=\"text-align: right;\">\n",
       "      <th></th>\n",
       "      <th>feature</th>\n",
       "      <th>total_gain</th>\n",
       "    </tr>\n",
       "  </thead>\n",
       "  <tbody>\n",
       "    <tr>\n",
       "      <th>0</th>\n",
       "      <td>F1</td>\n",
       "      <td>1250.819264</td>\n",
       "    </tr>\n",
       "    <tr>\n",
       "      <th>1</th>\n",
       "      <td>F6</td>\n",
       "      <td>720.375067</td>\n",
       "    </tr>\n",
       "    <tr>\n",
       "      <th>2</th>\n",
       "      <td>F5</td>\n",
       "      <td>667.330175</td>\n",
       "    </tr>\n",
       "    <tr>\n",
       "      <th>3</th>\n",
       "      <td>F2</td>\n",
       "      <td>566.643540</td>\n",
       "    </tr>\n",
       "    <tr>\n",
       "      <th>4</th>\n",
       "      <td>F4</td>\n",
       "      <td>193.349443</td>\n",
       "    </tr>\n",
       "    <tr>\n",
       "      <th>5</th>\n",
       "      <td>F3</td>\n",
       "      <td>131.907504</td>\n",
       "    </tr>\n",
       "  </tbody>\n",
       "</table>\n",
       "</div>"
      ],
      "text/plain": [
       "  feature   total_gain\n",
       "0      F1  1250.819264\n",
       "1      F6   720.375067\n",
       "2      F5   667.330175\n",
       "3      F2   566.643540\n",
       "4      F4   193.349443\n",
       "5      F3   131.907504"
      ]
     },
     "execution_count": 18,
     "metadata": {},
     "output_type": "execute_result"
    }
   ],
   "source": [
    "# feature importance (or clf.feature_importance_)\n",
    "clf.get_feature_importance()"
   ]
  },
  {
   "cell_type": "code",
   "execution_count": 19,
   "metadata": {},
   "outputs": [
    {
     "data": {
      "text/plain": [
       "<xgboost.core.Booster at 0x13f72c4c0>"
      ]
     },
     "execution_count": 19,
     "metadata": {},
     "output_type": "execute_result"
    }
   ],
   "source": [
    "clf.model_"
   ]
  }
 ],
 "metadata": {
  "kernelspec": {
   "display_name": "Python 3 (ipykernel)",
   "language": "python",
   "name": "python3"
  },
  "language_info": {
   "codemirror_mode": {
    "name": "ipython",
    "version": 3
   },
   "file_extension": ".py",
   "mimetype": "text/x-python",
   "name": "python",
   "nbconvert_exporter": "python",
   "pygments_lexer": "ipython3",
   "version": "3.9.6"
  }
 },
 "nbformat": 4,
 "nbformat_minor": 4
}
