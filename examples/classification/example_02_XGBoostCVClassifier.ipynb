{
 "cells": [
  {
   "cell_type": "markdown",
   "metadata": {},
   "source": [
    "# Example 02: General Use of XGBoostCVClassifier\n",
    "[![Open In Colab](https://colab.research.google.com/assets/colab-badge.svg)](https://colab.research.google.com/github/slickml/slick-ml/blob/master/examples/classification/example_02_XGBoostCVClassifier.ipynb)"
   ]
  },
  {
   "cell_type": "markdown",
   "metadata": {},
   "source": [
    "### Google Colab Configuration"
   ]
  },
  {
   "cell_type": "code",
   "execution_count": 1,
   "metadata": {},
   "outputs": [],
   "source": [
    "# !git clone https://github.com/slickml/slick-ml.git\n",
    "# %cd slick-ml\n",
    "# !pip install -r requirements.txt"
   ]
  },
  {
   "cell_type": "markdown",
   "metadata": {},
   "source": [
    "### Local Environment Configuration"
   ]
  },
  {
   "cell_type": "code",
   "execution_count": 2,
   "metadata": {},
   "outputs": [
    {
     "name": "stdout",
     "output_type": "stream",
     "text": [
      "/Users/atahmassebi/Desktop/AmirStuff/GitHub/slick-ml\n"
     ]
    }
   ],
   "source": [
    "# Change path to project root\n",
    "%cd ../.."
   ]
  },
  {
   "cell_type": "markdown",
   "metadata": {},
   "source": [
    "### Import Python Libraries"
   ]
  },
  {
   "cell_type": "code",
   "execution_count": 3,
   "metadata": {},
   "outputs": [
    {
     "data": {
      "text/html": [
       "<style>.container { width:95% !important; }</style>"
      ],
      "text/plain": [
       "<IPython.core.display.HTML object>"
      ]
     },
     "metadata": {},
     "output_type": "display_data"
    }
   ],
   "source": [
    "%load_ext autoreload\n",
    "\n",
    "# widen the screen\n",
    "from IPython.core.display import display, HTML\n",
    "\n",
    "display(HTML(\"<style>.container { width:95% !important; }</style>\"))\n",
    "\n",
    "# change the path and loading class\n",
    "import os, sys\n",
    "import pandas as pd\n",
    "import numpy as np\n",
    "import seaborn as sns"
   ]
  },
  {
   "cell_type": "code",
   "execution_count": 4,
   "metadata": {},
   "outputs": [
    {
     "data": {
      "text/html": [
       "<style>.container { width:95% !important; }</style>"
      ],
      "text/plain": [
       "<IPython.core.display.HTML object>"
      ]
     },
     "metadata": {},
     "output_type": "display_data"
    }
   ],
   "source": [
    "%autoreload\n",
    "from slickml.classification import XGBoostCVClassifier"
   ]
  },
  {
   "cell_type": "markdown",
   "metadata": {},
   "source": [
    "-----\n",
    "# XGBoostCVClassifier Docstring"
   ]
  },
  {
   "cell_type": "code",
   "execution_count": 5,
   "metadata": {},
   "outputs": [
    {
     "name": "stdout",
     "output_type": "stream",
     "text": [
      "Help on class XGBoostCVClassifier in module slickml.classification:\n",
      "\n",
      "class XGBoostCVClassifier(XGBoostClassifier)\n",
      " |  XGBoostCVClassifier(num_boost_round=None, n_splits=None, metrics=None, early_stopping_rounds=None, random_state=None, stratified=True, shuffle=True, sparse_matrix=False, scale_mean=False, scale_std=False, importance_type=None, params=None, callbacks=False, verbose=True)\n",
      " |  \n",
      " |  XGBoost CV Classifier.\n",
      " |  This is subclass of XGBoostClassifier to run xgboost.cv()\n",
      " |  model with n-folds cross-validation and train model based on\n",
      " |  the best number of boosting round to avoid over-fitting. This\n",
      " |  function is pretty useful when feature selection is done and you\n",
      " |  want to train a model on the whole data and test on a separate\n",
      " |  validation set. In this case, cross-validation part on the train\n",
      " |  set decrease the possibility of over-fitting.\n",
      " |  run xgboost.train(). Main reference is XGBoost Python API:\n",
      " |  (https://xgboost.readthedocs.io/en/latest/python/python_api.html)\n",
      " |  \n",
      " |  Parameters\n",
      " |  ----------\n",
      " |  num_boost_round: int, optional (default=200)\n",
      " |      Number of boosting round at each fold of xgboost.cv()\n",
      " |  \n",
      " |  n_splits: int, optional (default=4)\n",
      " |      Number of folds for cross-validation\n",
      " |  \n",
      " |  metrics: str or tuple[str], optional (default=(\"auc\"))\n",
      " |      Metric used for evaluation at cross-validation\n",
      " |      using xgboost.cv(). Please note that this is different\n",
      " |      than eval_metric that needs to be passed to params dict.\n",
      " |      Possible values are \"auc\", \"aucpr\", \"error\", \"logloss\"\n",
      " |  \n",
      " |  early_stopping_rounds: int, optional (default=20)\n",
      " |      The criterion to early abort the xgboost.cv() phase\n",
      " |      if the test metric is not improved\n",
      " |  \n",
      " |  random_state: int, optional (default=1367)\n",
      " |      Random seed\n",
      " |  \n",
      " |  stratified: bool, optional (default=True)\n",
      " |      Flag to stratificaiton of the targets to run xgboost.cv() to\n",
      " |      find the best number of boosting round at each fold of\n",
      " |      each iteration\n",
      " |  \n",
      " |  shuffle: bool, optional (default=True)\n",
      " |      Flag to shuffle data to have the ability of building\n",
      " |      stratified folds in xgboost.cv()\n",
      " |  \n",
      " |  sparse_matrix: bool, optional (default=False)\n",
      " |      Flag to convert data to sparse matrix with csr format.\n",
      " |      This would increase the speed of feature selection for\n",
      " |      relatively large datasets\n",
      " |  \n",
      " |  scale_mean: bool, optional (default=False)\n",
      " |      Flag to center the data before scaling. This flag should be\n",
      " |      False when using sparse_matrix=True, since it centering the data\n",
      " |      would decrease the sparsity and in practice it does not make any\n",
      " |      sense to use sparse matrix method and it would make it worse.\n",
      " |  \n",
      " |  scale_std: bool, optional (default=False)\n",
      " |      Flag to scale the data to unit variance\n",
      " |      (or equivalently, unit standard deviation)\n",
      " |  \n",
      " |  importance_type: str, optional (default=\"total_gain\")\n",
      " |      Importance type of xgboost.train() with possible values\n",
      " |      \"weight\", \"gain\", \"total_gain\", \"cover\", \"total_cover\"\n",
      " |  \n",
      " |  params: dict, optional\n",
      " |      Set of parameters for evaluation of xboost.train()\n",
      " |      (default={\"eval_metric\" : \"auc\",\n",
      " |                \"tree_method\": \"hist\",\n",
      " |                \"objective\" : \"binary:logistic\",\n",
      " |                \"learning_rate\" : 0.05,\n",
      " |                \"max_depth\": 2,\n",
      " |                \"min_child_weight\" : 1,\n",
      " |                \"gamma\" : 0.0,\n",
      " |                \"reg_alpha\" : 0.0,\n",
      " |                \"reg_lambda\" : 1.0,\n",
      " |                \"subsample\" : 0.9,\n",
      " |                \"max_delta_step\": 1,\n",
      " |                \"verbosity\" : 0,\n",
      " |                \"nthread\" : 4,\n",
      " |                \"scale_pos_weight\" : 1})\n",
      " |  \n",
      " |  callbacks: bool, optional (default=False)\n",
      " |      Flag for printing results during xgboost.cv().\n",
      " |      This would help to track the early stopping criterion\n",
      " |  \n",
      " |  verbose: bool, optional (default=False)\n",
      " |      Flag to show the final results of xgboost.cv()\n",
      " |  \n",
      " |  Attributes\n",
      " |  ----------\n",
      " |  feature_importance_: dict()\n",
      " |      Returns a dict() of all feature importance based on\n",
      " |      importance_type at each fold of each iteration during\n",
      " |      selection process\n",
      " |  \n",
      " |  feature_frequency_: Pandas DataFrame()\n",
      " |      Returns a DataFrame() cosists of total frequency of\n",
      " |      each feature during the selection process\n",
      " |  \n",
      " |  cv_results_: Pandas DataFrame()\n",
      " |      Return a Pandas DataFrame() of the mean value of the metrics\n",
      " |      in n-folds cross-validation for each boosting round\n",
      " |  \n",
      " |  scaler_: StandardScaler object\n",
      " |      Returns the scaler object if any of scale_mean or scale_std\n",
      " |      was passed True.\n",
      " |  \n",
      " |  X_train_: Pandas DataFrame()\n",
      " |      Returns scaled training data set that passed if if any of\n",
      " |      scale_mean or scale_std was passed as True, else X_train.\n",
      " |  \n",
      " |  X_test_: Pandas DataFrame()\n",
      " |      Returns transformed testing data set using scaler_ object if if any of\n",
      " |      scale_mean or scale_std was passed as True, else X_train.\n",
      " |  \n",
      " |  d_train_: xgboost.DMatrix object\n",
      " |      Returns the xgboost.DMatrix(X_train_, y_train)\n",
      " |  \n",
      " |  d_test_: xgboost.DMatrix object\n",
      " |      Returns the xgboost.DMatrix(X_test_, y_test)\n",
      " |  \n",
      " |  shap_values_train_: Numpy array\n",
      " |      SHAP values from treeExplainer using X_train\n",
      " |  \n",
      " |  shap_values_test_: Numpy array\n",
      " |      SHAP values from treeExplainer using X_test\n",
      " |  \n",
      " |  fit(X_train, y_train): instance method\n",
      " |      Returns None and applies the training process using\n",
      " |      the (X_train, y_train) set using xgboost.cv() and xgboost.train()\n",
      " |  \n",
      " |  predict_proba(X_test, y_test): instance method\n",
      " |      Return the prediction probabilities for positive classes. Please note that\n",
      " |      it only reports the probability of the positive class, while the sklearn\n",
      " |      one returns for both and slicing like pred_proba[:, 1]\n",
      " |      is needed for positive class predictions\n",
      " |  \n",
      " |  predict(X_test, y_test, threshold=0.5): instance method\n",
      " |      Return the prediction classes based on the passed threshold.\n",
      " |      The default threshold is set at 0.5 while you can find the optimum thresholds\n",
      " |      based on different methods using BinaryClassificationMetrics.\n",
      " |  \n",
      " |  get_params(): instance method\n",
      " |      Returns params dict\n",
      " |  \n",
      " |  get_feature_importance(): instance method\n",
      " |      Returns feature importance based on importance_type\n",
      " |      at each fold of each iteration of the selection process\n",
      " |  \n",
      " |  get_cv_results(): instance method\n",
      " |      Return a Pandas DataFrame() of the mean value of the metrics\n",
      " |      in n-folds cross-validation for each boosting round\n",
      " |  \n",
      " |  plot_cv_results(): instance method\n",
      " |      Plot cross-validation results\n",
      " |  \n",
      " |  plot_feature_importance(): instance method\n",
      " |      Plots feature importance\n",
      " |  \n",
      " |  plot_shap_summary(): instance method\n",
      " |      Plot shap values summary\n",
      " |  \n",
      " |  Method resolution order:\n",
      " |      XGBoostCVClassifier\n",
      " |      XGBoostClassifier\n",
      " |      builtins.object\n",
      " |  \n",
      " |  Methods defined here:\n",
      " |  \n",
      " |  __init__(self, num_boost_round=None, n_splits=None, metrics=None, early_stopping_rounds=None, random_state=None, stratified=True, shuffle=True, sparse_matrix=False, scale_mean=False, scale_std=False, importance_type=None, params=None, callbacks=False, verbose=True)\n",
      " |      Initialize self.  See help(type(self)) for accurate signature.\n",
      " |  \n",
      " |  fit(self, X_train, y_train)\n",
      " |      Function to run xgboost.cv() method first to find the best number of boosting round\n",
      " |      and train a model based on that on (X_train, y_train) set and returns it.\n",
      " |      \n",
      " |      Parameters\n",
      " |      ----------\n",
      " |      X_train: numpy.array or pandas.DataFrame\n",
      " |          Training features data\n",
      " |      \n",
      " |      y_train: numpy.array[int] or list[int]\n",
      " |          List of training ground truth binary values [0, 1]\n",
      " |  \n",
      " |  get_cv_results(self)\n",
      " |      Function to return both internal and external cross-validation\n",
      " |      results as Pandas DataFrame().\n",
      " |  \n",
      " |  plot_cv_results(self, figsize=None, linestyle=None, train_label=None, test_label=None, train_color=None, train_std_color=None, test_color=None, test_std_color=None, save_path=None)\n",
      " |      Function to plot the results of xgboost.cv() process and evolution\n",
      " |      of metrics through number of boosting rounds.\n",
      " |      \n",
      " |      Parameters\n",
      " |      ----------\n",
      " |      cv_results: Pandas DataFrame()\n",
      " |          Cross-validation results in DataFrame() format\n",
      " |      \n",
      " |      figsize: tuple, optional, (default=(8, 5))\n",
      " |          Figure size\n",
      " |      \n",
      " |      linestyle: str, optional, (default=\"--\")\n",
      " |          Style of lines. Complete options are available at\n",
      " |          (https://matplotlib.org/3.1.0/gallery/lines_bars_and_markers/linestyles.html)\n",
      " |      \n",
      " |      train_label: str, optional (default=\"Train\")\n",
      " |          Label in the figure legend for the training line\n",
      " |      \n",
      " |      test_label: str, optional (default=\"Test\")\n",
      " |          Label in the figure legend for the training line\n",
      " |      \n",
      " |      train_color: str, optional, (default=\"navy\")\n",
      " |          Color of the training line\n",
      " |      \n",
      " |      train_std_color: str, optional, (default=\"#B3C3F3\")\n",
      " |          Color of the edge color of the training std bars\n",
      " |      \n",
      " |      test_color: str, optional, (default=\"purple\")\n",
      " |          Color of the testing line\n",
      " |      \n",
      " |      test_std_color: str, optional, (default=\"#D0AAF3\")\n",
      " |          Color of the edge color of the testing std bars\n",
      " |      \n",
      " |      save_path: str, optional (default=None)\n",
      " |          The full or relative path to save the plot including the image format.\n",
      " |          For example \"myplot.png\" or \"../../myplot.pdf\"\n",
      " |  \n",
      " |  ----------------------------------------------------------------------\n",
      " |  Methods inherited from XGBoostClassifier:\n",
      " |  \n",
      " |  get_feature_importance(self)\n",
      " |      Function to return the feature importance of the best model\n",
      " |      at each fold of each iteration of feature selection.\n",
      " |  \n",
      " |  get_params(self)\n",
      " |      Function to return the train parameters for XGBoost.\n",
      " |  \n",
      " |  plot_feature_importance(self, figsize=None, color=None, marker=None, markersize=None, markeredgecolor=None, markerfacecolor=None, markeredgewidth=None, fontsize=None, save_path=None)\n",
      " |      Function to plot XGBoost feature importance.\n",
      " |      This function is a helper function based on the feature_importance_\n",
      " |      attribute of the XGBoostCVClassifier class.\n",
      " |      \n",
      " |      Parameters\n",
      " |      ----------\n",
      " |      feature importance: Pandas DataFrame\n",
      " |          Feature frequency\n",
      " |      \n",
      " |      figsize: tuple, optional, (default=(8, 5))\n",
      " |          Figure size\n",
      " |      \n",
      " |      color: str, optional, (default=\"#87CEEB\")\n",
      " |          Color of the vertical lines of lollipops\n",
      " |      \n",
      " |      marker: str, optional, (default=\"o\")\n",
      " |          Market style of the lollipops. Complete valid\n",
      " |          marker styke can be found at:\n",
      " |          (https://matplotlib.org/2.1.1/api/markers_api.html#module-matplotlib.markers)\n",
      " |      \n",
      " |      markersize: int or float, optional, (default=10)\n",
      " |          Markersize\n",
      " |      \n",
      " |      markeredgecolor: str, optional, (default=\"1F77B4\")\n",
      " |          Marker edge color\n",
      " |      \n",
      " |      markerfacecolor: str, optional, (default=\"1F77B4\")\n",
      " |          Marker face color\n",
      " |      \n",
      " |      markeredgewidth: int or float, optional, (default=1)\n",
      " |          Marker edge width\n",
      " |      \n",
      " |      fontsize: int or float, optional, (default=12)\n",
      " |          Fontsize for xlabel and ylabel, and ticks parameters\n",
      " |      \n",
      " |      save_path: str, optional (default=None)\n",
      " |          The full or relative path to save the plot including the image format.\n",
      " |          For example \"myplot.png\" or \"../../myplot.pdf\"\n",
      " |  \n",
      " |  plot_shap_summary(self, validation=True, plot_type=None, figsize=None, color=None, max_display=None, feature_names=None, title=None, show=True, sort=True, color_bar=True, layered_violin_max_num_bins=None, class_names=None, class_inds=None, color_bar_label=None, save_path=None)\n",
      " |      Function to plot shap summary plot.\n",
      " |      This function is a helper function to plot the shap summary plot\n",
      " |      based on all types of shap explainers including tree, linear, and dnn.\n",
      " |      Please note that this function should be ran after the predict_proba to\n",
      " |      make sure the X_test is being instansiated.\n",
      " |      \n",
      " |      Parameters\n",
      " |      ----------\n",
      " |      validation: bool, optional, (default=True)\n",
      " |          Flag to calculate SHAP values of X_test if it is True.\n",
      " |          If validation=False, it calculates the SHAP values of\n",
      " |          X_train and plots the summary plot.\n",
      " |      \n",
      " |      plot_type: str, optional (single-output default=\"dot\", multi-output default=\"bar\")\n",
      " |          The type of summar plot. Options are \"bar\", \"dot\", \"violin\", \"layered_violin\",\n",
      " |          and \"compact_dot\" which is recommended for SHAP interactions\n",
      " |      \n",
      " |      figsize: tuple, optional, (default=\"auto\")\n",
      " |          Figure size\n",
      " |      \n",
      " |      color: str, optional, (default= \"#D0AAF3\" for \"bar\")\n",
      " |          Color of violin and layered violin plots are \"RdBl\" cmap\n",
      " |          Color of the horizontal lines when plot_type=\"bar\" is \"#D0AAF3\"\n",
      " |      \n",
      " |      max_display: int, optional, (default=20)\n",
      " |          Limit to show the number of features in the plot\n",
      " |      \n",
      " |      feature_names: str, optional, (default=None)\n",
      " |          List of feature names to pass. It should follow the order\n",
      " |          of fatures\n",
      " |      \n",
      " |      title: str, optional, (default=None)\n",
      " |          Title of the plot\n",
      " |      \n",
      " |      show: bool, optional, (default=True)\n",
      " |          Flag to show the plot in inteactive environment\n",
      " |      \n",
      " |      sort: bool, optional, (default=True)\n",
      " |          Flag to plot sorted shap vlues in descending order\n",
      " |      \n",
      " |      color_bar: bool, optional, (default=True)\n",
      " |          Flag to show color_bar when plot_type is \"dot\" or \"violin\"\n",
      " |      \n",
      " |      layered_violin_max_num_bins: int, optional, (default=10)\n",
      " |          The number of bins for calculating the violin plots ranges\n",
      " |          and outliers\n",
      " |      \n",
      " |      class_names: list, optional, (default=None)\n",
      " |          List of class names for multi-output problems\n",
      " |      \n",
      " |      class_inds: list, optional, (default=True)\n",
      " |          List of class indices for multi-output problems\n",
      " |      \n",
      " |      color_bar_label: str, optional, (default=\"Feature Value\")\n",
      " |          Label for color bar\n",
      " |      \n",
      " |      save_path: str, optional (default=None)\n",
      " |          The full or relative path to save the plot including the image format.\n",
      " |          For example \"myplot.png\" or \"../../myplot.pdf\"\n",
      " |  \n",
      " |  plot_shap_waterfall(self, validation=True, figsize=None, bar_color=None, bar_thickness=None, line_color=None, marker=None, markersize=None, markeredgecolor=None, markerfacecolor=None, markeredgewidth=None, max_display=None, title=None, fontsize=None, save_path=None)\n",
      " |      Function to plot shap waterfall plot.\n",
      " |      This function is a helper function to plot the shap waterfall plot\n",
      " |      based on all types of shap explainers including tree, linear, and dnn.\n",
      " |      This would show the cumulitative/composite ratios of shap values per feature.\n",
      " |      Therefore, it can be easily seen with each feature how much explainability we\n",
      " |      can acheieve. Please note that this function should be ran after the predict_proba to\n",
      " |      make sure the X_test is being instansiated.\n",
      " |      \n",
      " |      Parameters\n",
      " |      ----------\n",
      " |      validation: bool, optional, (default=True)\n",
      " |          Flag to calculate SHAP values of X_test if it is True.\n",
      " |          If validation=False, it calculates the SHAP values of\n",
      " |          X_train and plots the summary plot.\n",
      " |      \n",
      " |      figsize: tuple, optional, (default=(8, 5))\n",
      " |          Figure size\n",
      " |      \n",
      " |      bar_color: str, optional, (default=\"#B3C3F3\")\n",
      " |          Color of the horizontal bar lines\n",
      " |      \n",
      " |      bar_thickness: float, optional, (default=0.5)\n",
      " |          Thickness (hight) of the horizontal bar lines\n",
      " |      \n",
      " |      line_color: str, optional, (default=\"purple\")\n",
      " |          Color of the line plot\n",
      " |      \n",
      " |      marker: str, optional, (default=\"o\")\n",
      " |          Marker style\n",
      " |          marker style can be found at:\n",
      " |          (https://matplotlib.org/2.1.1/api/markers_api.html#module-matplotlib.markers)\n",
      " |      \n",
      " |      markersize: int or float, optional, (default=7)\n",
      " |          Markersize\n",
      " |      \n",
      " |      markeredgecolor: str, optional, (default=\"purple\")\n",
      " |          Marker edge color\n",
      " |      \n",
      " |      markerfacecolor: str, optional, (default=\"purple\")\n",
      " |          Marker face color\n",
      " |      \n",
      " |      markeredgewidth: int or float, optional, (default=1)\n",
      " |          Marker edge width\n",
      " |      \n",
      " |      max_display: int, optional, (default=20)\n",
      " |          Limit to show the number of features in the plot\n",
      " |      \n",
      " |      title: str, optional, (default=None)\n",
      " |          Title of the plot\n",
      " |      \n",
      " |      fontsize: int or float, optional, (default=12)\n",
      " |          Fontsize for xlabel and ylabel, and ticks parameters\n",
      " |      \n",
      " |      save_path: str, optional (default=None)\n",
      " |          The full or relative path to save the plot including the image format.\n",
      " |          For example \"myplot.png\" or \"../../myplot.pdf\"\n",
      " |  \n",
      " |  predict(self, X_test, y_test=None, threshold=0.5)\n",
      " |      Function to return the prediction classes based on the passed threshold.\n",
      " |      The default threshold is set at 0.5 while you can find the optimum thresholds\n",
      " |      based on different methods using BinaryClassificationMetrics.\n",
      " |      \n",
      " |      Parameters\n",
      " |      ----------\n",
      " |      X_test: numpy.array or pandas.DataFrame\n",
      " |          Validation features data\n",
      " |      \n",
      " |      y_test: numpy.array[int] or list[int], optional (default=None)\n",
      " |          List of validation ground truth binary values [0, 1]\n",
      " |      \n",
      " |      threshold: float, optional (default=0.5)\n",
      " |          Threshold to define classes based on probabilities.\n",
      " |          predict_proba >= threshold would be defined as 1 else 0.\n",
      " |  \n",
      " |  predict_proba(self, X_test, y_test=None)\n",
      " |      Function to return the prediction probabilities for both classes.\n",
      " |      Please note that it only reports the probability of the positive class,\n",
      " |      while the sklearn one returns for both and slicing like pred_proba[:, 1]\n",
      " |      is needed for positive class predictions. Note that y_test is optional while\n",
      " |      it might not be available in validiation.\n",
      " |      \n",
      " |      Parameters\n",
      " |      ----------\n",
      " |      X_test: numpy.array or pandas.DataFrame\n",
      " |          Validation features data\n",
      " |      \n",
      " |      y_test: numpy.array[int] or list[int], optional (default=None)\n",
      " |          List of validation ground truth binary values [0, 1]\n",
      " |  \n",
      " |  ----------------------------------------------------------------------\n",
      " |  Data descriptors inherited from XGBoostClassifier:\n",
      " |  \n",
      " |  __dict__\n",
      " |      dictionary for instance variables (if defined)\n",
      " |  \n",
      " |  __weakref__\n",
      " |      list of weak references to the object (if defined)\n",
      "\n"
     ]
    }
   ],
   "source": [
    "help(XGBoostCVClassifier)"
   ]
  },
  {
   "cell_type": "markdown",
   "metadata": {},
   "source": [
    "## Example"
   ]
  },
  {
   "cell_type": "code",
   "execution_count": 6,
   "metadata": {},
   "outputs": [
    {
     "data": {
      "text/html": [
       "<div>\n",
       "<style scoped>\n",
       "    .dataframe tbody tr th:only-of-type {\n",
       "        vertical-align: middle;\n",
       "    }\n",
       "\n",
       "    .dataframe tbody tr th {\n",
       "        vertical-align: top;\n",
       "    }\n",
       "\n",
       "    .dataframe thead th {\n",
       "        text-align: right;\n",
       "    }\n",
       "</style>\n",
       "<table border=\"1\" class=\"dataframe\">\n",
       "  <thead>\n",
       "    <tr style=\"text-align: right;\">\n",
       "      <th></th>\n",
       "      <th>F1</th>\n",
       "      <th>F2</th>\n",
       "      <th>F3</th>\n",
       "      <th>F4</th>\n",
       "      <th>F5</th>\n",
       "      <th>F6</th>\n",
       "      <th>CLASS</th>\n",
       "    </tr>\n",
       "  </thead>\n",
       "  <tbody>\n",
       "    <tr>\n",
       "      <th>0</th>\n",
       "      <td>5.7</td>\n",
       "      <td>4.7</td>\n",
       "      <td>3.7</td>\n",
       "      <td>58.0</td>\n",
       "      <td>249.30</td>\n",
       "      <td>456.47</td>\n",
       "      <td>0</td>\n",
       "    </tr>\n",
       "    <tr>\n",
       "      <th>1</th>\n",
       "      <td>7.7</td>\n",
       "      <td>6.6</td>\n",
       "      <td>4.1</td>\n",
       "      <td>20.0</td>\n",
       "      <td>260.92</td>\n",
       "      <td>443.43</td>\n",
       "      <td>1</td>\n",
       "    </tr>\n",
       "    <tr>\n",
       "      <th>2</th>\n",
       "      <td>6.2</td>\n",
       "      <td>4.3</td>\n",
       "      <td>4.6</td>\n",
       "      <td>59.0</td>\n",
       "      <td>255.63</td>\n",
       "      <td>478.96</td>\n",
       "      <td>1</td>\n",
       "    </tr>\n",
       "    <tr>\n",
       "      <th>3</th>\n",
       "      <td>5.7</td>\n",
       "      <td>4.4</td>\n",
       "      <td>3.8</td>\n",
       "      <td>49.0</td>\n",
       "      <td>195.28</td>\n",
       "      <td>381.94</td>\n",
       "      <td>0</td>\n",
       "    </tr>\n",
       "    <tr>\n",
       "      <th>4</th>\n",
       "      <td>9.1</td>\n",
       "      <td>4.7</td>\n",
       "      <td>4.6</td>\n",
       "      <td>17.0</td>\n",
       "      <td>259.55</td>\n",
       "      <td>395.67</td>\n",
       "      <td>1</td>\n",
       "    </tr>\n",
       "  </tbody>\n",
       "</table>\n",
       "</div>"
      ],
      "text/plain": [
       "    F1   F2   F3    F4      F5      F6  CLASS\n",
       "0  5.7  4.7  3.7  58.0  249.30  456.47      0\n",
       "1  7.7  6.6  4.1  20.0  260.92  443.43      1\n",
       "2  6.2  4.3  4.6  59.0  255.63  478.96      1\n",
       "3  5.7  4.4  3.8  49.0  195.28  381.94      0\n",
       "4  9.1  4.7  4.6  17.0  259.55  395.67      1"
      ]
     },
     "execution_count": 6,
     "metadata": {},
     "output_type": "execute_result"
    }
   ],
   "source": [
    "# loading data\n",
    "df = pd.read_csv(\"data/clf_data.csv\")\n",
    "df.head()"
   ]
  },
  {
   "cell_type": "code",
   "execution_count": 7,
   "metadata": {},
   "outputs": [],
   "source": [
    "# define X, y\n",
    "y = df.CLASS.values\n",
    "X = df.drop([\"CLASS\"], axis=1)"
   ]
  },
  {
   "cell_type": "code",
   "execution_count": 8,
   "metadata": {},
   "outputs": [],
   "source": [
    "from sklearn.model_selection import train_test_split\n",
    "\n",
    "X_train, X_test, y_train, y_test = train_test_split(\n",
    "    X, y, test_size=0.2, shuffle=True, stratify=y, random_state=1367\n",
    ")"
   ]
  },
  {
   "cell_type": "code",
   "execution_count": 9,
   "metadata": {},
   "outputs": [
    {
     "name": "stdout",
     "output_type": "stream",
     "text": [
      "\u001b[1m*-* \u001b[92mBest Boosting Round = 184\u001b[0m\u001b[1m -*- \u001b[31m4-Folds CV LOGLOSS: \u001b[0m\u001b[1m\u001b[44mTrain = 0.234 +/- 0.007\u001b[0m\u001b[1m -*- \u001b[45mTest = 0.317 +/- 0.024\u001b[0m\u001b[1m *-*\n"
     ]
    }
   ],
   "source": [
    "# setup feature selector object\n",
    "params = {\n",
    "    \"eval_metric\": \"auc\",\n",
    "    \"learning_rate\": 0.05,\n",
    "    \"max_depth\": 2,\n",
    "    \"min_child_weight\": 1,\n",
    "    \"gamma\": 0.0,\n",
    "}\n",
    "\n",
    "clf = XGBoostCVClassifier(num_boost_round=500, n_splits=4, metrics=(\"logloss\"), params=params)\n",
    "clf.fit(X_train, y_train)"
   ]
  },
  {
   "cell_type": "code",
   "execution_count": 10,
   "metadata": {},
   "outputs": [
    {
     "data": {
      "image/png": "[encoded data removed]",
      "text/plain": [
       "<Figure size 576x360 with 1 Axes>"
      ]
     },
     "metadata": {},
     "output_type": "display_data"
    }
   ],
   "source": [
    "clf.plot_cv_results()"
   ]
  },
  {
   "cell_type": "code",
   "execution_count": 11,
   "metadata": {},
   "outputs": [
    {
     "data": {
      "image/png": "[encoded data removed]",
      "text/plain": [
       "<Figure size 576x360 with 1 Axes>"
      ]
     },
     "metadata": {},
     "output_type": "display_data"
    }
   ],
   "source": [
    "clf.plot_feature_importance()"
   ]
  },
  {
   "cell_type": "code",
   "execution_count": 12,
   "metadata": {},
   "outputs": [
    {
     "data": {
      "text/plain": [
       "array([0.64171946, 0.61684114, 0.99003017, 0.91298306, 0.8299428 ,\n",
       "       0.7633004 , 0.6021808 , 0.90217304, 0.97642833, 0.99487996],\n",
       "      dtype=float32)"
      ]
     },
     "execution_count": 12,
     "metadata": {},
     "output_type": "execute_result"
    }
   ],
   "source": [
    "# predic proba (or clf.y_pred_proba_)\n",
    "y_pred_proba = clf.predict_proba(X_test, y_test)\n",
    "y_pred_proba[:10]"
   ]
  },
  {
   "cell_type": "code",
   "execution_count": 13,
   "metadata": {},
   "outputs": [
    {
     "data": {
      "text/plain": [
       "array([0.64171946, 0.61684114, 0.99003017, 0.91298306, 0.8299428 ,\n",
       "       0.7633004 , 0.6021808 , 0.90217304, 0.97642833, 0.99487996],\n",
       "      dtype=float32)"
      ]
     },
     "execution_count": 13,
     "metadata": {},
     "output_type": "execute_result"
    }
   ],
   "source": [
    "# (or clf.y_pred_proba_)\n",
    "clf.y_pred_proba_[:10]"
   ]
  },
  {
   "cell_type": "code",
   "execution_count": 14,
   "metadata": {},
   "outputs": [
    {
     "data": {
      "text/plain": [
       "[0, 0, 1, 1, 1, 1, 0, 1, 1, 1]"
      ]
     },
     "execution_count": 14,
     "metadata": {},
     "output_type": "execute_result"
    }
   ],
   "source": [
    "# pred class (or clf.y_pred_)\n",
    "# threshold can be set\n",
    "y_pred = clf.predict(X_test, threshold=0.67)\n",
    "y_pred[:10]"
   ]
  },
  {
   "cell_type": "code",
   "execution_count": 15,
   "metadata": {},
   "outputs": [
    {
     "data": {
      "image/png": "[encoded data removed]",
      "text/plain": [
       "<Figure size 576x280.8 with 2 Axes>"
      ]
     },
     "metadata": {},
     "output_type": "display_data"
    }
   ],
   "source": [
    "# shap summary plot violin on test data\n",
    "clf.plot_shap_summary(plot_type=\"violin\", validation=True)"
   ]
  },
  {
   "cell_type": "code",
   "execution_count": 16,
   "metadata": {
    "scrolled": true
   },
   "outputs": [
    {
     "data": {
      "image/png": "[encoded data removed]",
      "text/plain": [
       "<Figure size 576x280.8 with 2 Axes>"
      ]
     },
     "metadata": {},
     "output_type": "display_data"
    }
   ],
   "source": [
    "# shap summary plot layered violin plot on train data\n",
    "clf.plot_shap_summary(plot_type=\"layered_violin\", validation=False, layered_violin_max_num_bins=5)"
   ]
  },
  {
   "cell_type": "code",
   "execution_count": 17,
   "metadata": {},
   "outputs": [
    {
     "data": {
      "image/png": "[encoded data removed]",
      "text/plain": [
       "<Figure size 576x360 with 2 Axes>"
      ]
     },
     "metadata": {},
     "output_type": "display_data"
    }
   ],
   "source": [
    "# shap waterfall plot\n",
    "clf.plot_shap_waterfall()"
   ]
  },
  {
   "cell_type": "code",
   "execution_count": 18,
   "metadata": {},
   "outputs": [
    {
     "data": {
      "text/plain": [
       "array([[-1.2005614 , -0.6349206 ,  0.19855826,  0.03281969,  0.51452583,\n",
       "         0.07554262],\n",
       "       [ 0.23941053, -0.60504323, -0.28683293, -0.03096407, -0.22099388,\n",
       "        -0.216284  ],\n",
       "       [ 1.8264248 ,  1.6714604 ,  0.0565909 ,  0.01923166, -0.41215527,\n",
       "        -0.16024815],\n",
       "       [ 1.7477709 ,  0.06145534,  0.0593722 ,  0.07809728, -0.5916128 ,\n",
       "        -0.6013375 ],\n",
       "       [-0.08796261, -1.09392   , -0.27112603, -0.09717903,  0.575242  ,\n",
       "         0.96329737],\n",
       "       [ 0.28039014, -0.10400181, -0.17911063, -0.01561601, -0.21933109,\n",
       "        -0.18834132],\n",
       "       [ 0.19935322, -1.0103196 ,  0.12393563, -0.03731423, -0.23873761,\n",
       "        -0.21922778],\n",
       "       [ 0.33002245,  0.6182194 ,  0.06548949, -0.0102291 , -0.22334066,\n",
       "        -0.15542485],\n",
       "       [ 0.30563477,  1.6667733 ,  0.12042817, -0.04798719,  0.06836368,\n",
       "         0.01377192],\n",
       "       [ 2.404328  ,  1.7473522 ,  0.1353038 ,  0.09186842, -0.49653548,\n",
       "        -0.20973206]], dtype=float32)"
      ]
     },
     "execution_count": 18,
     "metadata": {},
     "output_type": "execute_result"
    }
   ],
   "source": [
    "clf.shap_values_test_[:10]"
   ]
  },
  {
   "cell_type": "code",
   "execution_count": 19,
   "metadata": {},
   "outputs": [
    {
     "data": {
      "text/plain": [
       "array([[ 1.665816  ,  1.8591485 , -0.08352551, -0.10808454, -0.54267806,\n",
       "        -0.39803675],\n",
       "       [ 0.26592866, -0.19753721,  0.07379389,  0.05649821, -0.22076738,\n",
       "        -0.37988985],\n",
       "       [ 0.13361195, -1.1272837 , -0.2919951 ,  0.03111111,  0.04993655,\n",
       "         0.2176648 ],\n",
       "       [ 2.3987846 ,  1.6307589 ,  0.06135088, -0.04600068, -0.11875799,\n",
       "        -0.06999492],\n",
       "       [ 2.3355286 ,  0.08118344,  0.06045018,  0.08600937, -0.5318051 ,\n",
       "        -1.2756107 ],\n",
       "       [ 1.7009639 ,  1.8591485 , -0.08352551, -0.03712523, -0.54267806,\n",
       "        -0.39803675],\n",
       "       [ 1.7785164 ,  0.590538  ,  0.06134036, -0.04835069, -0.26444903,\n",
       "        -0.14923693],\n",
       "       [ 0.2598786 ,  0.02775853,  0.08566007, -0.10532834, -0.20046954,\n",
       "         0.90344745],\n",
       "       [ 0.13745104, -0.1553896 ,  0.06788931, -0.00544032,  0.56880987,\n",
       "         0.6611805 ],\n",
       "       [ 0.16715604, -1.1237895 ,  0.12393563,  0.02946925, -0.2324549 ,\n",
       "        -0.4222907 ]], dtype=float32)"
      ]
     },
     "execution_count": 19,
     "metadata": {},
     "output_type": "execute_result"
    }
   ],
   "source": [
    "clf.shap_values_train_[:10]"
   ]
  },
  {
   "cell_type": "code",
   "execution_count": 20,
   "metadata": {},
   "outputs": [
    {
     "data": {
      "text/html": [
       "<div>\n",
       "<style scoped>\n",
       "    .dataframe tbody tr th:only-of-type {\n",
       "        vertical-align: middle;\n",
       "    }\n",
       "\n",
       "    .dataframe tbody tr th {\n",
       "        vertical-align: top;\n",
       "    }\n",
       "\n",
       "    .dataframe thead th {\n",
       "        text-align: right;\n",
       "    }\n",
       "</style>\n",
       "<table border=\"1\" class=\"dataframe\">\n",
       "  <thead>\n",
       "    <tr style=\"text-align: right;\">\n",
       "      <th></th>\n",
       "      <th>train-logloss-mean</th>\n",
       "      <th>train-logloss-std</th>\n",
       "      <th>test-logloss-mean</th>\n",
       "      <th>test-logloss-std</th>\n",
       "    </tr>\n",
       "  </thead>\n",
       "  <tbody>\n",
       "    <tr>\n",
       "      <th>180</th>\n",
       "      <td>0.235789</td>\n",
       "      <td>0.007246</td>\n",
       "      <td>0.317483</td>\n",
       "      <td>0.023996</td>\n",
       "    </tr>\n",
       "    <tr>\n",
       "      <th>181</th>\n",
       "      <td>0.235385</td>\n",
       "      <td>0.007169</td>\n",
       "      <td>0.317239</td>\n",
       "      <td>0.023804</td>\n",
       "    </tr>\n",
       "    <tr>\n",
       "      <th>182</th>\n",
       "      <td>0.235012</td>\n",
       "      <td>0.007174</td>\n",
       "      <td>0.317179</td>\n",
       "      <td>0.023877</td>\n",
       "    </tr>\n",
       "    <tr>\n",
       "      <th>183</th>\n",
       "      <td>0.234660</td>\n",
       "      <td>0.007154</td>\n",
       "      <td>0.317133</td>\n",
       "      <td>0.023629</td>\n",
       "    </tr>\n",
       "    <tr>\n",
       "      <th>184</th>\n",
       "      <td>0.234274</td>\n",
       "      <td>0.007050</td>\n",
       "      <td>0.317041</td>\n",
       "      <td>0.023677</td>\n",
       "    </tr>\n",
       "  </tbody>\n",
       "</table>\n",
       "</div>"
      ],
      "text/plain": [
       "     train-logloss-mean  train-logloss-std  test-logloss-mean  \\\n",
       "180            0.235789           0.007246           0.317483   \n",
       "181            0.235385           0.007169           0.317239   \n",
       "182            0.235012           0.007174           0.317179   \n",
       "183            0.234660           0.007154           0.317133   \n",
       "184            0.234274           0.007050           0.317041   \n",
       "\n",
       "     test-logloss-std  \n",
       "180          0.023996  \n",
       "181          0.023804  \n",
       "182          0.023877  \n",
       "183          0.023629  \n",
       "184          0.023677  "
      ]
     },
     "execution_count": 20,
     "metadata": {},
     "output_type": "execute_result"
    }
   ],
   "source": [
    "# cv_results (or clf.cv_results_)\n",
    "cvr = clf.get_cv_results()\n",
    "cvr.tail()"
   ]
  },
  {
   "cell_type": "code",
   "execution_count": 21,
   "metadata": {
    "scrolled": true
   },
   "outputs": [
    {
     "data": {
      "text/html": [
       "<div>\n",
       "<style scoped>\n",
       "    .dataframe tbody tr th:only-of-type {\n",
       "        vertical-align: middle;\n",
       "    }\n",
       "\n",
       "    .dataframe tbody tr th {\n",
       "        vertical-align: top;\n",
       "    }\n",
       "\n",
       "    .dataframe thead th {\n",
       "        text-align: right;\n",
       "    }\n",
       "</style>\n",
       "<table border=\"1\" class=\"dataframe\">\n",
       "  <thead>\n",
       "    <tr style=\"text-align: right;\">\n",
       "      <th></th>\n",
       "      <th>feature</th>\n",
       "      <th>total_gain</th>\n",
       "    </tr>\n",
       "  </thead>\n",
       "  <tbody>\n",
       "    <tr>\n",
       "      <th>0</th>\n",
       "      <td>F1</td>\n",
       "      <td>1130.963486</td>\n",
       "    </tr>\n",
       "    <tr>\n",
       "      <th>1</th>\n",
       "      <td>F6</td>\n",
       "      <td>612.299638</td>\n",
       "    </tr>\n",
       "    <tr>\n",
       "      <th>2</th>\n",
       "      <td>F5</td>\n",
       "      <td>555.854783</td>\n",
       "    </tr>\n",
       "    <tr>\n",
       "      <th>3</th>\n",
       "      <td>F2</td>\n",
       "      <td>478.795449</td>\n",
       "    </tr>\n",
       "    <tr>\n",
       "      <th>4</th>\n",
       "      <td>F4</td>\n",
       "      <td>82.152632</td>\n",
       "    </tr>\n",
       "    <tr>\n",
       "      <th>5</th>\n",
       "      <td>F3</td>\n",
       "      <td>78.653343</td>\n",
       "    </tr>\n",
       "  </tbody>\n",
       "</table>\n",
       "</div>"
      ],
      "text/plain": [
       "  feature   total_gain\n",
       "0      F1  1130.963486\n",
       "1      F6   612.299638\n",
       "2      F5   555.854783\n",
       "3      F2   478.795449\n",
       "4      F4    82.152632\n",
       "5      F3    78.653343"
      ]
     },
     "execution_count": 21,
     "metadata": {},
     "output_type": "execute_result"
    }
   ],
   "source": [
    "# feature importance (or clf.feature_importance_)\n",
    "clf.get_feature_importance()"
   ]
  },
  {
   "cell_type": "code",
   "execution_count": 22,
   "metadata": {},
   "outputs": [
    {
     "data": {
      "text/plain": [
       "<xgboost.core.Booster at 0x13b445820>"
      ]
     },
     "execution_count": 22,
     "metadata": {},
     "output_type": "execute_result"
    }
   ],
   "source": [
    "clf.model_"
   ]
  }
 ],
 "metadata": {
  "kernelspec": {
   "display_name": "Python 3 (ipykernel)",
   "language": "python",
   "name": "python3"
  },
  "language_info": {
   "codemirror_mode": {
    "name": "ipython",
    "version": 3
   },
   "file_extension": ".py",
   "mimetype": "text/x-python",
   "name": "python",
   "nbconvert_exporter": "python",
   "pygments_lexer": "ipython3",
   "version": "3.9.6"
  }
 },
 "nbformat": 4,
 "nbformat_minor": 4
}
