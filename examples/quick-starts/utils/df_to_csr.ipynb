{
 "cells": [
  {
   "cell_type": "markdown",
   "source": [
    "# `utils.df_to_csr`"
   ],
   "metadata": {}
  },
  {
   "cell_type": "code",
   "execution_count": 1,
   "source": [
    "%load_ext autoreload\n",
    "%autoreload 2"
   ],
   "outputs": [],
   "metadata": {}
  },
  {
   "cell_type": "code",
   "execution_count": 3,
   "source": [
    "import slickml\n",
    "\n",
    "print(f\"Loaded SlickML Version = {slickml.__version__}\")"
   ],
   "outputs": [
    {
     "output_type": "stream",
     "name": "stdout",
     "text": [
      "Loaded SlickML Version = 0.2.0b0\n"
     ]
    }
   ],
   "metadata": {}
  },
  {
   "cell_type": "code",
   "execution_count": 4,
   "source": [
    "from slickml.utils import df_to_csr\n",
    "\n",
    "help(df_to_csr)"
   ],
   "outputs": [
    {
     "output_type": "stream",
     "name": "stdout",
     "text": [
      "Help on function df_to_csr in module slickml.utils._transform:\n",
      "\n",
      "df_to_csr(df: pandas.core.frame.DataFrame, *, fillna: Optional[float] = 0.0, verbose: Optional[bool] = False) -> scipy.sparse._csr.csr_matrix\n",
      "    Transforms a pandas DataFrame into a Compressed Sparse Row (CSR) matrix [1]_.\n",
      "    \n",
      "    Parameters\n",
      "    ----------\n",
      "    df : pd.DataFrame\n",
      "        Input dataframe\n",
      "    \n",
      "    fillna : float, optional\n",
      "        Value to fill nulls, by default 0.0\n",
      "    \n",
      "    verbose : bool, optional\n",
      "        Whether to show the memory usage comparison of csr matrix and pandas DataFrame, by default False\n",
      "    \n",
      "    Returns\n",
      "    -------\n",
      "    csr_matrix\n",
      "        Transformed pandas DataFrame in CSR matrix format\n",
      "    \n",
      "    Notes\n",
      "    -----\n",
      "    This utility function is being used across API when the `sparse_matrix=True` for all classifiers\n",
      "    and regressors. In practice, when we are dealing with sparse matrices, it does make sense to\n",
      "    employ this functionality. It should be noted that using sparse matrices when the input matrix\n",
      "    is dense would actually end up using more momory. This can be checked by passing `verbose=True`\n",
      "    or using `memory_use_csr()` function directly on top of your csr matrix. In addition, you can\n",
      "    compare the memory usage of the csr matrix with the input pandas DataFrame via\n",
      "    `df.memory_usage().sum()`.\n",
      "    \n",
      "    References\n",
      "    ----------\n",
      "    .. [1] https://docs.scipy.org/doc/scipy/reference/generated/scipy.sparse.csr_matrix.html\n",
      "    \n",
      "    Examples\n",
      "    --------\n",
      "    >>> import pandas as pd\n",
      "    >>> from slickml.utils import df_to_csr\n",
      "    >>> csr = df_to_csr(\n",
      "    ...     df=pd.DataFrame({\"foo\": [0, 1, 0, 1]}),\n",
      "    ...     fillna=0.0,\n",
      "    ...     verbose=True,\n",
      "    ... )\n",
      "\n"
     ]
    }
   ],
   "metadata": {}
  },
  {
   "cell_type": "markdown",
   "source": [
    "### Example 1: `df_to_csr` with `pandas.DataFrame` as the input data"
   ],
   "metadata": {}
  },
  {
   "cell_type": "code",
   "execution_count": 7,
   "source": [
    "import pandas as pd\n",
    "\n",
    "df = pd.DataFrame(\n",
    "    {\n",
    "        \"foo\": [0, 1, 0, 1],\n",
    "    }\n",
    ")\n",
    "df"
   ],
   "outputs": [
    {
     "output_type": "execute_result",
     "data": {
      "text/html": [
       "<div>\n",
       "<style scoped>\n",
       "    .dataframe tbody tr th:only-of-type {\n",
       "        vertical-align: middle;\n",
       "    }\n",
       "\n",
       "    .dataframe tbody tr th {\n",
       "        vertical-align: top;\n",
       "    }\n",
       "\n",
       "    .dataframe thead th {\n",
       "        text-align: right;\n",
       "    }\n",
       "</style>\n",
       "<table border=\"1\" class=\"dataframe\">\n",
       "  <thead>\n",
       "    <tr style=\"text-align: right;\">\n",
       "      <th></th>\n",
       "      <th>foo</th>\n",
       "    </tr>\n",
       "  </thead>\n",
       "  <tbody>\n",
       "    <tr>\n",
       "      <th>0</th>\n",
       "      <td>0</td>\n",
       "    </tr>\n",
       "    <tr>\n",
       "      <th>1</th>\n",
       "      <td>1</td>\n",
       "    </tr>\n",
       "    <tr>\n",
       "      <th>2</th>\n",
       "      <td>0</td>\n",
       "    </tr>\n",
       "    <tr>\n",
       "      <th>3</th>\n",
       "      <td>1</td>\n",
       "    </tr>\n",
       "  </tbody>\n",
       "</table>\n",
       "</div>"
      ],
      "text/plain": [
       "   foo\n",
       "0    0\n",
       "1    1\n",
       "2    0\n",
       "3    1"
      ]
     },
     "metadata": {},
     "execution_count": 7
    }
   ],
   "metadata": {
    "scrolled": true
   }
  },
  {
   "cell_type": "code",
   "execution_count": 8,
   "source": [
    "csr = df_to_csr(\n",
    "    df,\n",
    "    fillna=0.0,\n",
    "    verbose=True,\n",
    ")\n",
    "csr"
   ],
   "outputs": [
    {
     "output_type": "stream",
     "name": "stdout",
     "text": [
      "<class 'pandas.core.frame.DataFrame'>\n",
      "RangeIndex: 4 entries, 0 to 3\n",
      "Data columns (total 1 columns):\n",
      " #   Column  Non-Null Count  Dtype\n",
      "---  ------  --------------  -----\n",
      " 0   foo     4 non-null      int64\n",
      "dtypes: int64(1)\n",
      "memory usage: 160.0 bytes\n",
      "CSR memory usage: 44.0 bytes\n",
      "CSR memory usage: 0.00004 MB\n"
     ]
    },
    {
     "output_type": "execute_result",
     "data": {
      "text/plain": [
       "<4x1 sparse matrix of type '<class 'numpy.float64'>'\n",
       "\twith 2 stored elements in Compressed Sparse Row format>"
      ]
     },
     "metadata": {},
     "execution_count": 8
    }
   ],
   "metadata": {}
  },
  {
   "cell_type": "code",
   "execution_count": 10,
   "source": [
    "type(csr)"
   ],
   "outputs": [
    {
     "output_type": "execute_result",
     "data": {
      "text/plain": [
       "scipy.sparse._csr.csr_matrix"
      ]
     },
     "metadata": {},
     "execution_count": 10
    }
   ],
   "metadata": {}
  },
  {
   "cell_type": "code",
   "execution_count": 11,
   "source": [
    "csr.data"
   ],
   "outputs": [
    {
     "output_type": "execute_result",
     "data": {
      "text/plain": [
       "array([1., 1.])"
      ]
     },
     "metadata": {},
     "execution_count": 11
    }
   ],
   "metadata": {}
  }
 ],
 "metadata": {
  "kernelspec": {
   "name": "python3",
   "display_name": "Python 3.9.7 64-bit ('.venv': poetry)"
  },
  "language_info": {
   "codemirror_mode": {
    "name": "ipython",
    "version": 3
   },
   "file_extension": ".py",
   "mimetype": "text/x-python",
   "name": "python",
   "nbconvert_exporter": "python",
   "pygments_lexer": "ipython3",
   "version": "3.9.7"
  },
  "interpreter": {
   "hash": "07bad374b921cdabaf2ef6a1d4ae5a7996d892e7452f8d9d13efced363d002df"
  }
 },
 "nbformat": 4,
 "nbformat_minor": 4
}