{
 "cells": [
  {
   "cell_type": "markdown",
   "source": [
    "# `utils.array_to_df`"
   ],
   "metadata": {}
  },
  {
   "cell_type": "code",
   "execution_count": 10,
   "source": [
    "%load_ext autoreload\n",
    "%autoreload 2"
   ],
   "outputs": [
    {
     "output_type": "stream",
     "name": "stdout",
     "text": [
      "The autoreload extension is already loaded. To reload it, use:\n",
      "  %reload_ext autoreload\n"
     ]
    }
   ],
   "metadata": {}
  },
  {
   "cell_type": "code",
   "execution_count": 11,
   "source": [
    "import slickml\n",
    "\n",
    "print(f\"Loaded SlickML Version = {slickml.__version__}\")"
   ],
   "outputs": [
    {
     "output_type": "stream",
     "name": "stdout",
     "text": [
      "Loaded SlickML Version = 0.2.0b0\n"
     ]
    }
   ],
   "metadata": {}
  },
  {
   "cell_type": "code",
   "execution_count": 12,
   "source": [
    "from slickml.utils import array_to_df\n",
    "\n",
    "help(array_to_df)"
   ],
   "outputs": [
    {
     "output_type": "stream",
     "name": "stdout",
     "text": [
      "Help on function array_to_df in module slickml.utils._transform:\n",
      "\n",
      "array_to_df(X: numpy.ndarray, *, prefix: Optional[str], delimiter: Optional[str]) -> pandas.core.frame.DataFrame\n",
      "    Transforms a numpy array into a pandas DataFrame.\n",
      "    \n",
      "    The `prefix` and `delimiter` along with the index of each column (0-based index) of the array\n",
      "    are used to create the columnnames of the DataFrame.\n",
      "    \n",
      "    Parameters\n",
      "    ----------\n",
      "    X : np.ndarray\n",
      "        Input array\n",
      "    \n",
      "    prefix : str, optional\n",
      "        Prefix string for each column name, by default \"F\"\n",
      "    \n",
      "    delimiter : str, optional\n",
      "        Delimiter to separate prefix and index number, by default \"_\"\n",
      "    \n",
      "    Returns\n",
      "    -------\n",
      "    pd.DataFrame\n",
      "    \n",
      "    Examples\n",
      "    --------\n",
      "    >>> import numpy as np\n",
      "    >>> from slickml.utils import array_to_df\n",
      "    >>> df = array_to_df(\n",
      "    ...     X=np.array([1, 2, 3]),\n",
      "    ...     prefix=\"F\",\n",
      "    ...     delimiter=\"_\",\n",
      "    ... )\n",
      "\n"
     ]
    }
   ],
   "metadata": {}
  },
  {
   "cell_type": "markdown",
   "source": [
    "### Example 1: `array_to_df` with `numpy.ndarray` as the input data"
   ],
   "metadata": {}
  },
  {
   "cell_type": "code",
   "execution_count": 13,
   "source": [
    "import numpy as np\n",
    "\n",
    "X = np.array(\n",
    "    [1, 2, 3],\n",
    ")\n",
    "X"
   ],
   "outputs": [
    {
     "output_type": "execute_result",
     "data": {
      "text/plain": [
       "array([1, 2, 3])"
      ]
     },
     "metadata": {},
     "execution_count": 13
    }
   ],
   "metadata": {
    "scrolled": true
   }
  },
  {
   "cell_type": "code",
   "execution_count": 14,
   "source": [
    "df = array_to_df(X)\n",
    "df"
   ],
   "outputs": [
    {
     "output_type": "error",
     "ename": "TypeError",
     "evalue": "array_to_df() missing 2 required keyword-only arguments: 'prefix' and 'delimiter'",
     "traceback": [
      "\u001b[0;31m---------------------------------------------------------------------------\u001b[0m",
      "\u001b[0;31mTypeError\u001b[0m                                 Traceback (most recent call last)",
      "\u001b[0;32m/var/folders/sz/fy4q4xhn0t77v6_43v8v2_1m0000gp/T/ipykernel_51572/4248747518.py\u001b[0m in \u001b[0;36m<cell line: 1>\u001b[0;34m()\u001b[0m\n\u001b[0;32m----> 1\u001b[0;31m \u001b[0mdf\u001b[0m \u001b[0;34m=\u001b[0m \u001b[0marray_to_df\u001b[0m\u001b[0;34m(\u001b[0m\u001b[0mX\u001b[0m\u001b[0;34m)\u001b[0m\u001b[0;34m\u001b[0m\u001b[0;34m\u001b[0m\u001b[0m\n\u001b[0m\u001b[1;32m      2\u001b[0m \u001b[0mdf\u001b[0m\u001b[0;34m\u001b[0m\u001b[0;34m\u001b[0m\u001b[0m\n",
      "\u001b[0;31mTypeError\u001b[0m: array_to_df() missing 2 required keyword-only arguments: 'prefix' and 'delimiter'"
     ]
    }
   ],
   "metadata": {}
  }
 ],
 "metadata": {
  "kernelspec": {
   "name": "python3",
   "display_name": "Python 3.9.7 64-bit ('.venv': poetry)"
  },
  "language_info": {
   "codemirror_mode": {
    "name": "ipython",
    "version": 3
   },
   "file_extension": ".py",
   "mimetype": "text/x-python",
   "name": "python",
   "nbconvert_exporter": "python",
   "pygments_lexer": "ipython3",
   "version": "3.9.7"
  },
  "interpreter": {
   "hash": "07bad374b921cdabaf2ef6a1d4ae5a7996d892e7452f8d9d13efced363d002df"
  }
 },
 "nbformat": 4,
 "nbformat_minor": 4
}