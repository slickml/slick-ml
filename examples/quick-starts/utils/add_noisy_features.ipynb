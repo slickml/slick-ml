{
 "cells": [
  {
   "cell_type": "markdown",
   "metadata": {},
   "source": [
    "# `utils.add_noisy_features`"
   ]
  },
  {
   "cell_type": "code",
   "execution_count": 1,
   "metadata": {},
   "outputs": [],
   "source": [
    "%load_ext autoreload\n",
    "%autoreload 2"
   ]
  },
  {
   "cell_type": "code",
   "execution_count": 2,
   "metadata": {},
   "outputs": [
    {
     "name": "stdout",
     "output_type": "stream",
     "text": [
      "Loaded SlickML Version = 0.2.1\n"
     ]
    }
   ],
   "source": [
    "import slickml\n",
    "\n",
    "print(f\"Loaded SlickML Version = {slickml.__version__}\")"
   ]
  },
  {
   "cell_type": "code",
   "execution_count": 3,
   "metadata": {},
   "outputs": [
    {
     "name": "stdout",
     "output_type": "stream",
     "text": [
      "Help on function add_noisy_features in module slickml.utils._transform:\n",
      "\n",
      "add_noisy_features(X: Union[pandas.core.frame.DataFrame, numpy.ndarray], *, random_state: Optional[int] = 1367, prefix: Optional[str] = 'noisy') -> pandas.core.frame.DataFrame\n",
      "    Creates a new feature matrix augmented with noisy features via permutation.\n",
      "    \n",
      "    The main goal of this algorithm to augment permutated records as noisy features to explore the\n",
      "    stability of any trained models. In principle, we are permutating the target classes. The input\n",
      "    data with a shape of ``(n, m)`` would be transformed into an output data with a shape of\n",
      "    ``(n, 2m)``.\n",
      "    \n",
      "    Parameters\n",
      "    ----------\n",
      "    X : Union[pd.DataFrame, np.ndarray]\n",
      "        Input features\n",
      "    \n",
      "    random_state : int, optional\n",
      "        Random seed for randomizing the permutations and reproducibility, by default 1367\n",
      "    \n",
      "    prefix : str, optional\n",
      "        Prefix string that will be added to the noisy features' names, by default \"noisy\"\n",
      "    \n",
      "    Returns\n",
      "    -------\n",
      "    pd.DataFrame\n",
      "        Transformed feature matrix with noisy features and shape of (n, 2m)\n",
      "    \n",
      "    Examples\n",
      "    --------\n",
      "    >>> import pandas as pd\n",
      "    >>> from slickml.utils import add_noisy_features\n",
      "    >>> df_noisy = add_noisy_features(\n",
      "    ...     df=pd.DataFrame({\"foo\": [1, 2, 3, 4, 5]}),\n",
      "    ...     random_state=1367,\n",
      "    ...     prefix=\"noisy\",\n",
      "    ... )\n",
      "\n"
     ]
    }
   ],
   "source": [
    "from slickml.utils import add_noisy_features\n",
    "\n",
    "help(add_noisy_features)"
   ]
  },
  {
   "cell_type": "markdown",
   "metadata": {},
   "source": [
    "### Example 1: `add_noisy_features` with `pandas.DataFrame` as the input data"
   ]
  },
  {
   "cell_type": "code",
   "execution_count": 4,
   "metadata": {
    "scrolled": true
   },
   "outputs": [
    {
     "data": {
      "text/html": [
       "<div>\n",
       "<style scoped>\n",
       "    .dataframe tbody tr th:only-of-type {\n",
       "        vertical-align: middle;\n",
       "    }\n",
       "\n",
       "    .dataframe tbody tr th {\n",
       "        vertical-align: top;\n",
       "    }\n",
       "\n",
       "    .dataframe thead th {\n",
       "        text-align: right;\n",
       "    }\n",
       "</style>\n",
       "<table border=\"1\" class=\"dataframe\">\n",
       "  <thead>\n",
       "    <tr style=\"text-align: right;\">\n",
       "      <th></th>\n",
       "      <th>foo</th>\n",
       "    </tr>\n",
       "  </thead>\n",
       "  <tbody>\n",
       "    <tr>\n",
       "      <th>0</th>\n",
       "      <td>1</td>\n",
       "    </tr>\n",
       "    <tr>\n",
       "      <th>1</th>\n",
       "      <td>2</td>\n",
       "    </tr>\n",
       "    <tr>\n",
       "      <th>2</th>\n",
       "      <td>3</td>\n",
       "    </tr>\n",
       "    <tr>\n",
       "      <th>3</th>\n",
       "      <td>4</td>\n",
       "    </tr>\n",
       "    <tr>\n",
       "      <th>4</th>\n",
       "      <td>5</td>\n",
       "    </tr>\n",
       "  </tbody>\n",
       "</table>\n",
       "</div>"
      ],
      "text/plain": [
       "   foo\n",
       "0    1\n",
       "1    2\n",
       "2    3\n",
       "3    4\n",
       "4    5"
      ]
     },
     "execution_count": 4,
     "metadata": {},
     "output_type": "execute_result"
    }
   ],
   "source": [
    "import pandas as pd\n",
    "\n",
    "df = pd.DataFrame(\n",
    "    {\n",
    "        \"foo\": [1, 2, 3, 4, 5],\n",
    "    }\n",
    ")\n",
    "df"
   ]
  },
  {
   "cell_type": "code",
   "execution_count": 5,
   "metadata": {},
   "outputs": [
    {
     "data": {
      "text/html": [
       "<div>\n",
       "<style scoped>\n",
       "    .dataframe tbody tr th:only-of-type {\n",
       "        vertical-align: middle;\n",
       "    }\n",
       "\n",
       "    .dataframe tbody tr th {\n",
       "        vertical-align: top;\n",
       "    }\n",
       "\n",
       "    .dataframe thead th {\n",
       "        text-align: right;\n",
       "    }\n",
       "</style>\n",
       "<table border=\"1\" class=\"dataframe\">\n",
       "  <thead>\n",
       "    <tr style=\"text-align: right;\">\n",
       "      <th></th>\n",
       "      <th>foo</th>\n",
       "      <th>noisy_foo</th>\n",
       "    </tr>\n",
       "  </thead>\n",
       "  <tbody>\n",
       "    <tr>\n",
       "      <th>0</th>\n",
       "      <td>1</td>\n",
       "      <td>2</td>\n",
       "    </tr>\n",
       "    <tr>\n",
       "      <th>1</th>\n",
       "      <td>2</td>\n",
       "      <td>4</td>\n",
       "    </tr>\n",
       "    <tr>\n",
       "      <th>2</th>\n",
       "      <td>3</td>\n",
       "      <td>5</td>\n",
       "    </tr>\n",
       "    <tr>\n",
       "      <th>3</th>\n",
       "      <td>4</td>\n",
       "      <td>1</td>\n",
       "    </tr>\n",
       "    <tr>\n",
       "      <th>4</th>\n",
       "      <td>5</td>\n",
       "      <td>3</td>\n",
       "    </tr>\n",
       "  </tbody>\n",
       "</table>\n",
       "</div>"
      ],
      "text/plain": [
       "   foo  noisy_foo\n",
       "0    1          2\n",
       "1    2          4\n",
       "2    3          5\n",
       "3    4          1\n",
       "4    5          3"
      ]
     },
     "execution_count": 5,
     "metadata": {},
     "output_type": "execute_result"
    }
   ],
   "source": [
    "df_noisy = add_noisy_features(df)\n",
    "df_noisy"
   ]
  },
  {
   "cell_type": "markdown",
   "metadata": {},
   "source": [
    "### Example 2: `add_noisy_features` with `numpy.ndarray` as the input data"
   ]
  },
  {
   "cell_type": "code",
   "execution_count": 6,
   "metadata": {},
   "outputs": [
    {
     "data": {
      "text/plain": [
       "array([[0.88614473, 0.04571154, 0.66280713],\n",
       "       [0.44769353, 0.02292948, 0.30642436],\n",
       "       [0.71358488, 0.10339478, 0.76711516],\n",
       "       [0.64470859, 0.91519028, 0.26689842]])"
      ]
     },
     "execution_count": 6,
     "metadata": {},
     "output_type": "execute_result"
    }
   ],
   "source": [
    "import numpy as np\n",
    "\n",
    "np.random.seed(1367)\n",
    "X = np.random.rand(4, 3)\n",
    "X"
   ]
  },
  {
   "cell_type": "code",
   "execution_count": 7,
   "metadata": {},
   "outputs": [
    {
     "data": {
      "text/html": [
       "<div>\n",
       "<style scoped>\n",
       "    .dataframe tbody tr th:only-of-type {\n",
       "        vertical-align: middle;\n",
       "    }\n",
       "\n",
       "    .dataframe tbody tr th {\n",
       "        vertical-align: top;\n",
       "    }\n",
       "\n",
       "    .dataframe thead th {\n",
       "        text-align: right;\n",
       "    }\n",
       "</style>\n",
       "<table border=\"1\" class=\"dataframe\">\n",
       "  <thead>\n",
       "    <tr style=\"text-align: right;\">\n",
       "      <th></th>\n",
       "      <th>F_0</th>\n",
       "      <th>F_1</th>\n",
       "      <th>F_2</th>\n",
       "      <th>noisy_F_0</th>\n",
       "      <th>noisy_F_1</th>\n",
       "      <th>noisy_F_2</th>\n",
       "    </tr>\n",
       "  </thead>\n",
       "  <tbody>\n",
       "    <tr>\n",
       "      <th>0</th>\n",
       "      <td>0.886145</td>\n",
       "      <td>0.045712</td>\n",
       "      <td>0.662807</td>\n",
       "      <td>0.447694</td>\n",
       "      <td>0.022929</td>\n",
       "      <td>0.306424</td>\n",
       "    </tr>\n",
       "    <tr>\n",
       "      <th>1</th>\n",
       "      <td>0.447694</td>\n",
       "      <td>0.022929</td>\n",
       "      <td>0.306424</td>\n",
       "      <td>0.644709</td>\n",
       "      <td>0.915190</td>\n",
       "      <td>0.266898</td>\n",
       "    </tr>\n",
       "    <tr>\n",
       "      <th>2</th>\n",
       "      <td>0.713585</td>\n",
       "      <td>0.103395</td>\n",
       "      <td>0.767115</td>\n",
       "      <td>0.886145</td>\n",
       "      <td>0.045712</td>\n",
       "      <td>0.662807</td>\n",
       "    </tr>\n",
       "    <tr>\n",
       "      <th>3</th>\n",
       "      <td>0.644709</td>\n",
       "      <td>0.915190</td>\n",
       "      <td>0.266898</td>\n",
       "      <td>0.713585</td>\n",
       "      <td>0.103395</td>\n",
       "      <td>0.767115</td>\n",
       "    </tr>\n",
       "  </tbody>\n",
       "</table>\n",
       "</div>"
      ],
      "text/plain": [
       "        F_0       F_1       F_2  noisy_F_0  noisy_F_1  noisy_F_2\n",
       "0  0.886145  0.045712  0.662807   0.447694   0.022929   0.306424\n",
       "1  0.447694  0.022929  0.306424   0.644709   0.915190   0.266898\n",
       "2  0.713585  0.103395  0.767115   0.886145   0.045712   0.662807\n",
       "3  0.644709  0.915190  0.266898   0.713585   0.103395   0.767115"
      ]
     },
     "execution_count": 7,
     "metadata": {},
     "output_type": "execute_result"
    }
   ],
   "source": [
    "X_noisy = add_noisy_features(X)\n",
    "X_noisy"
   ]
  },
  {
   "cell_type": "markdown",
   "metadata": {},
   "source": [
    "### TODO: Example 3: `add_noisy_features` with `List[List[float]]` as the input data"
   ]
  },
  {
   "cell_type": "code",
   "execution_count": 8,
   "metadata": {},
   "outputs": [
    {
     "data": {
      "text/plain": [
       "[[1, 2, 3], [4, 5, 6], [7, 8, 9]]"
      ]
     },
     "execution_count": 8,
     "metadata": {},
     "output_type": "execute_result"
    }
   ],
   "source": [
    "X = [\n",
    "    [1, 2, 3],\n",
    "    [4, 5, 6],\n",
    "    [7, 8, 9],\n",
    "]\n",
    "X"
   ]
  },
  {
   "cell_type": "code",
   "execution_count": 9,
   "metadata": {},
   "outputs": [],
   "source": [
    "# This feature is currently not implemented;\n",
    "# https://github.com/slickml/slick-ml/issues/107\n",
    "# Feel free to send your PR! It should be an easy one :D\n",
    "\n",
    "# Uncomment below once the feature is implemented\n",
    "# X_noisy = add_noisy_features(X)\n",
    "# X_noisy"
   ]
  },
  {
   "cell_type": "markdown",
   "metadata": {},
   "source": [
    "### Feel free to add your favorite `Example` via a `pull-request`.\n",
    "### More details can be found in our [Contributing Document](https://github.com/slickml/slick-ml/blob/master/CONTRIBUTING.md)."
   ]
  }
 ],
 "metadata": {
  "interpreter": {
   "hash": "07bad374b921cdabaf2ef6a1d4ae5a7996d892e7452f8d9d13efced363d002df"
  },
  "kernelspec": {
   "display_name": "Python 3.9.12 64-bit ('.venv': poetry)",
   "name": "python3"
  },
  "language_info": {
   "codemirror_mode": {
    "name": "ipython",
    "version": 3
   },
   "file_extension": ".py",
   "mimetype": "text/x-python",
   "name": "python",
   "nbconvert_exporter": "python",
   "pygments_lexer": "ipython3",
   "version": "3.9.18"
  }
 },
 "nbformat": 4,
 "nbformat_minor": 4
}
