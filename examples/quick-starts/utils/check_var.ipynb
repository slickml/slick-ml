{
 "cells": [
  {
   "cell_type": "markdown",
   "source": [
    "# `utils.check_var`"
   ],
   "metadata": {}
  },
  {
   "cell_type": "code",
   "execution_count": 1,
   "source": [
    "%load_ext autoreload\n",
    "%autoreload 2"
   ],
   "outputs": [],
   "metadata": {}
  },
  {
   "cell_type": "code",
   "execution_count": 2,
   "source": [
    "import slickml\n",
    "\n",
    "print(f\"Loaded SlickML Version = {slickml.__version__}\")"
   ],
   "outputs": [
    {
     "output_type": "stream",
     "name": "stdout",
     "text": [
      "Loaded SlickML Version = 0.2.0\n"
     ]
    }
   ],
   "metadata": {}
  },
  {
   "cell_type": "code",
   "execution_count": 3,
   "source": [
    "from slickml.utils import check_var\n",
    "\n",
    "help(check_var)"
   ],
   "outputs": [
    {
     "output_type": "stream",
     "name": "stdout",
     "text": [
      "Help on function check_var in module slickml.utils._validation:\n",
      "\n",
      "check_var(var: Any, *, var_name: str, dtypes: Union[Any, Tuple[Any]], values: Union[Any, Tuple[Any], NoneType] = None) -> None\n",
      "    Validates the variable's dtype and possible value.\n",
      "    \n",
      "    Parameters\n",
      "    ----------\n",
      "    var : Any\n",
      "        Variable\n",
      "    \n",
      "    var_name : str\n",
      "        Variable name\n",
      "    \n",
      "    dtypes : Union[type, Tuple[type]]\n",
      "        Data type classes\n",
      "    \n",
      "    values : Union[Any, Tuple[Any]], optional\n",
      "        Possible values, by default None\n",
      "    \n",
      "    Returns\n",
      "    -------\n",
      "    None\n",
      "    \n",
      "    Raises\n",
      "    ------\n",
      "    TypeError\n",
      "        If dtypes are invalid\n",
      "    \n",
      "    ValueError\n",
      "        If values are invalid\n",
      "    \n",
      "    Notes\n",
      "    -----\n",
      "    This is the main function that is being used across the API as the variable checker before any\n",
      "    class/function being instantiated. This is our solution instead of using ``pydantic`` validator\n",
      "    and root_validator due to a lot of issues (i.e. data type casting/truncation in a silence mode)\n",
      "    that we have seen in our investigation. Hopefully, when ``pydantic`` version 2.0 is released,\n",
      "    we can use it.\n",
      "    \n",
      "    Examples\n",
      "    --------\n",
      "    >>> from dataclasses import dataclass\n",
      "    >>> from slickml.utils import check_var\n",
      "    >>> @dataclass\n",
      "    ... class Foo:\n",
      "    ...    var_str: str\n",
      "    ...    var_float: float = 42.0\n",
      "    ...    var_int: int = 1367\n",
      "    ...    def __post_init__(self):\n",
      "    ...        check_var(self.var_str, var_name=\"var_str\", dtypes=str)\n",
      "    ...        check_var(self.var_float, var_name=\"var_float\", dtypes=float, values=(41, 42))\n",
      "    ...        check_var(self.var_int, var_name=\"var_int\", dtypes=str, values=(1367, 1400))\n",
      "\n"
     ]
    }
   ],
   "metadata": {}
  },
  {
   "cell_type": "markdown",
   "source": [
    "### Example 1: `check_var` in validation of `class` variables"
   ],
   "metadata": {}
  },
  {
   "cell_type": "code",
   "execution_count": 4,
   "source": [
    "from dataclasses import dataclass\n",
    "from slickml.utils import check_var\n",
    "\n",
    "\n",
    "@dataclass\n",
    "class Foo:\n",
    "    var_str: str\n",
    "    var_float: float = 42.0\n",
    "    var_int: int = 1367\n",
    "\n",
    "    def __post_init__(self):\n",
    "        check_var(\n",
    "            self.var_str,\n",
    "            var_name=\"var_str\",\n",
    "            dtypes=str,\n",
    "        )\n",
    "        check_var(\n",
    "            self.var_float,\n",
    "            var_name=\"var_float\",\n",
    "            dtypes=float,\n",
    "            values=(41, 42),\n",
    "        )\n",
    "        check_var(\n",
    "            self.var_int,\n",
    "            var_name=\"var_int\",\n",
    "            dtypes=int,\n",
    "            values=(1367, 1400),\n",
    "        )"
   ],
   "outputs": [],
   "metadata": {
    "scrolled": true
   }
  },
  {
   "cell_type": "code",
   "execution_count": 5,
   "source": [
    "f = Foo(var_str=\"qux\")"
   ],
   "outputs": [],
   "metadata": {}
  },
  {
   "cell_type": "markdown",
   "source": [
    "### `class Foo` cannot be instantiated with `invalid` inputs; To fully understand the functionality of `check_var`, please run the cells below and take a look at the `errors` below for each scenario"
   ],
   "metadata": {}
  },
  {
   "cell_type": "code",
   "execution_count": null,
   "source": [
    "f = Foo(\n",
    "    var_str=1,\n",
    ")"
   ],
   "outputs": [],
   "metadata": {}
  },
  {
   "cell_type": "code",
   "execution_count": null,
   "source": [
    "f = Foo(\n",
    "    var_str=\"baz\",\n",
    "    var_float=43.0,\n",
    ")"
   ],
   "outputs": [],
   "metadata": {}
  },
  {
   "cell_type": "code",
   "execution_count": null,
   "source": [
    "f = Foo(\n",
    "    var_str=\"baz\",\n",
    "    var_float=42.0,\n",
    "    var_int=1.0,\n",
    ")"
   ],
   "outputs": [],
   "metadata": {}
  },
  {
   "cell_type": "code",
   "execution_count": null,
   "source": [
    "f = Foo(\n",
    "    var_str=\"baz\",\n",
    "    var_float=42.0,\n",
    "    var_int=1,\n",
    ")"
   ],
   "outputs": [],
   "metadata": {}
  },
  {
   "cell_type": "markdown",
   "source": [
    "### Feel free to add your favorite `Example` via a `pull-request`.\n",
    "### More details can be found in our [Contributing Document](https://github.com/slickml/slick-ml/blob/master/CONTRIBUTING.md)."
   ],
   "metadata": {}
  }
 ],
 "metadata": {
  "kernelspec": {
   "name": "python3",
   "display_name": "Python 3.9.12 64-bit ('.venv': poetry)"
  },
  "language_info": {
   "codemirror_mode": {
    "name": "ipython",
    "version": 3
   },
   "file_extension": ".py",
   "mimetype": "text/x-python",
   "name": "python",
   "nbconvert_exporter": "python",
   "pygments_lexer": "ipython3",
   "version": "3.9.12"
  },
  "interpreter": {
   "hash": "07bad374b921cdabaf2ef6a1d4ae5a7996d892e7452f8d9d13efced363d002df"
  }
 },
 "nbformat": 4,
 "nbformat_minor": 4
}