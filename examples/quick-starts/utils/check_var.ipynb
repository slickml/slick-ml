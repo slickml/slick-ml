{
 "cells": [
  {
   "cell_type": "markdown",
   "source": [
    "# `utils.check_var`"
   ],
   "metadata": {}
  },
  {
   "cell_type": "code",
   "execution_count": 1,
   "source": [
    "%load_ext autoreload\n",
    "%autoreload 2"
   ],
   "outputs": [],
   "metadata": {}
  },
  {
   "cell_type": "code",
   "execution_count": 2,
   "source": [
    "import slickml\n",
    "\n",
    "print(f\"Loaded SlickML Version = {slickml.__version__}\")"
   ],
   "outputs": [
    {
     "output_type": "stream",
     "name": "stdout",
     "text": [
      "Loaded SlickML Version = 0.2.0b0\n"
     ]
    }
   ],
   "metadata": {}
  },
  {
   "cell_type": "code",
   "execution_count": 4,
   "source": [
    "from slickml.utils import check_var\n",
    "\n",
    "help(check_var)"
   ],
   "outputs": [
    {
     "output_type": "stream",
     "name": "stdout",
     "text": [
      "Help on function check_var in module slickml.utils._base:\n",
      "\n",
      "check_var(var: Any, *, var_name: str, dtypes: Union[type, Tuple[type]], values: Union[Any, Tuple[Any], NoneType] = None) -> None\n",
      "    Validates the variable's dtype and possible value.\n",
      "    \n",
      "    Parameters\n",
      "    ----------\n",
      "    var : Any\n",
      "        Variable\n",
      "    \n",
      "    var_name : str\n",
      "        Variable name\n",
      "    \n",
      "    dtypes : Union[type, Tuple[type]]\n",
      "        Data type classes\n",
      "    \n",
      "    values : Union[Any, Tuple[Any]], optional\n",
      "        Possible values, by default None\n",
      "    \n",
      "    Returns\n",
      "    -------\n",
      "    None\n",
      "    \n",
      "    Raises\n",
      "    ------\n",
      "    TypeError\n",
      "        If dtypes are invalid\n",
      "    \n",
      "    ValueError\n",
      "        If values are invalid\n",
      "    \n",
      "    Notes\n",
      "    -----\n",
      "    This is the main function that is being used across the API as the variable checker before any\n",
      "    class/function being instantiated. This is our solution instead of using `pydantic` validator\n",
      "    and root_validator due to a lot of issues (i.e. data type casting/truncation in a silence mode)\n",
      "    that we have seen in our investigation. Hopefully, when `pydantic` version 2.0 is released,\n",
      "    we can use it.\n",
      "    \n",
      "    Examples\n",
      "    --------\n",
      "    >>> from dataclasses import dataclass\n",
      "    >>> from slickml.utils import check_var\n",
      "    >>> @dataclass\n",
      "    ... class Foo:\n",
      "    ...    var_str: str\n",
      "    ...    var_float: float = 42.0\n",
      "    ...    var_int: int = 1367\n",
      "    ...    def __post_init__(self):\n",
      "    ...        check_var(self.var_str, var_name=\"var_str\", dtypes=str)\n",
      "    ...        check_var(self.var_float, var_name=\"var_float\", dtypes=float, values=(41, 42))\n",
      "    ...        check_var(self.var_str, var_name=\"var_str\", dtypes=str, values=(1367, 1400))\n",
      "\n"
     ]
    }
   ],
   "metadata": {}
  },
  {
   "cell_type": "markdown",
   "source": [
    "### Example 1: `check_var` in validation of `class` variables"
   ],
   "metadata": {}
  },
  {
   "cell_type": "code",
   "execution_count": 11,
   "source": [
    "from dataclasses import dataclass\n",
    "from slickml.utils import check_var\n",
    "\n",
    "\n",
    "@dataclass\n",
    "class Foo:\n",
    "    var_str: str\n",
    "    var_float: float = 42.0\n",
    "    var_int: int = 1367\n",
    "\n",
    "    def __post_init__(self):\n",
    "        check_var(\n",
    "            self.var_str,\n",
    "            var_name=\"var_str\",\n",
    "            dtypes=str,\n",
    "        )\n",
    "        check_var(\n",
    "            self.var_float,\n",
    "            var_name=\"var_float\",\n",
    "            dtypes=float,\n",
    "            values=(41, 42),\n",
    "        )\n",
    "        check_var(\n",
    "            self.var_int,\n",
    "            var_name=\"var_int\",\n",
    "            dtypes=int,\n",
    "            values=(1367, 1400),\n",
    "        )"
   ],
   "outputs": [],
   "metadata": {
    "scrolled": true
   }
  },
  {
   "cell_type": "code",
   "execution_count": 12,
   "source": [
    "f = Foo(var_str=\"qux\")"
   ],
   "outputs": [],
   "metadata": {}
  },
  {
   "cell_type": "markdown",
   "source": [
    "### `class Foo` cannot be instantiated with `invalid` inputs; To fully understand the functionality of `check_var` please take a look at the `errors` below for each scenario"
   ],
   "metadata": {}
  },
  {
   "cell_type": "code",
   "execution_count": 13,
   "source": [
    "f = Foo(\n",
    "    var_str=1,\n",
    ")"
   ],
   "outputs": [
    {
     "output_type": "error",
     "ename": "TypeError",
     "evalue": "The input var_str must have str dtype.",
     "traceback": [
      "\u001b[0;31m---------------------------------------------------------------------------\u001b[0m",
      "\u001b[0;31mTypeError\u001b[0m                                 Traceback (most recent call last)",
      "\u001b[0;32m/var/folders/sz/fy4q4xhn0t77v6_43v8v2_1m0000gp/T/ipykernel_51713/1541222875.py\u001b[0m in \u001b[0;36m<cell line: 1>\u001b[0;34m()\u001b[0m\n\u001b[0;32m----> 1\u001b[0;31m \u001b[0mf\u001b[0m \u001b[0;34m=\u001b[0m \u001b[0mFoo\u001b[0m\u001b[0;34m(\u001b[0m\u001b[0mvar_str\u001b[0m\u001b[0;34m=\u001b[0m\u001b[0;36m1\u001b[0m\u001b[0;34m)\u001b[0m\u001b[0;34m\u001b[0m\u001b[0;34m\u001b[0m\u001b[0m\n\u001b[0m",
      "\u001b[0;32m<string>\u001b[0m in \u001b[0;36m__init__\u001b[0;34m(self, var_str, var_float, var_int)\u001b[0m\n",
      "\u001b[0;32m/var/folders/sz/fy4q4xhn0t77v6_43v8v2_1m0000gp/T/ipykernel_51713/2235085016.py\u001b[0m in \u001b[0;36m__post_init__\u001b[0;34m(self)\u001b[0m\n\u001b[1;32m     10\u001b[0m \u001b[0;34m\u001b[0m\u001b[0m\n\u001b[1;32m     11\u001b[0m     \u001b[0;32mdef\u001b[0m \u001b[0m__post_init__\u001b[0m\u001b[0;34m(\u001b[0m\u001b[0mself\u001b[0m\u001b[0;34m)\u001b[0m\u001b[0;34m:\u001b[0m\u001b[0;34m\u001b[0m\u001b[0;34m\u001b[0m\u001b[0m\n\u001b[0;32m---> 12\u001b[0;31m         check_var(\n\u001b[0m\u001b[1;32m     13\u001b[0m             \u001b[0mself\u001b[0m\u001b[0;34m.\u001b[0m\u001b[0mvar_str\u001b[0m\u001b[0;34m,\u001b[0m\u001b[0;34m\u001b[0m\u001b[0;34m\u001b[0m\u001b[0m\n\u001b[1;32m     14\u001b[0m             \u001b[0mvar_name\u001b[0m\u001b[0;34m=\u001b[0m\u001b[0;34m\"var_str\"\u001b[0m\u001b[0;34m,\u001b[0m\u001b[0;34m\u001b[0m\u001b[0;34m\u001b[0m\u001b[0m\n",
      "\u001b[0;32m~/Desktop/AmirStuff/GitHub/slick-ml/src/slickml/utils/_base.py\u001b[0m in \u001b[0;36mcheck_var\u001b[0;34m(var, var_name, dtypes, values)\u001b[0m\n\u001b[1;32m    139\u001b[0m             \u001b[0;32mraise\u001b[0m \u001b[0mValueError\u001b[0m\u001b[0;34m(\u001b[0m\u001b[0mvalue_error_msg\u001b[0m\u001b[0;34m)\u001b[0m\u001b[0;34m\u001b[0m\u001b[0;34m\u001b[0m\u001b[0m\n\u001b[1;32m    140\u001b[0m \u001b[0;34m\u001b[0m\u001b[0m\n\u001b[0;32m--> 141\u001b[0;31m     _check_dtypes(\n\u001b[0m\u001b[1;32m    142\u001b[0m         \u001b[0mvar\u001b[0m\u001b[0;34m=\u001b[0m\u001b[0mvar\u001b[0m\u001b[0;34m,\u001b[0m\u001b[0;34m\u001b[0m\u001b[0;34m\u001b[0m\u001b[0m\n\u001b[1;32m    143\u001b[0m         \u001b[0mvar_name\u001b[0m\u001b[0;34m=\u001b[0m\u001b[0mvar_name\u001b[0m\u001b[0;34m,\u001b[0m\u001b[0;34m\u001b[0m\u001b[0;34m\u001b[0m\u001b[0m\n",
      "\u001b[0;32m~/Desktop/AmirStuff/GitHub/slick-ml/src/slickml/utils/_base.py\u001b[0m in \u001b[0;36m_check_dtypes\u001b[0;34m(var, var_name, dtypes)\u001b[0m\n\u001b[1;32m    101\u001b[0m             \u001b[0mtype_error_msg\u001b[0m \u001b[0;34m=\u001b[0m \u001b[0;34mf\"The input {var_name} must have one of {dtype_names} dtypes.\"\u001b[0m\u001b[0;34m\u001b[0m\u001b[0;34m\u001b[0m\u001b[0m\n\u001b[1;32m    102\u001b[0m         \u001b[0;32mif\u001b[0m \u001b[0;32mnot\u001b[0m \u001b[0misinstance\u001b[0m\u001b[0;34m(\u001b[0m\u001b[0mvar\u001b[0m\u001b[0;34m,\u001b[0m \u001b[0mdtypes\u001b[0m\u001b[0;34m)\u001b[0m\u001b[0;34m:\u001b[0m\u001b[0;34m\u001b[0m\u001b[0;34m\u001b[0m\u001b[0m\n\u001b[0;32m--> 103\u001b[0;31m             \u001b[0;32mraise\u001b[0m \u001b[0mTypeError\u001b[0m\u001b[0;34m(\u001b[0m\u001b[0mtype_error_msg\u001b[0m\u001b[0;34m)\u001b[0m\u001b[0;34m\u001b[0m\u001b[0;34m\u001b[0m\u001b[0m\n\u001b[0m\u001b[1;32m    104\u001b[0m \u001b[0;34m\u001b[0m\u001b[0m\n\u001b[1;32m    105\u001b[0m     def _check_values(\n",
      "\u001b[0;31mTypeError\u001b[0m: The input var_str must have str dtype."
     ]
    }
   ],
   "metadata": {}
  },
  {
   "cell_type": "code",
   "execution_count": 14,
   "source": [
    "f = Foo(\n",
    "    var_str=\"baz\",\n",
    "    var_float=43.0,\n",
    ")"
   ],
   "outputs": [
    {
     "output_type": "error",
     "ename": "ValueError",
     "evalue": "The input var_float must have one of (41, 42) values.",
     "traceback": [
      "\u001b[0;31m---------------------------------------------------------------------------\u001b[0m",
      "\u001b[0;31mValueError\u001b[0m                                Traceback (most recent call last)",
      "\u001b[0;32m/var/folders/sz/fy4q4xhn0t77v6_43v8v2_1m0000gp/T/ipykernel_51713/2143578612.py\u001b[0m in \u001b[0;36m<cell line: 1>\u001b[0;34m()\u001b[0m\n\u001b[0;32m----> 1\u001b[0;31m \u001b[0mf\u001b[0m \u001b[0;34m=\u001b[0m \u001b[0mFoo\u001b[0m\u001b[0;34m(\u001b[0m\u001b[0mvar_str\u001b[0m\u001b[0;34m=\u001b[0m\u001b[0;34m\"baz\"\u001b[0m\u001b[0;34m,\u001b[0m \u001b[0mvar_float\u001b[0m\u001b[0;34m=\u001b[0m\u001b[0;36m43.0\u001b[0m\u001b[0;34m)\u001b[0m\u001b[0;34m\u001b[0m\u001b[0;34m\u001b[0m\u001b[0m\n\u001b[0m",
      "\u001b[0;32m<string>\u001b[0m in \u001b[0;36m__init__\u001b[0;34m(self, var_str, var_float, var_int)\u001b[0m\n",
      "\u001b[0;32m/var/folders/sz/fy4q4xhn0t77v6_43v8v2_1m0000gp/T/ipykernel_51713/2235085016.py\u001b[0m in \u001b[0;36m__post_init__\u001b[0;34m(self)\u001b[0m\n\u001b[1;32m     15\u001b[0m             \u001b[0mdtypes\u001b[0m\u001b[0;34m=\u001b[0m\u001b[0mstr\u001b[0m\u001b[0;34m,\u001b[0m\u001b[0;34m\u001b[0m\u001b[0;34m\u001b[0m\u001b[0m\n\u001b[1;32m     16\u001b[0m         )\n\u001b[0;32m---> 17\u001b[0;31m         check_var(\n\u001b[0m\u001b[1;32m     18\u001b[0m             \u001b[0mself\u001b[0m\u001b[0;34m.\u001b[0m\u001b[0mvar_float\u001b[0m\u001b[0;34m,\u001b[0m\u001b[0;34m\u001b[0m\u001b[0;34m\u001b[0m\u001b[0m\n\u001b[1;32m     19\u001b[0m             \u001b[0mvar_name\u001b[0m\u001b[0;34m=\u001b[0m\u001b[0;34m\"var_float\"\u001b[0m\u001b[0;34m,\u001b[0m\u001b[0;34m\u001b[0m\u001b[0;34m\u001b[0m\u001b[0m\n",
      "\u001b[0;32m~/Desktop/AmirStuff/GitHub/slick-ml/src/slickml/utils/_base.py\u001b[0m in \u001b[0;36mcheck_var\u001b[0;34m(var, var_name, dtypes, values)\u001b[0m\n\u001b[1;32m    145\u001b[0m     )\n\u001b[1;32m    146\u001b[0m     \u001b[0;32mif\u001b[0m \u001b[0mvalues\u001b[0m \u001b[0;32mis\u001b[0m \u001b[0;32mnot\u001b[0m \u001b[0;32mNone\u001b[0m\u001b[0;34m:\u001b[0m\u001b[0;34m\u001b[0m\u001b[0;34m\u001b[0m\u001b[0m\n\u001b[0;32m--> 147\u001b[0;31m         _check_values(\n\u001b[0m\u001b[1;32m    148\u001b[0m             \u001b[0mvar\u001b[0m\u001b[0;34m=\u001b[0m\u001b[0mvar\u001b[0m\u001b[0;34m,\u001b[0m\u001b[0;34m\u001b[0m\u001b[0;34m\u001b[0m\u001b[0m\n\u001b[1;32m    149\u001b[0m             \u001b[0mvar_name\u001b[0m\u001b[0;34m=\u001b[0m\u001b[0mvar_name\u001b[0m\u001b[0;34m,\u001b[0m\u001b[0;34m\u001b[0m\u001b[0;34m\u001b[0m\u001b[0m\n",
      "\u001b[0;32m~/Desktop/AmirStuff/GitHub/slick-ml/src/slickml/utils/_base.py\u001b[0m in \u001b[0;36m_check_values\u001b[0;34m(var, var_name, values)\u001b[0m\n\u001b[1;32m    137\u001b[0m             \u001b[0mvalue_error_msg\u001b[0m \u001b[0;34m=\u001b[0m \u001b[0;34mf\"The input {var_name} must have one of {values} values.\"\u001b[0m\u001b[0;34m\u001b[0m\u001b[0;34m\u001b[0m\u001b[0m\n\u001b[1;32m    138\u001b[0m         \u001b[0;32mif\u001b[0m \u001b[0mvar\u001b[0m \u001b[0;32mnot\u001b[0m \u001b[0;32min\u001b[0m \u001b[0mvalues\u001b[0m\u001b[0;34m:\u001b[0m\u001b[0;34m\u001b[0m\u001b[0;34m\u001b[0m\u001b[0m\n\u001b[0;32m--> 139\u001b[0;31m             \u001b[0;32mraise\u001b[0m \u001b[0mValueError\u001b[0m\u001b[0;34m(\u001b[0m\u001b[0mvalue_error_msg\u001b[0m\u001b[0;34m)\u001b[0m\u001b[0;34m\u001b[0m\u001b[0;34m\u001b[0m\u001b[0m\n\u001b[0m\u001b[1;32m    140\u001b[0m \u001b[0;34m\u001b[0m\u001b[0m\n\u001b[1;32m    141\u001b[0m     _check_dtypes(\n",
      "\u001b[0;31mValueError\u001b[0m: The input var_float must have one of (41, 42) values."
     ]
    }
   ],
   "metadata": {}
  },
  {
   "cell_type": "code",
   "execution_count": 15,
   "source": [
    "f = Foo(\n",
    "    var_str=\"baz\",\n",
    "    var_float=42.0,\n",
    "    var_int=1.0,\n",
    ")"
   ],
   "outputs": [
    {
     "output_type": "error",
     "ename": "TypeError",
     "evalue": "The input var_int must have int dtype.",
     "traceback": [
      "\u001b[0;31m---------------------------------------------------------------------------\u001b[0m",
      "\u001b[0;31mTypeError\u001b[0m                                 Traceback (most recent call last)",
      "\u001b[0;32m/var/folders/sz/fy4q4xhn0t77v6_43v8v2_1m0000gp/T/ipykernel_51713/901717566.py\u001b[0m in \u001b[0;36m<cell line: 1>\u001b[0;34m()\u001b[0m\n\u001b[0;32m----> 1\u001b[0;31m \u001b[0mf\u001b[0m \u001b[0;34m=\u001b[0m \u001b[0mFoo\u001b[0m\u001b[0;34m(\u001b[0m\u001b[0mvar_str\u001b[0m\u001b[0;34m=\u001b[0m\u001b[0;34m\"baz\"\u001b[0m\u001b[0;34m,\u001b[0m \u001b[0mvar_float\u001b[0m\u001b[0;34m=\u001b[0m\u001b[0;36m42.0\u001b[0m\u001b[0;34m,\u001b[0m \u001b[0mvar_int\u001b[0m\u001b[0;34m=\u001b[0m\u001b[0;36m1.0\u001b[0m\u001b[0;34m,\u001b[0m\u001b[0;34m)\u001b[0m\u001b[0;34m\u001b[0m\u001b[0;34m\u001b[0m\u001b[0m\n\u001b[0m",
      "\u001b[0;32m<string>\u001b[0m in \u001b[0;36m__init__\u001b[0;34m(self, var_str, var_float, var_int)\u001b[0m\n",
      "\u001b[0;32m/var/folders/sz/fy4q4xhn0t77v6_43v8v2_1m0000gp/T/ipykernel_51713/2235085016.py\u001b[0m in \u001b[0;36m__post_init__\u001b[0;34m(self)\u001b[0m\n\u001b[1;32m     21\u001b[0m             \u001b[0mvalues\u001b[0m\u001b[0;34m=\u001b[0m\u001b[0;34m(\u001b[0m\u001b[0;36m41\u001b[0m\u001b[0;34m,\u001b[0m \u001b[0;36m42\u001b[0m\u001b[0;34m)\u001b[0m\u001b[0;34m,\u001b[0m\u001b[0;34m\u001b[0m\u001b[0;34m\u001b[0m\u001b[0m\n\u001b[1;32m     22\u001b[0m         )\n\u001b[0;32m---> 23\u001b[0;31m         check_var(\n\u001b[0m\u001b[1;32m     24\u001b[0m             \u001b[0mself\u001b[0m\u001b[0;34m.\u001b[0m\u001b[0mvar_int\u001b[0m\u001b[0;34m,\u001b[0m\u001b[0;34m\u001b[0m\u001b[0;34m\u001b[0m\u001b[0m\n\u001b[1;32m     25\u001b[0m             \u001b[0mvar_name\u001b[0m\u001b[0;34m=\u001b[0m\u001b[0;34m\"var_int\"\u001b[0m\u001b[0;34m,\u001b[0m\u001b[0;34m\u001b[0m\u001b[0;34m\u001b[0m\u001b[0m\n",
      "\u001b[0;32m~/Desktop/AmirStuff/GitHub/slick-ml/src/slickml/utils/_base.py\u001b[0m in \u001b[0;36mcheck_var\u001b[0;34m(var, var_name, dtypes, values)\u001b[0m\n\u001b[1;32m    139\u001b[0m             \u001b[0;32mraise\u001b[0m \u001b[0mValueError\u001b[0m\u001b[0;34m(\u001b[0m\u001b[0mvalue_error_msg\u001b[0m\u001b[0;34m)\u001b[0m\u001b[0;34m\u001b[0m\u001b[0;34m\u001b[0m\u001b[0m\n\u001b[1;32m    140\u001b[0m \u001b[0;34m\u001b[0m\u001b[0m\n\u001b[0;32m--> 141\u001b[0;31m     _check_dtypes(\n\u001b[0m\u001b[1;32m    142\u001b[0m         \u001b[0mvar\u001b[0m\u001b[0;34m=\u001b[0m\u001b[0mvar\u001b[0m\u001b[0;34m,\u001b[0m\u001b[0;34m\u001b[0m\u001b[0;34m\u001b[0m\u001b[0m\n\u001b[1;32m    143\u001b[0m         \u001b[0mvar_name\u001b[0m\u001b[0;34m=\u001b[0m\u001b[0mvar_name\u001b[0m\u001b[0;34m,\u001b[0m\u001b[0;34m\u001b[0m\u001b[0;34m\u001b[0m\u001b[0m\n",
      "\u001b[0;32m~/Desktop/AmirStuff/GitHub/slick-ml/src/slickml/utils/_base.py\u001b[0m in \u001b[0;36m_check_dtypes\u001b[0;34m(var, var_name, dtypes)\u001b[0m\n\u001b[1;32m    101\u001b[0m             \u001b[0mtype_error_msg\u001b[0m \u001b[0;34m=\u001b[0m \u001b[0;34mf\"The input {var_name} must have one of {dtype_names} dtypes.\"\u001b[0m\u001b[0;34m\u001b[0m\u001b[0;34m\u001b[0m\u001b[0m\n\u001b[1;32m    102\u001b[0m         \u001b[0;32mif\u001b[0m \u001b[0;32mnot\u001b[0m \u001b[0misinstance\u001b[0m\u001b[0;34m(\u001b[0m\u001b[0mvar\u001b[0m\u001b[0;34m,\u001b[0m \u001b[0mdtypes\u001b[0m\u001b[0;34m)\u001b[0m\u001b[0;34m:\u001b[0m\u001b[0;34m\u001b[0m\u001b[0;34m\u001b[0m\u001b[0m\n\u001b[0;32m--> 103\u001b[0;31m             \u001b[0;32mraise\u001b[0m \u001b[0mTypeError\u001b[0m\u001b[0;34m(\u001b[0m\u001b[0mtype_error_msg\u001b[0m\u001b[0;34m)\u001b[0m\u001b[0;34m\u001b[0m\u001b[0;34m\u001b[0m\u001b[0m\n\u001b[0m\u001b[1;32m    104\u001b[0m \u001b[0;34m\u001b[0m\u001b[0m\n\u001b[1;32m    105\u001b[0m     def _check_values(\n",
      "\u001b[0;31mTypeError\u001b[0m: The input var_int must have int dtype."
     ]
    }
   ],
   "metadata": {}
  },
  {
   "cell_type": "code",
   "execution_count": 16,
   "source": [
    "f = Foo(\n",
    "    var_str=\"baz\",\n",
    "    var_float=42.0,\n",
    "    var_int=1,\n",
    ")"
   ],
   "outputs": [
    {
     "output_type": "error",
     "ename": "ValueError",
     "evalue": "The input var_int must have one of (1367, 1400) values.",
     "traceback": [
      "\u001b[0;31m---------------------------------------------------------------------------\u001b[0m",
      "\u001b[0;31mValueError\u001b[0m                                Traceback (most recent call last)",
      "\u001b[0;32m/var/folders/sz/fy4q4xhn0t77v6_43v8v2_1m0000gp/T/ipykernel_51713/1095638510.py\u001b[0m in \u001b[0;36m<cell line: 1>\u001b[0;34m()\u001b[0m\n\u001b[0;32m----> 1\u001b[0;31m \u001b[0mf\u001b[0m \u001b[0;34m=\u001b[0m \u001b[0mFoo\u001b[0m\u001b[0;34m(\u001b[0m\u001b[0mvar_str\u001b[0m\u001b[0;34m=\u001b[0m\u001b[0;34m\"baz\"\u001b[0m\u001b[0;34m,\u001b[0m \u001b[0mvar_float\u001b[0m\u001b[0;34m=\u001b[0m\u001b[0;36m42.0\u001b[0m\u001b[0;34m,\u001b[0m \u001b[0mvar_int\u001b[0m\u001b[0;34m=\u001b[0m\u001b[0;36m1\u001b[0m\u001b[0;34m,\u001b[0m\u001b[0;34m)\u001b[0m\u001b[0;34m\u001b[0m\u001b[0;34m\u001b[0m\u001b[0m\n\u001b[0m",
      "\u001b[0;32m<string>\u001b[0m in \u001b[0;36m__init__\u001b[0;34m(self, var_str, var_float, var_int)\u001b[0m\n",
      "\u001b[0;32m/var/folders/sz/fy4q4xhn0t77v6_43v8v2_1m0000gp/T/ipykernel_51713/2235085016.py\u001b[0m in \u001b[0;36m__post_init__\u001b[0;34m(self)\u001b[0m\n\u001b[1;32m     21\u001b[0m             \u001b[0mvalues\u001b[0m\u001b[0;34m=\u001b[0m\u001b[0;34m(\u001b[0m\u001b[0;36m41\u001b[0m\u001b[0;34m,\u001b[0m \u001b[0;36m42\u001b[0m\u001b[0;34m)\u001b[0m\u001b[0;34m,\u001b[0m\u001b[0;34m\u001b[0m\u001b[0;34m\u001b[0m\u001b[0m\n\u001b[1;32m     22\u001b[0m         )\n\u001b[0;32m---> 23\u001b[0;31m         check_var(\n\u001b[0m\u001b[1;32m     24\u001b[0m             \u001b[0mself\u001b[0m\u001b[0;34m.\u001b[0m\u001b[0mvar_int\u001b[0m\u001b[0;34m,\u001b[0m\u001b[0;34m\u001b[0m\u001b[0;34m\u001b[0m\u001b[0m\n\u001b[1;32m     25\u001b[0m             \u001b[0mvar_name\u001b[0m\u001b[0;34m=\u001b[0m\u001b[0;34m\"var_int\"\u001b[0m\u001b[0;34m,\u001b[0m\u001b[0;34m\u001b[0m\u001b[0;34m\u001b[0m\u001b[0m\n",
      "\u001b[0;32m~/Desktop/AmirStuff/GitHub/slick-ml/src/slickml/utils/_base.py\u001b[0m in \u001b[0;36mcheck_var\u001b[0;34m(var, var_name, dtypes, values)\u001b[0m\n\u001b[1;32m    145\u001b[0m     )\n\u001b[1;32m    146\u001b[0m     \u001b[0;32mif\u001b[0m \u001b[0mvalues\u001b[0m \u001b[0;32mis\u001b[0m \u001b[0;32mnot\u001b[0m \u001b[0;32mNone\u001b[0m\u001b[0;34m:\u001b[0m\u001b[0;34m\u001b[0m\u001b[0;34m\u001b[0m\u001b[0m\n\u001b[0;32m--> 147\u001b[0;31m         _check_values(\n\u001b[0m\u001b[1;32m    148\u001b[0m             \u001b[0mvar\u001b[0m\u001b[0;34m=\u001b[0m\u001b[0mvar\u001b[0m\u001b[0;34m,\u001b[0m\u001b[0;34m\u001b[0m\u001b[0;34m\u001b[0m\u001b[0m\n\u001b[1;32m    149\u001b[0m             \u001b[0mvar_name\u001b[0m\u001b[0;34m=\u001b[0m\u001b[0mvar_name\u001b[0m\u001b[0;34m,\u001b[0m\u001b[0;34m\u001b[0m\u001b[0;34m\u001b[0m\u001b[0m\n",
      "\u001b[0;32m~/Desktop/AmirStuff/GitHub/slick-ml/src/slickml/utils/_base.py\u001b[0m in \u001b[0;36m_check_values\u001b[0;34m(var, var_name, values)\u001b[0m\n\u001b[1;32m    137\u001b[0m             \u001b[0mvalue_error_msg\u001b[0m \u001b[0;34m=\u001b[0m \u001b[0;34mf\"The input {var_name} must have one of {values} values.\"\u001b[0m\u001b[0;34m\u001b[0m\u001b[0;34m\u001b[0m\u001b[0m\n\u001b[1;32m    138\u001b[0m         \u001b[0;32mif\u001b[0m \u001b[0mvar\u001b[0m \u001b[0;32mnot\u001b[0m \u001b[0;32min\u001b[0m \u001b[0mvalues\u001b[0m\u001b[0;34m:\u001b[0m\u001b[0;34m\u001b[0m\u001b[0;34m\u001b[0m\u001b[0m\n\u001b[0;32m--> 139\u001b[0;31m             \u001b[0;32mraise\u001b[0m \u001b[0mValueError\u001b[0m\u001b[0;34m(\u001b[0m\u001b[0mvalue_error_msg\u001b[0m\u001b[0;34m)\u001b[0m\u001b[0;34m\u001b[0m\u001b[0;34m\u001b[0m\u001b[0m\n\u001b[0m\u001b[1;32m    140\u001b[0m \u001b[0;34m\u001b[0m\u001b[0m\n\u001b[1;32m    141\u001b[0m     _check_dtypes(\n",
      "\u001b[0;31mValueError\u001b[0m: The input var_int must have one of (1367, 1400) values."
     ]
    }
   ],
   "metadata": {}
  }
 ],
 "metadata": {
  "kernelspec": {
   "name": "python3",
   "display_name": "Python 3.9.7 64-bit ('.venv': poetry)"
  },
  "language_info": {
   "codemirror_mode": {
    "name": "ipython",
    "version": 3
   },
   "file_extension": ".py",
   "mimetype": "text/x-python",
   "name": "python",
   "nbconvert_exporter": "python",
   "pygments_lexer": "ipython3",
   "version": "3.9.7"
  },
  "interpreter": {
   "hash": "07bad374b921cdabaf2ef6a1d4ae5a7996d892e7452f8d9d13efced363d002df"
  }
 },
 "nbformat": 4,
 "nbformat_minor": 4
}