{
 "cells": [
  {
   "cell_type": "markdown",
   "metadata": {},
   "source": [
    "# `utils.check_var`"
   ]
  },
  {
   "cell_type": "code",
   "execution_count": 1,
   "metadata": {},
   "outputs": [],
   "source": [
    "%load_ext autoreload\n",
    "%autoreload 2"
   ]
  },
  {
   "cell_type": "code",
   "execution_count": 2,
   "metadata": {},
   "outputs": [
    {
     "name": "stdout",
     "output_type": "stream",
     "text": [
      "Loaded SlickML Version = 0.2.1\n"
     ]
    }
   ],
   "source": [
    "import slickml\n",
    "\n",
    "print(f\"Loaded SlickML Version = {slickml.__version__}\")"
   ]
  },
  {
   "cell_type": "code",
   "execution_count": 3,
   "metadata": {},
   "outputs": [
    {
     "name": "stdout",
     "output_type": "stream",
     "text": [
      "Help on function check_var in module slickml.utils._validation:\n",
      "\n",
      "check_var(var: Any, *, var_name: str, dtypes: Union[Any, Tuple[Any]], values: Union[Any, Tuple[Any], NoneType] = None) -> None\n",
      "    Validates the variable's dtype and possible value.\n",
      "    \n",
      "    Parameters\n",
      "    ----------\n",
      "    var : Any\n",
      "        Variable\n",
      "    \n",
      "    var_name : str\n",
      "        Variable name\n",
      "    \n",
      "    dtypes : Union[type, Tuple[type]]\n",
      "        Data type classes\n",
      "    \n",
      "    values : Union[Any, Tuple[Any]], optional\n",
      "        Possible values, by default None\n",
      "    \n",
      "    Returns\n",
      "    -------\n",
      "    None\n",
      "    \n",
      "    Raises\n",
      "    ------\n",
      "    TypeError\n",
      "        If dtypes are invalid\n",
      "    \n",
      "    ValueError\n",
      "        If values are invalid\n",
      "    \n",
      "    Notes\n",
      "    -----\n",
      "    This is the main function that is being used across the API as the variable checker before any\n",
      "    class/function being instantiated. This is our solution instead of using ``pydantic`` validator\n",
      "    and root_validator due to a lot of issues (i.e. data type casting/truncation in a silence mode)\n",
      "    that we have seen in our investigation. Hopefully, when ``pydantic`` version 2.0 is released,\n",
      "    we can use it.\n",
      "    \n",
      "    Examples\n",
      "    --------\n",
      "    >>> from dataclasses import dataclass\n",
      "    >>> from slickml.utils import check_var\n",
      "    >>> @dataclass\n",
      "    ... class Foo:\n",
      "    ...    var_str: str\n",
      "    ...    var_float: float = 42.0\n",
      "    ...    var_int: int = 1367\n",
      "    ...    def __post_init__(self):\n",
      "    ...        check_var(self.var_str, var_name=\"var_str\", dtypes=str)\n",
      "    ...        check_var(self.var_float, var_name=\"var_float\", dtypes=float, values=(41, 42))\n",
      "    ...        check_var(self.var_int, var_name=\"var_int\", dtypes=str, values=(1367, 1400))\n",
      "\n"
     ]
    }
   ],
   "source": [
    "from slickml.utils import check_var\n",
    "\n",
    "help(check_var)"
   ]
  },
  {
   "cell_type": "markdown",
   "metadata": {},
   "source": [
    "### Example 1: `check_var` in validation of `class` variables"
   ]
  },
  {
   "cell_type": "code",
   "execution_count": 4,
   "metadata": {
    "scrolled": true
   },
   "outputs": [],
   "source": [
    "from dataclasses import dataclass\n",
    "from slickml.utils import check_var\n",
    "\n",
    "\n",
    "@dataclass\n",
    "class Foo:\n",
    "    var_str: str\n",
    "    var_float: float = 42.0\n",
    "    var_int: int = 1367\n",
    "\n",
    "    def __post_init__(self):\n",
    "        check_var(\n",
    "            self.var_str,\n",
    "            var_name=\"var_str\",\n",
    "            dtypes=str,\n",
    "        )\n",
    "        check_var(\n",
    "            self.var_float,\n",
    "            var_name=\"var_float\",\n",
    "            dtypes=float,\n",
    "            values=(41, 42),\n",
    "        )\n",
    "        check_var(\n",
    "            self.var_int,\n",
    "            var_name=\"var_int\",\n",
    "            dtypes=int,\n",
    "            values=(1367, 1400),\n",
    "        )"
   ]
  },
  {
   "cell_type": "code",
   "execution_count": 5,
   "metadata": {},
   "outputs": [],
   "source": [
    "f = Foo(var_str=\"qux\")"
   ]
  },
  {
   "cell_type": "markdown",
   "metadata": {},
   "source": [
    "### `class Foo` cannot be instantiated with `invalid` inputs; To fully understand the functionality of `check_var`, please run the cells below and take a look at the `errors` below for each scenario"
   ]
  },
  {
   "cell_type": "code",
   "execution_count": 6,
   "metadata": {},
   "outputs": [
    {
     "ename": "TypeError",
     "evalue": "The input var_str must have str dtype.",
     "output_type": "error",
     "traceback": [
      "\u001b[0;31m---------------------------------------------------------------------------\u001b[0m",
      "\u001b[0;31mTypeError\u001b[0m                                 Traceback (most recent call last)",
      "Cell \u001b[0;32mIn[6], line 1\u001b[0m\n\u001b[0;32m----> 1\u001b[0m f \u001b[38;5;241m=\u001b[39m \u001b[43mFoo\u001b[49m\u001b[43m(\u001b[49m\n\u001b[1;32m      2\u001b[0m \u001b[43m    \u001b[49m\u001b[43mvar_str\u001b[49m\u001b[38;5;241;43m=\u001b[39;49m\u001b[38;5;241;43m1\u001b[39;49m\u001b[43m,\u001b[49m\n\u001b[1;32m      3\u001b[0m \u001b[43m)\u001b[49m\n",
      "File \u001b[0;32m<string>:6\u001b[0m, in \u001b[0;36m__init__\u001b[0;34m(self, var_str, var_float, var_int)\u001b[0m\n",
      "Cell \u001b[0;32mIn[4], line 12\u001b[0m, in \u001b[0;36mFoo.__post_init__\u001b[0;34m(self)\u001b[0m\n\u001b[1;32m     11\u001b[0m \u001b[38;5;28;01mdef\u001b[39;00m \u001b[38;5;21m__post_init__\u001b[39m(\u001b[38;5;28mself\u001b[39m):\n\u001b[0;32m---> 12\u001b[0m     \u001b[43mcheck_var\u001b[49m\u001b[43m(\u001b[49m\n\u001b[1;32m     13\u001b[0m \u001b[43m        \u001b[49m\u001b[38;5;28;43mself\u001b[39;49m\u001b[38;5;241;43m.\u001b[39;49m\u001b[43mvar_str\u001b[49m\u001b[43m,\u001b[49m\n\u001b[1;32m     14\u001b[0m \u001b[43m        \u001b[49m\u001b[43mvar_name\u001b[49m\u001b[38;5;241;43m=\u001b[39;49m\u001b[38;5;124;43m\"\u001b[39;49m\u001b[38;5;124;43mvar_str\u001b[39;49m\u001b[38;5;124;43m\"\u001b[39;49m\u001b[43m,\u001b[49m\n\u001b[1;32m     15\u001b[0m \u001b[43m        \u001b[49m\u001b[43mdtypes\u001b[49m\u001b[38;5;241;43m=\u001b[39;49m\u001b[38;5;28;43mstr\u001b[39;49m\u001b[43m,\u001b[49m\n\u001b[1;32m     16\u001b[0m \u001b[43m    \u001b[49m\u001b[43m)\u001b[49m\n\u001b[1;32m     17\u001b[0m     check_var(\n\u001b[1;32m     18\u001b[0m         \u001b[38;5;28mself\u001b[39m\u001b[38;5;241m.\u001b[39mvar_float,\n\u001b[1;32m     19\u001b[0m         var_name\u001b[38;5;241m=\u001b[39m\u001b[38;5;124m\"\u001b[39m\u001b[38;5;124mvar_float\u001b[39m\u001b[38;5;124m\"\u001b[39m,\n\u001b[1;32m     20\u001b[0m         dtypes\u001b[38;5;241m=\u001b[39m\u001b[38;5;28mfloat\u001b[39m,\n\u001b[1;32m     21\u001b[0m         values\u001b[38;5;241m=\u001b[39m(\u001b[38;5;241m41\u001b[39m, \u001b[38;5;241m42\u001b[39m),\n\u001b[1;32m     22\u001b[0m     )\n\u001b[1;32m     23\u001b[0m     check_var(\n\u001b[1;32m     24\u001b[0m         \u001b[38;5;28mself\u001b[39m\u001b[38;5;241m.\u001b[39mvar_int,\n\u001b[1;32m     25\u001b[0m         var_name\u001b[38;5;241m=\u001b[39m\u001b[38;5;124m\"\u001b[39m\u001b[38;5;124mvar_int\u001b[39m\u001b[38;5;124m\"\u001b[39m,\n\u001b[1;32m     26\u001b[0m         dtypes\u001b[38;5;241m=\u001b[39m\u001b[38;5;28mint\u001b[39m,\n\u001b[1;32m     27\u001b[0m         values\u001b[38;5;241m=\u001b[39m(\u001b[38;5;241m1367\u001b[39m, \u001b[38;5;241m1400\u001b[39m),\n\u001b[1;32m     28\u001b[0m     )\n",
      "File \u001b[0;32m~/Desktop/GitHub/slick-ml/src/slickml/utils/_validation.py:142\u001b[0m, in \u001b[0;36mcheck_var\u001b[0;34m(var, var_name, dtypes, values)\u001b[0m\n\u001b[1;32m    139\u001b[0m     \u001b[38;5;28;01mif\u001b[39;00m var \u001b[38;5;129;01mnot\u001b[39;00m \u001b[38;5;129;01min\u001b[39;00m values:\n\u001b[1;32m    140\u001b[0m         \u001b[38;5;28;01mraise\u001b[39;00m \u001b[38;5;167;01mValueError\u001b[39;00m(value_error_msg)\n\u001b[0;32m--> 142\u001b[0m \u001b[43m_check_dtypes\u001b[49m\u001b[43m(\u001b[49m\n\u001b[1;32m    143\u001b[0m \u001b[43m    \u001b[49m\u001b[43mvar\u001b[49m\u001b[38;5;241;43m=\u001b[39;49m\u001b[43mvar\u001b[49m\u001b[43m,\u001b[49m\n\u001b[1;32m    144\u001b[0m \u001b[43m    \u001b[49m\u001b[43mvar_name\u001b[49m\u001b[38;5;241;43m=\u001b[39;49m\u001b[43mvar_name\u001b[49m\u001b[43m,\u001b[49m\n\u001b[1;32m    145\u001b[0m \u001b[43m    \u001b[49m\u001b[43mdtypes\u001b[49m\u001b[38;5;241;43m=\u001b[39;49m\u001b[43mdtypes\u001b[49m\u001b[43m,\u001b[49m\n\u001b[1;32m    146\u001b[0m \u001b[43m\u001b[49m\u001b[43m)\u001b[49m\n\u001b[1;32m    147\u001b[0m \u001b[38;5;28;01mif\u001b[39;00m values:\n\u001b[1;32m    148\u001b[0m     _check_values(\n\u001b[1;32m    149\u001b[0m         var\u001b[38;5;241m=\u001b[39mvar,\n\u001b[1;32m    150\u001b[0m         var_name\u001b[38;5;241m=\u001b[39mvar_name,\n\u001b[1;32m    151\u001b[0m         values\u001b[38;5;241m=\u001b[39mvalues,\n\u001b[1;32m    152\u001b[0m     )\n",
      "File \u001b[0;32m~/Desktop/GitHub/slick-ml/src/slickml/utils/_validation.py:104\u001b[0m, in \u001b[0;36mcheck_var.<locals>._check_dtypes\u001b[0;34m(var, var_name, dtypes)\u001b[0m\n\u001b[1;32m    102\u001b[0m     type_error_msg \u001b[38;5;241m=\u001b[39m \u001b[38;5;124mf\u001b[39m\u001b[38;5;124m\"\u001b[39m\u001b[38;5;124mThe input \u001b[39m\u001b[38;5;132;01m{\u001b[39;00mvar_name\u001b[38;5;132;01m}\u001b[39;00m\u001b[38;5;124m must have one of \u001b[39m\u001b[38;5;132;01m{\u001b[39;00mdtype_names\u001b[38;5;132;01m}\u001b[39;00m\u001b[38;5;124m dtypes.\u001b[39m\u001b[38;5;124m\"\u001b[39m\n\u001b[1;32m    103\u001b[0m \u001b[38;5;28;01mif\u001b[39;00m \u001b[38;5;129;01mnot\u001b[39;00m \u001b[38;5;28misinstance\u001b[39m(var, dtypes):\n\u001b[0;32m--> 104\u001b[0m     \u001b[38;5;28;01mraise\u001b[39;00m \u001b[38;5;167;01mTypeError\u001b[39;00m(type_error_msg)\n",
      "\u001b[0;31mTypeError\u001b[0m: The input var_str must have str dtype."
     ]
    }
   ],
   "source": [
    "f = Foo(\n",
    "    var_str=1,\n",
    ")"
   ]
  },
  {
   "cell_type": "code",
   "execution_count": null,
   "metadata": {},
   "outputs": [],
   "source": [
    "f = Foo(\n",
    "    var_str=\"baz\",\n",
    "    var_float=43.0,\n",
    ")"
   ]
  },
  {
   "cell_type": "code",
   "execution_count": null,
   "metadata": {},
   "outputs": [],
   "source": [
    "f = Foo(\n",
    "    var_str=\"baz\",\n",
    "    var_float=42.0,\n",
    "    var_int=1.0,\n",
    ")"
   ]
  },
  {
   "cell_type": "code",
   "execution_count": null,
   "metadata": {},
   "outputs": [],
   "source": [
    "f = Foo(\n",
    "    var_str=\"baz\",\n",
    "    var_float=42.0,\n",
    "    var_int=1,\n",
    ")"
   ]
  },
  {
   "cell_type": "markdown",
   "metadata": {},
   "source": [
    "### Feel free to add your favorite `Example` via a `pull-request`.\n",
    "### More details can be found in our [Contributing Document](https://github.com/slickml/slick-ml/blob/master/CONTRIBUTING.md)."
   ]
  }
 ],
 "metadata": {
  "interpreter": {
   "hash": "07bad374b921cdabaf2ef6a1d4ae5a7996d892e7452f8d9d13efced363d002df"
  },
  "kernelspec": {
   "display_name": "Python 3.9.12 64-bit ('.venv': poetry)",
   "name": "python3"
  },
  "language_info": {
   "codemirror_mode": {
    "name": "ipython",
    "version": 3
   },
   "file_extension": ".py",
   "mimetype": "text/x-python",
   "name": "python",
   "nbconvert_exporter": "python",
   "pygments_lexer": "ipython3",
   "version": "3.9.18"
  }
 },
 "nbformat": 4,
 "nbformat_minor": 4
}
