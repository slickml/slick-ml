{
 "cells": [
  {
   "cell_type": "markdown",
   "source": [
    "# `metrics.RegressionMetrics`"
   ],
   "metadata": {}
  },
  {
   "cell_type": "code",
   "execution_count": 1,
   "source": [
    "%load_ext autoreload\n",
    "%autoreload 2"
   ],
   "outputs": [],
   "metadata": {}
  },
  {
   "cell_type": "code",
   "execution_count": 2,
   "source": [
    "import slickml\n",
    "\n",
    "print(f\"Loaded SlickML Version = {slickml.__version__}\")"
   ],
   "outputs": [
    {
     "output_type": "stream",
     "name": "stdout",
     "text": [
      "Loaded SlickML Version = 0.2.0\n"
     ]
    }
   ],
   "metadata": {}
  },
  {
   "cell_type": "code",
   "execution_count": 3,
   "source": [
    "from slickml.metrics import RegressionMetrics\n",
    "\n",
    "help(RegressionMetrics)"
   ],
   "outputs": [
    {
     "output_type": "stream",
     "name": "stdout",
     "text": [
      "Help on class RegressionMetrics in module slickml.metrics._regression:\n",
      "\n",
      "class RegressionMetrics(builtins.object)\n",
      " |  RegressionMetrics(y_true: Union[List[float], numpy.ndarray, pandas.core.series.Series], y_pred: Union[List[float], numpy.ndarray, pandas.core.series.Series], multioutput: Optional[str] = 'uniform_average', precision_digits: Optional[int] = 3, display_df: Optional[bool] = True) -> None\n",
      " |  \n",
      " |  Regression Metrics is a wrapper to calculate all the regression metrics in one place.\n",
      " |  \n",
      " |  Notes\n",
      " |  -----\n",
      " |  In case of multioutput regression, calculation methods can be chosen among\n",
      " |  ``\"raw_values\"``, ``\"uniform_average\"``, and ``\"variance_weighted\"``.\n",
      " |  \n",
      " |  Parameters\n",
      " |  ----------\n",
      " |  y_true : Union[List[float], np.ndarray, pd.Series]\n",
      " |      Ground truth target (response) values\n",
      " |  \n",
      " |  y_pred : Union[List[float], np.ndarray, pd.Series]\n",
      " |      Predicted target (response) values\n",
      " |  \n",
      " |  multioutput : str, optional\n",
      " |      Method to calculate the metric for ``multioutput targets`` where possible values are\n",
      " |      ``\"raw_values\"``, ``\"uniform_average\"``, and ``\"variance_weighted\"``. ``\"raw_values\"``\n",
      " |      returns a full set of scores in case of multioutput input. ``\"uniform_average\"`` scores of\n",
      " |      all outputs are averaged with uniform weight. ``\"variance_weighted\"`` scores of all outputs\n",
      " |      are averaged, weighted by the variances of each individual output, by default \"uniform_average\"\n",
      " |  \n",
      " |  precision_digits : int, optional\n",
      " |      The number of precision digits to format the scores dataframe, by default 3\n",
      " |  \n",
      " |  display_df : bool, optional\n",
      " |      Whether to display the formatted scores' dataframe, by default True\n",
      " |  \n",
      " |  Methods\n",
      " |  -------\n",
      " |  plot(figsize=(12, 16), save_path=None, display_plot=False, return_fig=False)\n",
      " |      Plots regression metrics\n",
      " |  \n",
      " |  get_metrics(dtype=\"dataframe\")\n",
      " |      Returns calculated metrics\n",
      " |  \n",
      " |  Attributes\n",
      " |  ----------\n",
      " |  y_residual_ : np.ndarray\n",
      " |      Residual values (errors) calculated as ``(y_true - y_pred)``\n",
      " |  \n",
      " |  y_residual_normsq_ :  np.ndarray\n",
      " |      Square root of absolute value of ``y_residual_``\n",
      " |  \n",
      " |  r2_ : float\n",
      " |      :math:`R^2` score (coefficient of determination) with a possible value between 0.0 and 1.0\n",
      " |  \n",
      " |  ev_ : float\n",
      " |      Explained variance score with a possible value between 0.0 and 1.0\n",
      " |  \n",
      " |  mae_ : float\n",
      " |      Mean absolute error\n",
      " |  \n",
      " |  mse_ : float\n",
      " |      Mean squared error\n",
      " |  \n",
      " |  msle_ : float\n",
      " |      Mean squared log error\n",
      " |  \n",
      " |  mape_ : float\n",
      " |      Mean absolute percentage error\n",
      " |  \n",
      " |  auc_rec_ : float\n",
      " |      Area under REC curve with a possible value between 0.0 and 1.0\n",
      " |  \n",
      " |  deviation_ :  np.ndarray\n",
      " |      Arranged deviations to plot REC curve\n",
      " |  \n",
      " |  accuracy_ :  np.ndarray\n",
      " |      Calculated accuracy at each deviation to plot REC curve\n",
      " |  \n",
      " |  y_ratio_ :  np.ndarray\n",
      " |      Ratio of ``y_pred/y_true``\n",
      " |  \n",
      " |  mean_y_ratio_ : float\n",
      " |      Mean value of ``y_pred/y_true`` ratio\n",
      " |  \n",
      " |  std_y_ratio_ : float\n",
      " |      Standard deviation value of ``y_pred/y_true`` ratio\n",
      " |  \n",
      " |  cv_y_ratio_ : float\n",
      " |      Coefficient of variation calculated as ``std_y_ratio/mean_y_ratio``\n",
      " |  \n",
      " |  metrics_dict_ : Dict[str, Optional[float]]\n",
      " |      Rounded metrics based on the number of precision digits\n",
      " |  \n",
      " |  metrics_df_ : pd.DataFrame\n",
      " |      Pandas DataFrame of all calculated metrics\n",
      " |  \n",
      " |  plotting_dict_ : Dict[str, Any]\n",
      " |      Plotting properties\n",
      " |  \n",
      " |  References\n",
      " |  ----------\n",
      " |  .. [Tahmassebi-et-al] Tahmassebi, A., Gandomi, A. H., & Meyer-Baese, A. (2018, July).\n",
      " |      A Pareto front based evolutionary model for airfoil self-noise prediction. In 2018 IEEE\n",
      " |      Congress on Evolutionary Computation (CEC) (pp. 1-8). IEEE.\n",
      " |      https://www.amirhessam.com/assets/pdf/projects/cec-airfoil2018.pdf\n",
      " |  \n",
      " |  .. [rec-curve] Bi, J., & Bennett, K. P. (2003). Regression error characteristic curves.\n",
      " |      In Proceedings of the 20th international conference on machine learning\n",
      " |      (ICML-03) (pp. 43-50).\n",
      " |      https://www.aaai.org/Papers/ICML/2003/ICML03-009.pdf\n",
      " |  \n",
      " |  Examples\n",
      " |  --------\n",
      " |  >>> from slickml.metrics import RegressionMetrics\n",
      " |  >>> rm = RegressionMetrics(\n",
      " |  ...     y_true=[3, -0.5, 2, 7],\n",
      " |  ...     y_pred=[2.5, 0.0, 2, 8]\n",
      " |  ... )\n",
      " |  >>> m = rm.get_metrics()\n",
      " |  >>> rm.plot()\n",
      " |  \n",
      " |  Methods defined here:\n",
      " |  \n",
      " |  __eq__(self, other)\n",
      " |  \n",
      " |  __init__(self, y_true: Union[List[float], numpy.ndarray, pandas.core.series.Series], y_pred: Union[List[float], numpy.ndarray, pandas.core.series.Series], multioutput: Optional[str] = 'uniform_average', precision_digits: Optional[int] = 3, display_df: Optional[bool] = True) -> None\n",
      " |  \n",
      " |  __post_init__(self) -> None\n",
      " |      Post instantiation validations and assignments.\n",
      " |  \n",
      " |  __repr__(self)\n",
      " |  \n",
      " |  get_metrics(self, dtype: Optional[str] = 'dataframe') -> Union[pandas.core.frame.DataFrame, Dict[str, Optional[float]]]\n",
      " |      Returns calculated metrics with desired dtypes.\n",
      " |      \n",
      " |      Currently, available output types are ``\"dataframe\"`` and ``\"dict\"``.\n",
      " |      \n",
      " |      Parameters\n",
      " |      ----------\n",
      " |      dtype : str, optional\n",
      " |          Results dtype, by default \"dataframe\"\n",
      " |      \n",
      " |      Returns\n",
      " |      -------\n",
      " |      Union[pd.DataFrame, Dict[str, Optional[float]]]\n",
      " |  \n",
      " |  plot(self, figsize: Optional[Tuple[float, float]] = (12, 16), save_path: Optional[str] = None, display_plot: Optional[bool] = False, return_fig: Optional[bool] = False) -> Optional[matplotlib.figure.Figure]\n",
      " |      Plots regression metrics.\n",
      " |      \n",
      " |      Parameters\n",
      " |      ----------\n",
      " |      figsize : Tuple[float, float], optional\n",
      " |          Figure size, by default (12, 16)\n",
      " |      \n",
      " |      save_path : str, optional\n",
      " |          The full or relative path to save the plot including the image format such as\n",
      " |          \"myplot.png\" or \"../../myplot.pdf\", by default None\n",
      " |      \n",
      " |      display_plot : bool, optional\n",
      " |          Whether to show the plot, by default False\n",
      " |      \n",
      " |      return_fig : bool, optional\n",
      " |          Whether to return figure object, by default False\n",
      " |      \n",
      " |      Returns\n",
      " |      -------\n",
      " |      Figure, optional\n",
      " |  \n",
      " |  ----------------------------------------------------------------------\n",
      " |  Data descriptors defined here:\n",
      " |  \n",
      " |  __dict__\n",
      " |      dictionary for instance variables (if defined)\n",
      " |  \n",
      " |  __weakref__\n",
      " |      list of weak references to the object (if defined)\n",
      " |  \n",
      " |  ----------------------------------------------------------------------\n",
      " |  Data and other attributes defined here:\n",
      " |  \n",
      " |  __annotations__ = {'display_df': typing.Optional[bool], 'multioutput':...\n",
      " |  \n",
      " |  __dataclass_fields__ = {'display_df': Field(name='display_df',type=typ...\n",
      " |  \n",
      " |  __dataclass_params__ = _DataclassParams(init=True,repr=True,eq=True,or...\n",
      " |  \n",
      " |  __hash__ = None\n",
      " |  \n",
      " |  display_df = True\n",
      " |  \n",
      " |  multioutput = 'uniform_average'\n",
      " |  \n",
      " |  precision_digits = 3\n",
      "\n"
     ]
    },
    {
     "output_type": "stream",
     "name": "stderr",
     "text": [
      "/Users/atahmassebi/Desktop/AmirStuff/GitHub/slick-ml/.venv/lib/python3.9/site-packages/tqdm/auto.py:22: TqdmWarning: IProgress not found. Please update jupyter and ipywidgets. See https://ipywidgets.readthedocs.io/en/stable/user_install.html\n",
      "  from .autonotebook import tqdm as notebook_tqdm\n"
     ]
    }
   ],
   "metadata": {}
  },
  {
   "cell_type": "markdown",
   "source": [
    "### Import Python Libraries"
   ],
   "metadata": {}
  },
  {
   "cell_type": "markdown",
   "source": [
    "### Example 1: `RegressionMetrics` for `california-housing` data set and a linear model"
   ],
   "metadata": {}
  },
  {
   "cell_type": "code",
   "execution_count": 4,
   "source": [
    "from sklearn.datasets import fetch_california_housing\n",
    "from sklearn.linear_model import LinearRegression\n",
    "from sklearn.model_selection import cross_val_predict\n",
    "\n",
    "raw_data = fetch_california_housing()\n",
    "X = raw_data.data\n",
    "y_true = raw_data.target\n",
    "model = LinearRegression()\n",
    "y_pred = cross_val_predict(model, X, y_true, cv=4)"
   ],
   "outputs": [],
   "metadata": {}
  },
  {
   "cell_type": "code",
   "execution_count": 5,
   "source": [
    "metrics = RegressionMetrics(y_true, y_pred)"
   ],
   "outputs": [
    {
     "output_type": "display_data",
     "data": {
      "text/html": [
       "<style type=\"text/css\">\n",
       "#T_cdeb4 th {\n",
       "  font-size: 12px;\n",
       "  text-align: left;\n",
       "  font-weight: bold;\n",
       "}\n",
       "#T_cdeb4 td {\n",
       "  font-size: 12px;\n",
       "  text-align: center;\n",
       "}\n",
       "#T_cdeb4_row0_col0, #T_cdeb4_row0_col1, #T_cdeb4_row0_col2, #T_cdeb4_row0_col3, #T_cdeb4_row0_col5, #T_cdeb4_row0_col6, #T_cdeb4_row0_col7, #T_cdeb4_row0_col8 {\n",
       "  background-color: #f0f0f3;\n",
       "  color: #000000;\n",
       "}\n",
       "</style>\n",
       "<table id=\"T_cdeb4\">\n",
       "  <thead>\n",
       "    <tr>\n",
       "      <th class=\"blank level0\" >&nbsp;</th>\n",
       "      <th id=\"T_cdeb4_level0_col0\" class=\"col_heading level0 col0\" >R2 Score</th>\n",
       "      <th id=\"T_cdeb4_level0_col1\" class=\"col_heading level0 col1\" >Explained Variance Score</th>\n",
       "      <th id=\"T_cdeb4_level0_col2\" class=\"col_heading level0 col2\" >Mean Absolute Error</th>\n",
       "      <th id=\"T_cdeb4_level0_col3\" class=\"col_heading level0 col3\" >Mean Squared Error</th>\n",
       "      <th id=\"T_cdeb4_level0_col4\" class=\"col_heading level0 col4\" >Mean Squared Log Error</th>\n",
       "      <th id=\"T_cdeb4_level0_col5\" class=\"col_heading level0 col5\" >Mean Absolute Percentage Error</th>\n",
       "      <th id=\"T_cdeb4_level0_col6\" class=\"col_heading level0 col6\" >REC AUC</th>\n",
       "      <th id=\"T_cdeb4_level0_col7\" class=\"col_heading level0 col7\" >Coeff. of Variation</th>\n",
       "      <th id=\"T_cdeb4_level0_col8\" class=\"col_heading level0 col8\" >Mean of Variation</th>\n",
       "    </tr>\n",
       "  </thead>\n",
       "  <tbody>\n",
       "    <tr>\n",
       "      <th id=\"T_cdeb4_level0_row0\" class=\"row_heading level0 row0\" >Metrics</th>\n",
       "      <td id=\"T_cdeb4_row0_col0\" class=\"data row0 col0\" >0.581000</td>\n",
       "      <td id=\"T_cdeb4_row0_col1\" class=\"data row0 col1\" >0.581000</td>\n",
       "      <td id=\"T_cdeb4_row0_col2\" class=\"data row0 col2\" >0.546000</td>\n",
       "      <td id=\"T_cdeb4_row0_col3\" class=\"data row0 col3\" >0.558000</td>\n",
       "      <td id=\"T_cdeb4_row0_col4\" class=\"data row0 col4\" >None</td>\n",
       "      <td id=\"T_cdeb4_row0_col5\" class=\"data row0 col5\" >0.326000</td>\n",
       "      <td id=\"T_cdeb4_row0_col6\" class=\"data row0 col6\" >0.791000</td>\n",
       "      <td id=\"T_cdeb4_row0_col7\" class=\"data row0 col7\" >0.428000</td>\n",
       "      <td id=\"T_cdeb4_row0_col8\" class=\"data row0 col8\" >1.122000</td>\n",
       "    </tr>\n",
       "  </tbody>\n",
       "</table>\n"
      ],
      "text/plain": [
       "<pandas.io.formats.style.Styler at 0x13685d790>"
      ]
     },
     "metadata": {}
    }
   ],
   "metadata": {}
  },
  {
   "cell_type": "code",
   "execution_count": 6,
   "source": [
    "metrics.plot()"
   ],
   "outputs": [],
   "metadata": {
    "scrolled": false
   }
  },
  {
   "cell_type": "code",
   "execution_count": null,
   "source": [
    "metrics.get_metrics(dtype=\"dataframe\")"
   ],
   "outputs": [
    {
     "output_type": "execute_result",
     "data": {
      "text/html": [
       "<div>\n",
       "<style scoped>\n",
       "    .dataframe tbody tr th:only-of-type {\n",
       "        vertical-align: middle;\n",
       "    }\n",
       "\n",
       "    .dataframe tbody tr th {\n",
       "        vertical-align: top;\n",
       "    }\n",
       "\n",
       "    .dataframe thead th {\n",
       "        text-align: right;\n",
       "    }\n",
       "</style>\n",
       "<table border=\"1\" class=\"dataframe\">\n",
       "  <thead>\n",
       "    <tr style=\"text-align: right;\">\n",
       "      <th></th>\n",
       "      <th>R2 Score</th>\n",
       "      <th>Explained Variance Score</th>\n",
       "      <th>Mean Absolute Error</th>\n",
       "      <th>Mean Squared Error</th>\n",
       "      <th>Mean Squared Log Error</th>\n",
       "      <th>Mean Absolute Percentage Error</th>\n",
       "      <th>REC AUC</th>\n",
       "      <th>Coeff. of Variation</th>\n",
       "      <th>Mean of Variation</th>\n",
       "    </tr>\n",
       "  </thead>\n",
       "  <tbody>\n",
       "    <tr>\n",
       "      <th>Metrics</th>\n",
       "      <td>0.581</td>\n",
       "      <td>0.581</td>\n",
       "      <td>0.546</td>\n",
       "      <td>0.558</td>\n",
       "      <td>None</td>\n",
       "      <td>0.326</td>\n",
       "      <td>0.791</td>\n",
       "      <td>0.428</td>\n",
       "      <td>1.122</td>\n",
       "    </tr>\n",
       "  </tbody>\n",
       "</table>\n",
       "</div>"
      ],
      "text/plain": [
       "         R2 Score  Explained Variance Score  Mean Absolute Error  \\\n",
       "Metrics     0.581                     0.581                0.546   \n",
       "\n",
       "         Mean Squared Error Mean Squared Log Error  \\\n",
       "Metrics               0.558                   None   \n",
       "\n",
       "         Mean Absolute Percentage Error  REC AUC  Coeff. of Variation  \\\n",
       "Metrics                           0.326    0.791                0.428   \n",
       "\n",
       "         Mean of Variation  \n",
       "Metrics              1.122  "
      ]
     },
     "metadata": {},
     "execution_count": 7
    }
   ],
   "metadata": {}
  },
  {
   "cell_type": "code",
   "execution_count": null,
   "source": [
    "metrics.metrics_df_"
   ],
   "outputs": [
    {
     "output_type": "execute_result",
     "data": {
      "text/html": [
       "<div>\n",
       "<style scoped>\n",
       "    .dataframe tbody tr th:only-of-type {\n",
       "        vertical-align: middle;\n",
       "    }\n",
       "\n",
       "    .dataframe tbody tr th {\n",
       "        vertical-align: top;\n",
       "    }\n",
       "\n",
       "    .dataframe thead th {\n",
       "        text-align: right;\n",
       "    }\n",
       "</style>\n",
       "<table border=\"1\" class=\"dataframe\">\n",
       "  <thead>\n",
       "    <tr style=\"text-align: right;\">\n",
       "      <th></th>\n",
       "      <th>R2 Score</th>\n",
       "      <th>Explained Variance Score</th>\n",
       "      <th>Mean Absolute Error</th>\n",
       "      <th>Mean Squared Error</th>\n",
       "      <th>Mean Squared Log Error</th>\n",
       "      <th>Mean Absolute Percentage Error</th>\n",
       "      <th>REC AUC</th>\n",
       "      <th>Coeff. of Variation</th>\n",
       "      <th>Mean of Variation</th>\n",
       "    </tr>\n",
       "  </thead>\n",
       "  <tbody>\n",
       "    <tr>\n",
       "      <th>Metrics</th>\n",
       "      <td>0.581</td>\n",
       "      <td>0.581</td>\n",
       "      <td>0.546</td>\n",
       "      <td>0.558</td>\n",
       "      <td>None</td>\n",
       "      <td>0.326</td>\n",
       "      <td>0.791</td>\n",
       "      <td>0.428</td>\n",
       "      <td>1.122</td>\n",
       "    </tr>\n",
       "  </tbody>\n",
       "</table>\n",
       "</div>"
      ],
      "text/plain": [
       "         R2 Score  Explained Variance Score  Mean Absolute Error  \\\n",
       "Metrics     0.581                     0.581                0.546   \n",
       "\n",
       "         Mean Squared Error Mean Squared Log Error  \\\n",
       "Metrics               0.558                   None   \n",
       "\n",
       "         Mean Absolute Percentage Error  REC AUC  Coeff. of Variation  \\\n",
       "Metrics                           0.326    0.791                0.428   \n",
       "\n",
       "         Mean of Variation  \n",
       "Metrics              1.122  "
      ]
     },
     "metadata": {},
     "execution_count": 8
    }
   ],
   "metadata": {}
  },
  {
   "cell_type": "code",
   "execution_count": null,
   "source": [
    "metrics.get_metrics(dtype=\"dict\")"
   ],
   "outputs": [
    {
     "output_type": "execute_result",
     "data": {
      "text/plain": [
       "{'R2 Score': 0.581,\n",
       " 'Explained Variance Score': 0.581,\n",
       " 'Mean Absolute Error': 0.546,\n",
       " 'Mean Squared Error': 0.558,\n",
       " 'Mean Squared Log Error': None,\n",
       " 'Mean Absolute Percentage Error': 0.326,\n",
       " 'REC AUC': 0.791,\n",
       " 'Coeff. of Variation': 0.428,\n",
       " 'Mean of Variation': 1.122}"
      ]
     },
     "metadata": {},
     "execution_count": 9
    }
   ],
   "metadata": {}
  },
  {
   "cell_type": "code",
   "execution_count": null,
   "source": [
    "metrics.metrics_dict_"
   ],
   "outputs": [
    {
     "output_type": "execute_result",
     "data": {
      "text/plain": [
       "{'R2 Score': 0.581,\n",
       " 'Explained Variance Score': 0.581,\n",
       " 'Mean Absolute Error': 0.546,\n",
       " 'Mean Squared Error': 0.558,\n",
       " 'Mean Squared Log Error': None,\n",
       " 'Mean Absolute Percentage Error': 0.326,\n",
       " 'REC AUC': 0.791,\n",
       " 'Coeff. of Variation': 0.428,\n",
       " 'Mean of Variation': 1.122}"
      ]
     },
     "metadata": {},
     "execution_count": 10
    }
   ],
   "metadata": {}
  },
  {
   "cell_type": "markdown",
   "source": [
    "### Feel free to add your favorite `Example` via a `pull-request`.\n",
    "### More details can be found in our [Contributing Document](https://github.com/slickml/slick-ml/blob/master/CONTRIBUTING.md)."
   ],
   "metadata": {}
  }
 ],
 "metadata": {
  "kernelspec": {
   "name": "python3",
   "display_name": "Python 3.9.12 64-bit ('.venv': poetry)"
  },
  "language_info": {
   "codemirror_mode": {
    "name": "ipython",
    "version": 3
   },
   "file_extension": ".py",
   "mimetype": "text/x-python",
   "name": "python",
   "nbconvert_exporter": "python",
   "pygments_lexer": "ipython3",
   "version": "3.9.12"
  },
  "interpreter": {
   "hash": "07bad374b921cdabaf2ef6a1d4ae5a7996d892e7452f8d9d13efced363d002df"
  }
 },
 "nbformat": 4,
 "nbformat_minor": 4
}