{
 "cells": [
  {
   "cell_type": "markdown",
   "metadata": {},
   "source": [
    "# Example 01: General Use of Noisy Features\n",
    "[![Open In Colab](https://colab.research.google.com/assets/colab-badge.svg)](https://colab.research.google.com/github/slickml/slick-ml/blob/master/examples/feature_engineering/example_01_noisy_features.ipynb)"
   ]
  },
  {
   "cell_type": "markdown",
   "metadata": {},
   "source": [
    "### Google Colab Configuration"
   ]
  },
  {
   "cell_type": "code",
   "execution_count": 1,
   "metadata": {},
   "outputs": [],
   "source": [
    "# !git clone https://github.com/slickml/slick-ml.git\n",
    "# %cd slick-ml\n",
    "# !pip install -r requirements.txt"
   ]
  },
  {
   "cell_type": "markdown",
   "metadata": {},
   "source": [
    "### Local Environment Configuration"
   ]
  },
  {
   "cell_type": "code",
   "execution_count": 2,
   "metadata": {},
   "outputs": [
    {
     "name": "stdout",
     "output_type": "stream",
     "text": [
      "/Users/atahmassebi/Desktop/AmirStuff/GitHub/slick-ml\n"
     ]
    }
   ],
   "source": [
    "# Change path to project root\n",
    "%cd ../.."
   ]
  },
  {
   "cell_type": "markdown",
   "metadata": {},
   "source": [
    "### Import Python Libraries"
   ]
  },
  {
   "cell_type": "code",
   "execution_count": 3,
   "metadata": {},
   "outputs": [
    {
     "data": {
      "text/html": [
       "<style>.container { width:95% !important; }</style>"
      ],
      "text/plain": [
       "<IPython.core.display.HTML object>"
      ]
     },
     "metadata": {},
     "output_type": "display_data"
    }
   ],
   "source": [
    "%load_ext autoreload\n",
    "\n",
    "# widen the screen\n",
    "from IPython.core.display import display, HTML\n",
    "\n",
    "display(HTML(\"<style>.container { width:95% !important; }</style>\"))\n",
    "\n",
    "# change the path and loading class\n",
    "import os, sys\n",
    "import pandas as pd\n",
    "import numpy as np\n",
    "import seaborn as sns"
   ]
  },
  {
   "cell_type": "code",
   "execution_count": 4,
   "metadata": {},
   "outputs": [],
   "source": [
    "%autoreload\n",
    "from slickml.feature_engineering import noisy_features"
   ]
  },
  {
   "cell_type": "markdown",
   "metadata": {},
   "source": [
    "_____\n",
    "# noisy_features Docstring"
   ]
  },
  {
   "cell_type": "code",
   "execution_count": 5,
   "metadata": {},
   "outputs": [
    {
     "name": "stdout",
     "output_type": "stream",
     "text": [
      "Help on function noisy_features in module slickml.feature_engineering:\n",
      "\n",
      "noisy_features(X, random_state=None, prefix=None)\n",
      "    Funtion to use the permuted rows as noisy features.\n",
      "    This is function to permute the rows of a array or a dataframe\n",
      "    and add them back to the as noisy features to explore stability\n",
      "    of the models. In better words, we are permuting the target class.\n",
      "    The input data with shape of (n, m) would be transformed\n",
      "    to output data with shape of(n, 2m).\n",
      "    \n",
      "    Parameters\n",
      "    ----------\n",
      "    X: numpy.array or pandas.DataFrame or array in a form of list of list\n",
      "        Input data (features)\n",
      "    \n",
      "    random_state : integer, optional (default=1367)\n",
      "        Random seed for randomizing the permutations\n",
      "    \n",
      "    prefix= str, optional (default=\"noisy\")\n",
      "        Prefix string that will be added to the noisy features.\n",
      "\n"
     ]
    }
   ],
   "source": [
    "help(noisy_features)"
   ]
  },
  {
   "cell_type": "markdown",
   "metadata": {},
   "source": [
    "### Example 1: Numpy Array"
   ]
  },
  {
   "cell_type": "code",
   "execution_count": 6,
   "metadata": {
    "scrolled": true
   },
   "outputs": [
    {
     "data": {
      "text/plain": [
       "array([[0.53725799, 0.21285866, 0.58977018],\n",
       "       [0.38571465, 0.9787819 , 0.66386145],\n",
       "       [0.60481689, 0.19851342, 0.49246564],\n",
       "       [0.77943364, 0.17917814, 0.92369116]])"
      ]
     },
     "execution_count": 6,
     "metadata": {},
     "output_type": "execute_result"
    }
   ],
   "source": [
    "X = np.random.rand(4, 3)\n",
    "X"
   ]
  },
  {
   "cell_type": "code",
   "execution_count": 7,
   "metadata": {},
   "outputs": [
    {
     "data": {
      "text/html": [
       "<div>\n",
       "<style scoped>\n",
       "    .dataframe tbody tr th:only-of-type {\n",
       "        vertical-align: middle;\n",
       "    }\n",
       "\n",
       "    .dataframe tbody tr th {\n",
       "        vertical-align: top;\n",
       "    }\n",
       "\n",
       "    .dataframe thead th {\n",
       "        text-align: right;\n",
       "    }\n",
       "</style>\n",
       "<table border=\"1\" class=\"dataframe\">\n",
       "  <thead>\n",
       "    <tr style=\"text-align: right;\">\n",
       "      <th></th>\n",
       "      <th>F_0</th>\n",
       "      <th>F_1</th>\n",
       "      <th>F_2</th>\n",
       "      <th>noisy_F_0</th>\n",
       "      <th>noisy_F_1</th>\n",
       "      <th>noisy_F_2</th>\n",
       "    </tr>\n",
       "  </thead>\n",
       "  <tbody>\n",
       "    <tr>\n",
       "      <th>0</th>\n",
       "      <td>0.537258</td>\n",
       "      <td>0.212859</td>\n",
       "      <td>0.589770</td>\n",
       "      <td>0.385715</td>\n",
       "      <td>0.978782</td>\n",
       "      <td>0.663861</td>\n",
       "    </tr>\n",
       "    <tr>\n",
       "      <th>1</th>\n",
       "      <td>0.385715</td>\n",
       "      <td>0.978782</td>\n",
       "      <td>0.663861</td>\n",
       "      <td>0.779434</td>\n",
       "      <td>0.179178</td>\n",
       "      <td>0.923691</td>\n",
       "    </tr>\n",
       "    <tr>\n",
       "      <th>2</th>\n",
       "      <td>0.604817</td>\n",
       "      <td>0.198513</td>\n",
       "      <td>0.492466</td>\n",
       "      <td>0.537258</td>\n",
       "      <td>0.212859</td>\n",
       "      <td>0.589770</td>\n",
       "    </tr>\n",
       "    <tr>\n",
       "      <th>3</th>\n",
       "      <td>0.779434</td>\n",
       "      <td>0.179178</td>\n",
       "      <td>0.923691</td>\n",
       "      <td>0.604817</td>\n",
       "      <td>0.198513</td>\n",
       "      <td>0.492466</td>\n",
       "    </tr>\n",
       "  </tbody>\n",
       "</table>\n",
       "</div>"
      ],
      "text/plain": [
       "        F_0       F_1       F_2  noisy_F_0  noisy_F_1  noisy_F_2\n",
       "0  0.537258  0.212859  0.589770   0.385715   0.978782   0.663861\n",
       "1  0.385715  0.978782  0.663861   0.779434   0.179178   0.923691\n",
       "2  0.604817  0.198513  0.492466   0.537258   0.212859   0.589770\n",
       "3  0.779434  0.179178  0.923691   0.604817   0.198513   0.492466"
      ]
     },
     "execution_count": 7,
     "metadata": {},
     "output_type": "execute_result"
    }
   ],
   "source": [
    "noisy_features(X)"
   ]
  },
  {
   "cell_type": "markdown",
   "metadata": {},
   "source": [
    "### Example 2: Pandas DataFrame"
   ]
  },
  {
   "cell_type": "code",
   "execution_count": 8,
   "metadata": {
    "scrolled": true
   },
   "outputs": [
    {
     "data": {
      "text/html": [
       "<div>\n",
       "<style scoped>\n",
       "    .dataframe tbody tr th:only-of-type {\n",
       "        vertical-align: middle;\n",
       "    }\n",
       "\n",
       "    .dataframe tbody tr th {\n",
       "        vertical-align: top;\n",
       "    }\n",
       "\n",
       "    .dataframe thead th {\n",
       "        text-align: right;\n",
       "    }\n",
       "</style>\n",
       "<table border=\"1\" class=\"dataframe\">\n",
       "  <thead>\n",
       "    <tr style=\"text-align: right;\">\n",
       "      <th></th>\n",
       "      <th>col_0</th>\n",
       "      <th>col_1</th>\n",
       "      <th>col_2</th>\n",
       "    </tr>\n",
       "  </thead>\n",
       "  <tbody>\n",
       "    <tr>\n",
       "      <th>0</th>\n",
       "      <td>0.173211</td>\n",
       "      <td>0.506852</td>\n",
       "      <td>0.978175</td>\n",
       "    </tr>\n",
       "    <tr>\n",
       "      <th>1</th>\n",
       "      <td>0.316684</td>\n",
       "      <td>0.008112</td>\n",
       "      <td>0.970486</td>\n",
       "    </tr>\n",
       "    <tr>\n",
       "      <th>2</th>\n",
       "      <td>0.371676</td>\n",
       "      <td>0.609550</td>\n",
       "      <td>0.219895</td>\n",
       "    </tr>\n",
       "    <tr>\n",
       "      <th>3</th>\n",
       "      <td>0.122510</td>\n",
       "      <td>0.705241</td>\n",
       "      <td>0.889342</td>\n",
       "    </tr>\n",
       "  </tbody>\n",
       "</table>\n",
       "</div>"
      ],
      "text/plain": [
       "      col_0     col_1     col_2\n",
       "0  0.173211  0.506852  0.978175\n",
       "1  0.316684  0.008112  0.970486\n",
       "2  0.371676  0.609550  0.219895\n",
       "3  0.122510  0.705241  0.889342"
      ]
     },
     "execution_count": 8,
     "metadata": {},
     "output_type": "execute_result"
    }
   ],
   "source": [
    "X = pd.DataFrame(np.random.rand(4, 3), columns=[f\"col_{i}\" for i in range(X.shape[1])])\n",
    "X"
   ]
  },
  {
   "cell_type": "code",
   "execution_count": 9,
   "metadata": {},
   "outputs": [
    {
     "data": {
      "text/html": [
       "<div>\n",
       "<style scoped>\n",
       "    .dataframe tbody tr th:only-of-type {\n",
       "        vertical-align: middle;\n",
       "    }\n",
       "\n",
       "    .dataframe tbody tr th {\n",
       "        vertical-align: top;\n",
       "    }\n",
       "\n",
       "    .dataframe thead th {\n",
       "        text-align: right;\n",
       "    }\n",
       "</style>\n",
       "<table border=\"1\" class=\"dataframe\">\n",
       "  <thead>\n",
       "    <tr style=\"text-align: right;\">\n",
       "      <th></th>\n",
       "      <th>col_0</th>\n",
       "      <th>col_1</th>\n",
       "      <th>col_2</th>\n",
       "      <th>noisy_col_0</th>\n",
       "      <th>noisy_col_1</th>\n",
       "      <th>noisy_col_2</th>\n",
       "    </tr>\n",
       "  </thead>\n",
       "  <tbody>\n",
       "    <tr>\n",
       "      <th>0</th>\n",
       "      <td>0.173211</td>\n",
       "      <td>0.506852</td>\n",
       "      <td>0.978175</td>\n",
       "      <td>0.316684</td>\n",
       "      <td>0.008112</td>\n",
       "      <td>0.970486</td>\n",
       "    </tr>\n",
       "    <tr>\n",
       "      <th>1</th>\n",
       "      <td>0.316684</td>\n",
       "      <td>0.008112</td>\n",
       "      <td>0.970486</td>\n",
       "      <td>0.122510</td>\n",
       "      <td>0.705241</td>\n",
       "      <td>0.889342</td>\n",
       "    </tr>\n",
       "    <tr>\n",
       "      <th>2</th>\n",
       "      <td>0.371676</td>\n",
       "      <td>0.609550</td>\n",
       "      <td>0.219895</td>\n",
       "      <td>0.173211</td>\n",
       "      <td>0.506852</td>\n",
       "      <td>0.978175</td>\n",
       "    </tr>\n",
       "    <tr>\n",
       "      <th>3</th>\n",
       "      <td>0.122510</td>\n",
       "      <td>0.705241</td>\n",
       "      <td>0.889342</td>\n",
       "      <td>0.371676</td>\n",
       "      <td>0.609550</td>\n",
       "      <td>0.219895</td>\n",
       "    </tr>\n",
       "  </tbody>\n",
       "</table>\n",
       "</div>"
      ],
      "text/plain": [
       "      col_0     col_1     col_2  noisy_col_0  noisy_col_1  noisy_col_2\n",
       "0  0.173211  0.506852  0.978175     0.316684     0.008112     0.970486\n",
       "1  0.316684  0.008112  0.970486     0.122510     0.705241     0.889342\n",
       "2  0.371676  0.609550  0.219895     0.173211     0.506852     0.978175\n",
       "3  0.122510  0.705241  0.889342     0.371676     0.609550     0.219895"
      ]
     },
     "execution_count": 9,
     "metadata": {},
     "output_type": "execute_result"
    }
   ],
   "source": [
    "noisy_features(X)"
   ]
  },
  {
   "cell_type": "markdown",
   "metadata": {},
   "source": [
    "### Example 3: List"
   ]
  },
  {
   "cell_type": "code",
   "execution_count": 10,
   "metadata": {},
   "outputs": [
    {
     "data": {
      "text/plain": [
       "[[1, 2, 3], [4, 5, 6], [7, 8, 9]]"
      ]
     },
     "execution_count": 10,
     "metadata": {},
     "output_type": "execute_result"
    }
   ],
   "source": [
    "X = [[1, 2, 3], [4, 5, 6], [7, 8, 9]]\n",
    "X"
   ]
  },
  {
   "cell_type": "code",
   "execution_count": 11,
   "metadata": {},
   "outputs": [
    {
     "data": {
      "text/html": [
       "<div>\n",
       "<style scoped>\n",
       "    .dataframe tbody tr th:only-of-type {\n",
       "        vertical-align: middle;\n",
       "    }\n",
       "\n",
       "    .dataframe tbody tr th {\n",
       "        vertical-align: top;\n",
       "    }\n",
       "\n",
       "    .dataframe thead th {\n",
       "        text-align: right;\n",
       "    }\n",
       "</style>\n",
       "<table border=\"1\" class=\"dataframe\">\n",
       "  <thead>\n",
       "    <tr style=\"text-align: right;\">\n",
       "      <th></th>\n",
       "      <th>F_0</th>\n",
       "      <th>F_1</th>\n",
       "      <th>F_2</th>\n",
       "      <th>noisy_F_0</th>\n",
       "      <th>noisy_F_1</th>\n",
       "      <th>noisy_F_2</th>\n",
       "    </tr>\n",
       "  </thead>\n",
       "  <tbody>\n",
       "    <tr>\n",
       "      <th>0</th>\n",
       "      <td>1</td>\n",
       "      <td>2</td>\n",
       "      <td>3</td>\n",
       "      <td>4</td>\n",
       "      <td>5</td>\n",
       "      <td>6</td>\n",
       "    </tr>\n",
       "    <tr>\n",
       "      <th>1</th>\n",
       "      <td>4</td>\n",
       "      <td>5</td>\n",
       "      <td>6</td>\n",
       "      <td>1</td>\n",
       "      <td>2</td>\n",
       "      <td>3</td>\n",
       "    </tr>\n",
       "    <tr>\n",
       "      <th>2</th>\n",
       "      <td>7</td>\n",
       "      <td>8</td>\n",
       "      <td>9</td>\n",
       "      <td>7</td>\n",
       "      <td>8</td>\n",
       "      <td>9</td>\n",
       "    </tr>\n",
       "  </tbody>\n",
       "</table>\n",
       "</div>"
      ],
      "text/plain": [
       "   F_0  F_1  F_2  noisy_F_0  noisy_F_1  noisy_F_2\n",
       "0    1    2    3          4          5          6\n",
       "1    4    5    6          1          2          3\n",
       "2    7    8    9          7          8          9"
      ]
     },
     "execution_count": 11,
     "metadata": {},
     "output_type": "execute_result"
    }
   ],
   "source": [
    "noisy_features(X)"
   ]
  }
 ],
 "metadata": {
  "kernelspec": {
   "display_name": "Python 3 (ipykernel)",
   "language": "python",
   "name": "python3"
  },
  "language_info": {
   "codemirror_mode": {
    "name": "ipython",
    "version": 3
   },
   "file_extension": ".py",
   "mimetype": "text/x-python",
   "name": "python",
   "nbconvert_exporter": "python",
   "pygments_lexer": "ipython3",
   "version": "3.9.6"
  }
 },
 "nbformat": 4,
 "nbformat_minor": 4
}
