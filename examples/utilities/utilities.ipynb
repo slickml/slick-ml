{
 "cells": [
  {
   "cell_type": "markdown",
   "metadata": {},
   "source": [
    "# Utilities Examples"
   ]
  },
  {
   "cell_type": "code",
   "execution_count": 1,
   "metadata": {},
   "outputs": [
    {
     "name": "stdout",
     "output_type": "stream",
     "text": [
      "/Users/atahmassebi/Desktop/AmirStuff/GitHub/slick-ml\n"
     ]
    }
   ],
   "source": [
    "# Change path to project root\n",
    "%cd ../.."
   ]
  },
  {
   "cell_type": "markdown",
   "metadata": {},
   "source": [
    "## Join two dictionaries"
   ]
  },
  {
   "cell_type": "code",
   "execution_count": 3,
   "metadata": {},
   "outputs": [],
   "source": [
    "%autoreload\n",
    "from slickml.utilities import join_dictionaries"
   ]
  },
  {
   "cell_type": "markdown",
   "metadata": {},
   "source": [
    "### Example 1"
   ]
  },
  {
   "cell_type": "code",
   "execution_count": 4,
   "metadata": {
    "scrolled": true
   },
   "outputs": [
    {
     "data": {
      "text/plain": [
       "{'key1': ['Tahmassebi', 'Amir'],\n",
       " 'key3': ['Lees', 'Eitan'],\n",
       " 'key2': ['Smith', 'Trace']}"
      ]
     },
     "execution_count": 4,
     "metadata": {},
     "output_type": "execute_result"
    }
   ],
   "source": [
    "dict1 = {\"key1\": \"Amir\", \"key2\": \"Trace\", \"key3\": \"Eitan\"}\n",
    "dict2 = {\"key1\": \"Tahmassebi\", \"key2\": \"Smith\", \"key3\": \"Lees\"}\n",
    "joined_dicts = join_dictionaries(dict1, dict2)\n",
    "joined_dicts"
   ]
  },
  {
   "cell_type": "markdown",
   "metadata": {},
   "source": [
    "### Example 2"
   ]
  },
  {
   "cell_type": "code",
   "execution_count": 5,
   "metadata": {
    "scrolled": true
   },
   "outputs": [
    {
     "data": {
      "text/plain": [
       "{'key1': ['Amir'], 'key3': ['Brian'], 'key2': ['Smith', 'Trace']}"
      ]
     },
     "execution_count": 5,
     "metadata": {},
     "output_type": "execute_result"
    }
   ],
   "source": [
    "dict1 = {\"key1\": \"Amir\", \"key2\": \"Trace\", \"key3\": \"Brian\"}\n",
    "dict2 = {\"key1\": \"Amir\", \"key2\": \"Smith\"}\n",
    "joined_dicts = join_dictionaries(dict1, dict2)\n",
    "joined_dicts"
   ]
  }
 ],
 "metadata": {
  "kernelspec": {
   "display_name": "Python 3 (ipykernel)",
   "language": "python",
   "name": "python3"
  },
  "language_info": {
   "codemirror_mode": {
    "name": "ipython",
    "version": 3
   },
   "file_extension": ".py",
   "mimetype": "text/x-python",
   "name": "python",
   "nbconvert_exporter": "python",
   "pygments_lexer": "ipython3",
   "version": "3.9.6"
  }
 },
 "nbformat": 4,
 "nbformat_minor": 4
}
